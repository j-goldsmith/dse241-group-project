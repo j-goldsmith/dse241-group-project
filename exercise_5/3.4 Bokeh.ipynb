{
 "cells": [
  {
   "cell_type": "code",
   "execution_count": 4,
   "metadata": {},
   "outputs": [
    {
     "data": {
      "text/html": [
       "\n",
       "    <div class=\"bk-root\">\n",
       "        <a href=\"https://bokeh.pydata.org\" target=\"_blank\" class=\"bk-logo bk-logo-small bk-logo-notebook\"></a>\n",
       "        <span id=\"3f14b721-82e5-4152-a204-36c131f69470\">Loading BokehJS ...</span>\n",
       "    </div>"
      ]
     },
     "metadata": {},
     "output_type": "display_data"
    },
    {
     "data": {
      "application/javascript": [
       "\n",
       "(function(root) {\n",
       "  function now() {\n",
       "    return new Date();\n",
       "  }\n",
       "\n",
       "  var force = true;\n",
       "\n",
       "  if (typeof (root._bokeh_onload_callbacks) === \"undefined\" || force === true) {\n",
       "    root._bokeh_onload_callbacks = [];\n",
       "    root._bokeh_is_loading = undefined;\n",
       "  }\n",
       "\n",
       "  var JS_MIME_TYPE = 'application/javascript';\n",
       "  var HTML_MIME_TYPE = 'text/html';\n",
       "  var EXEC_MIME_TYPE = 'application/vnd.bokehjs_exec.v0+json';\n",
       "  var CLASS_NAME = 'output_bokeh rendered_html';\n",
       "\n",
       "  /**\n",
       "   * Render data to the DOM node\n",
       "   */\n",
       "  function render(props, node) {\n",
       "    var script = document.createElement(\"script\");\n",
       "    node.appendChild(script);\n",
       "  }\n",
       "\n",
       "  /**\n",
       "   * Handle when an output is cleared or removed\n",
       "   */\n",
       "  function handleClearOutput(event, handle) {\n",
       "    var cell = handle.cell;\n",
       "\n",
       "    var id = cell.output_area._bokeh_element_id;\n",
       "    var server_id = cell.output_area._bokeh_server_id;\n",
       "    // Clean up Bokeh references\n",
       "    if (id !== undefined) {\n",
       "      Bokeh.index[id].model.document.clear();\n",
       "      delete Bokeh.index[id];\n",
       "    }\n",
       "\n",
       "    if (server_id !== undefined) {\n",
       "      // Clean up Bokeh references\n",
       "      var cmd = \"from bokeh.io.state import curstate; print(curstate().uuid_to_server['\" + server_id + \"'].get_sessions()[0].document.roots[0]._id)\";\n",
       "      cell.notebook.kernel.execute(cmd, {\n",
       "        iopub: {\n",
       "          output: function(msg) {\n",
       "            var element_id = msg.content.text.trim();\n",
       "            Bokeh.index[element_id].model.document.clear();\n",
       "            delete Bokeh.index[element_id];\n",
       "          }\n",
       "        }\n",
       "      });\n",
       "      // Destroy server and session\n",
       "      var cmd = \"import bokeh.io.notebook as ion; ion.destroy_server('\" + server_id + \"')\";\n",
       "      cell.notebook.kernel.execute(cmd);\n",
       "    }\n",
       "  }\n",
       "\n",
       "  /**\n",
       "   * Handle when a new output is added\n",
       "   */\n",
       "  function handleAddOutput(event, handle) {\n",
       "    var output_area = handle.output_area;\n",
       "    var output = handle.output;\n",
       "\n",
       "    // limit handleAddOutput to display_data with EXEC_MIME_TYPE content only\n",
       "    if ((output.output_type != \"display_data\") || (!output.data.hasOwnProperty(EXEC_MIME_TYPE))) {\n",
       "      return\n",
       "    }\n",
       "\n",
       "    var toinsert = output_area.element.find(\".\" + CLASS_NAME.split(' ')[0]);\n",
       "\n",
       "    if (output.metadata[EXEC_MIME_TYPE][\"id\"] !== undefined) {\n",
       "      toinsert[0].firstChild.textContent = output.data[JS_MIME_TYPE];\n",
       "      // store reference to embed id on output_area\n",
       "      output_area._bokeh_element_id = output.metadata[EXEC_MIME_TYPE][\"id\"];\n",
       "    }\n",
       "    if (output.metadata[EXEC_MIME_TYPE][\"server_id\"] !== undefined) {\n",
       "      var bk_div = document.createElement(\"div\");\n",
       "      bk_div.innerHTML = output.data[HTML_MIME_TYPE];\n",
       "      var script_attrs = bk_div.children[0].attributes;\n",
       "      for (var i = 0; i < script_attrs.length; i++) {\n",
       "        toinsert[0].firstChild.setAttribute(script_attrs[i].name, script_attrs[i].value);\n",
       "      }\n",
       "      // store reference to server id on output_area\n",
       "      output_area._bokeh_server_id = output.metadata[EXEC_MIME_TYPE][\"server_id\"];\n",
       "    }\n",
       "  }\n",
       "\n",
       "  function register_renderer(events, OutputArea) {\n",
       "\n",
       "    function append_mime(data, metadata, element) {\n",
       "      // create a DOM node to render to\n",
       "      var toinsert = this.create_output_subarea(\n",
       "        metadata,\n",
       "        CLASS_NAME,\n",
       "        EXEC_MIME_TYPE\n",
       "      );\n",
       "      this.keyboard_manager.register_events(toinsert);\n",
       "      // Render to node\n",
       "      var props = {data: data, metadata: metadata[EXEC_MIME_TYPE]};\n",
       "      render(props, toinsert[0]);\n",
       "      element.append(toinsert);\n",
       "      return toinsert\n",
       "    }\n",
       "\n",
       "    /* Handle when an output is cleared or removed */\n",
       "    events.on('clear_output.CodeCell', handleClearOutput);\n",
       "    events.on('delete.Cell', handleClearOutput);\n",
       "\n",
       "    /* Handle when a new output is added */\n",
       "    events.on('output_added.OutputArea', handleAddOutput);\n",
       "\n",
       "    /**\n",
       "     * Register the mime type and append_mime function with output_area\n",
       "     */\n",
       "    OutputArea.prototype.register_mime_type(EXEC_MIME_TYPE, append_mime, {\n",
       "      /* Is output safe? */\n",
       "      safe: true,\n",
       "      /* Index of renderer in `output_area.display_order` */\n",
       "      index: 0\n",
       "    });\n",
       "  }\n",
       "\n",
       "  // register the mime type if in Jupyter Notebook environment and previously unregistered\n",
       "  if (root.Jupyter !== undefined) {\n",
       "    var events = require('base/js/events');\n",
       "    var OutputArea = require('notebook/js/outputarea').OutputArea;\n",
       "\n",
       "    if (OutputArea.prototype.mime_types().indexOf(EXEC_MIME_TYPE) == -1) {\n",
       "      register_renderer(events, OutputArea);\n",
       "    }\n",
       "  }\n",
       "\n",
       "  \n",
       "  if (typeof (root._bokeh_timeout) === \"undefined\" || force === true) {\n",
       "    root._bokeh_timeout = Date.now() + 5000;\n",
       "    root._bokeh_failed_load = false;\n",
       "  }\n",
       "\n",
       "  var NB_LOAD_WARNING = {'data': {'text/html':\n",
       "     \"<div style='background-color: #fdd'>\\n\"+\n",
       "     \"<p>\\n\"+\n",
       "     \"BokehJS does not appear to have successfully loaded. If loading BokehJS from CDN, this \\n\"+\n",
       "     \"may be due to a slow or bad network connection. Possible fixes:\\n\"+\n",
       "     \"</p>\\n\"+\n",
       "     \"<ul>\\n\"+\n",
       "     \"<li>re-rerun `output_notebook()` to attempt to load from CDN again, or</li>\\n\"+\n",
       "     \"<li>use INLINE resources instead, as so:</li>\\n\"+\n",
       "     \"</ul>\\n\"+\n",
       "     \"<code>\\n\"+\n",
       "     \"from bokeh.resources import INLINE\\n\"+\n",
       "     \"output_notebook(resources=INLINE)\\n\"+\n",
       "     \"</code>\\n\"+\n",
       "     \"</div>\"}};\n",
       "\n",
       "  function display_loaded() {\n",
       "    var el = document.getElementById(\"3f14b721-82e5-4152-a204-36c131f69470\");\n",
       "    if (el != null) {\n",
       "      el.textContent = \"BokehJS is loading...\";\n",
       "    }\n",
       "    if (root.Bokeh !== undefined) {\n",
       "      if (el != null) {\n",
       "        el.textContent = \"BokehJS \" + root.Bokeh.version + \" successfully loaded.\";\n",
       "      }\n",
       "    } else if (Date.now() < root._bokeh_timeout) {\n",
       "      setTimeout(display_loaded, 100)\n",
       "    }\n",
       "  }\n",
       "\n",
       "\n",
       "  function run_callbacks() {\n",
       "    try {\n",
       "      root._bokeh_onload_callbacks.forEach(function(callback) { callback() });\n",
       "    }\n",
       "    finally {\n",
       "      delete root._bokeh_onload_callbacks\n",
       "    }\n",
       "    console.info(\"Bokeh: all callbacks have finished\");\n",
       "  }\n",
       "\n",
       "  function load_libs(js_urls, callback) {\n",
       "    root._bokeh_onload_callbacks.push(callback);\n",
       "    if (root._bokeh_is_loading > 0) {\n",
       "      console.log(\"Bokeh: BokehJS is being loaded, scheduling callback at\", now());\n",
       "      return null;\n",
       "    }\n",
       "    if (js_urls == null || js_urls.length === 0) {\n",
       "      run_callbacks();\n",
       "      return null;\n",
       "    }\n",
       "    console.log(\"Bokeh: BokehJS not loaded, scheduling load and callback at\", now());\n",
       "    root._bokeh_is_loading = js_urls.length;\n",
       "    for (var i = 0; i < js_urls.length; i++) {\n",
       "      var url = js_urls[i];\n",
       "      var s = document.createElement('script');\n",
       "      s.src = url;\n",
       "      s.async = false;\n",
       "      s.onreadystatechange = s.onload = function() {\n",
       "        root._bokeh_is_loading--;\n",
       "        if (root._bokeh_is_loading === 0) {\n",
       "          console.log(\"Bokeh: all BokehJS libraries loaded\");\n",
       "          run_callbacks()\n",
       "        }\n",
       "      };\n",
       "      s.onerror = function() {\n",
       "        console.warn(\"failed to load library \" + url);\n",
       "      };\n",
       "      console.log(\"Bokeh: injecting script tag for BokehJS library: \", url);\n",
       "      document.getElementsByTagName(\"head\")[0].appendChild(s);\n",
       "    }\n",
       "  };var element = document.getElementById(\"3f14b721-82e5-4152-a204-36c131f69470\");\n",
       "  if (element == null) {\n",
       "    console.log(\"Bokeh: ERROR: autoload.js configured with elementid '3f14b721-82e5-4152-a204-36c131f69470' but no matching script tag was found. \")\n",
       "    return false;\n",
       "  }\n",
       "\n",
       "  var js_urls = [\"https://cdn.pydata.org/bokeh/release/bokeh-0.12.14.min.js\", \"https://cdn.pydata.org/bokeh/release/bokeh-widgets-0.12.14.min.js\", \"https://cdn.pydata.org/bokeh/release/bokeh-tables-0.12.14.min.js\", \"https://cdn.pydata.org/bokeh/release/bokeh-gl-0.12.14.min.js\"];\n",
       "\n",
       "  var inline_js = [\n",
       "    function(Bokeh) {\n",
       "      Bokeh.set_log_level(\"info\");\n",
       "    },\n",
       "    \n",
       "    function(Bokeh) {\n",
       "      \n",
       "    },\n",
       "    function(Bokeh) {\n",
       "      console.log(\"Bokeh: injecting CSS: https://cdn.pydata.org/bokeh/release/bokeh-0.12.14.min.css\");\n",
       "      Bokeh.embed.inject_css(\"https://cdn.pydata.org/bokeh/release/bokeh-0.12.14.min.css\");\n",
       "      console.log(\"Bokeh: injecting CSS: https://cdn.pydata.org/bokeh/release/bokeh-widgets-0.12.14.min.css\");\n",
       "      Bokeh.embed.inject_css(\"https://cdn.pydata.org/bokeh/release/bokeh-widgets-0.12.14.min.css\");\n",
       "      console.log(\"Bokeh: injecting CSS: https://cdn.pydata.org/bokeh/release/bokeh-tables-0.12.14.min.css\");\n",
       "      Bokeh.embed.inject_css(\"https://cdn.pydata.org/bokeh/release/bokeh-tables-0.12.14.min.css\");\n",
       "    }\n",
       "  ];\n",
       "\n",
       "  function run_inline_js() {\n",
       "    \n",
       "    if ((root.Bokeh !== undefined) || (force === true)) {\n",
       "      for (var i = 0; i < inline_js.length; i++) {\n",
       "        inline_js[i].call(root, root.Bokeh);\n",
       "      }if (force === true) {\n",
       "        display_loaded();\n",
       "      }} else if (Date.now() < root._bokeh_timeout) {\n",
       "      setTimeout(run_inline_js, 100);\n",
       "    } else if (!root._bokeh_failed_load) {\n",
       "      console.log(\"Bokeh: BokehJS failed to load within specified timeout.\");\n",
       "      root._bokeh_failed_load = true;\n",
       "    } else if (force !== true) {\n",
       "      var cell = $(document.getElementById(\"3f14b721-82e5-4152-a204-36c131f69470\")).parents('.cell').data().cell;\n",
       "      cell.output_area.append_execute_result(NB_LOAD_WARNING)\n",
       "    }\n",
       "\n",
       "  }\n",
       "\n",
       "  if (root._bokeh_is_loading === 0) {\n",
       "    console.log(\"Bokeh: BokehJS loaded, going straight to plotting\");\n",
       "    run_inline_js();\n",
       "  } else {\n",
       "    load_libs(js_urls, function() {\n",
       "      console.log(\"Bokeh: BokehJS plotting callback run at\", now());\n",
       "      run_inline_js();\n",
       "    });\n",
       "  }\n",
       "}(window));"
      ],
      "application/vnd.bokehjs_load.v0+json": "\n(function(root) {\n  function now() {\n    return new Date();\n  }\n\n  var force = true;\n\n  if (typeof (root._bokeh_onload_callbacks) === \"undefined\" || force === true) {\n    root._bokeh_onload_callbacks = [];\n    root._bokeh_is_loading = undefined;\n  }\n\n  \n\n  \n  if (typeof (root._bokeh_timeout) === \"undefined\" || force === true) {\n    root._bokeh_timeout = Date.now() + 5000;\n    root._bokeh_failed_load = false;\n  }\n\n  var NB_LOAD_WARNING = {'data': {'text/html':\n     \"<div style='background-color: #fdd'>\\n\"+\n     \"<p>\\n\"+\n     \"BokehJS does not appear to have successfully loaded. If loading BokehJS from CDN, this \\n\"+\n     \"may be due to a slow or bad network connection. Possible fixes:\\n\"+\n     \"</p>\\n\"+\n     \"<ul>\\n\"+\n     \"<li>re-rerun `output_notebook()` to attempt to load from CDN again, or</li>\\n\"+\n     \"<li>use INLINE resources instead, as so:</li>\\n\"+\n     \"</ul>\\n\"+\n     \"<code>\\n\"+\n     \"from bokeh.resources import INLINE\\n\"+\n     \"output_notebook(resources=INLINE)\\n\"+\n     \"</code>\\n\"+\n     \"</div>\"}};\n\n  function display_loaded() {\n    var el = document.getElementById(\"3f14b721-82e5-4152-a204-36c131f69470\");\n    if (el != null) {\n      el.textContent = \"BokehJS is loading...\";\n    }\n    if (root.Bokeh !== undefined) {\n      if (el != null) {\n        el.textContent = \"BokehJS \" + root.Bokeh.version + \" successfully loaded.\";\n      }\n    } else if (Date.now() < root._bokeh_timeout) {\n      setTimeout(display_loaded, 100)\n    }\n  }\n\n\n  function run_callbacks() {\n    try {\n      root._bokeh_onload_callbacks.forEach(function(callback) { callback() });\n    }\n    finally {\n      delete root._bokeh_onload_callbacks\n    }\n    console.info(\"Bokeh: all callbacks have finished\");\n  }\n\n  function load_libs(js_urls, callback) {\n    root._bokeh_onload_callbacks.push(callback);\n    if (root._bokeh_is_loading > 0) {\n      console.log(\"Bokeh: BokehJS is being loaded, scheduling callback at\", now());\n      return null;\n    }\n    if (js_urls == null || js_urls.length === 0) {\n      run_callbacks();\n      return null;\n    }\n    console.log(\"Bokeh: BokehJS not loaded, scheduling load and callback at\", now());\n    root._bokeh_is_loading = js_urls.length;\n    for (var i = 0; i < js_urls.length; i++) {\n      var url = js_urls[i];\n      var s = document.createElement('script');\n      s.src = url;\n      s.async = false;\n      s.onreadystatechange = s.onload = function() {\n        root._bokeh_is_loading--;\n        if (root._bokeh_is_loading === 0) {\n          console.log(\"Bokeh: all BokehJS libraries loaded\");\n          run_callbacks()\n        }\n      };\n      s.onerror = function() {\n        console.warn(\"failed to load library \" + url);\n      };\n      console.log(\"Bokeh: injecting script tag for BokehJS library: \", url);\n      document.getElementsByTagName(\"head\")[0].appendChild(s);\n    }\n  };var element = document.getElementById(\"3f14b721-82e5-4152-a204-36c131f69470\");\n  if (element == null) {\n    console.log(\"Bokeh: ERROR: autoload.js configured with elementid '3f14b721-82e5-4152-a204-36c131f69470' but no matching script tag was found. \")\n    return false;\n  }\n\n  var js_urls = [\"https://cdn.pydata.org/bokeh/release/bokeh-0.12.14.min.js\", \"https://cdn.pydata.org/bokeh/release/bokeh-widgets-0.12.14.min.js\", \"https://cdn.pydata.org/bokeh/release/bokeh-tables-0.12.14.min.js\", \"https://cdn.pydata.org/bokeh/release/bokeh-gl-0.12.14.min.js\"];\n\n  var inline_js = [\n    function(Bokeh) {\n      Bokeh.set_log_level(\"info\");\n    },\n    \n    function(Bokeh) {\n      \n    },\n    function(Bokeh) {\n      console.log(\"Bokeh: injecting CSS: https://cdn.pydata.org/bokeh/release/bokeh-0.12.14.min.css\");\n      Bokeh.embed.inject_css(\"https://cdn.pydata.org/bokeh/release/bokeh-0.12.14.min.css\");\n      console.log(\"Bokeh: injecting CSS: https://cdn.pydata.org/bokeh/release/bokeh-widgets-0.12.14.min.css\");\n      Bokeh.embed.inject_css(\"https://cdn.pydata.org/bokeh/release/bokeh-widgets-0.12.14.min.css\");\n      console.log(\"Bokeh: injecting CSS: https://cdn.pydata.org/bokeh/release/bokeh-tables-0.12.14.min.css\");\n      Bokeh.embed.inject_css(\"https://cdn.pydata.org/bokeh/release/bokeh-tables-0.12.14.min.css\");\n    }\n  ];\n\n  function run_inline_js() {\n    \n    if ((root.Bokeh !== undefined) || (force === true)) {\n      for (var i = 0; i < inline_js.length; i++) {\n        inline_js[i].call(root, root.Bokeh);\n      }if (force === true) {\n        display_loaded();\n      }} else if (Date.now() < root._bokeh_timeout) {\n      setTimeout(run_inline_js, 100);\n    } else if (!root._bokeh_failed_load) {\n      console.log(\"Bokeh: BokehJS failed to load within specified timeout.\");\n      root._bokeh_failed_load = true;\n    } else if (force !== true) {\n      var cell = $(document.getElementById(\"3f14b721-82e5-4152-a204-36c131f69470\")).parents('.cell').data().cell;\n      cell.output_area.append_execute_result(NB_LOAD_WARNING)\n    }\n\n  }\n\n  if (root._bokeh_is_loading === 0) {\n    console.log(\"Bokeh: BokehJS loaded, going straight to plotting\");\n    run_inline_js();\n  } else {\n    load_libs(js_urls, function() {\n      console.log(\"Bokeh: BokehJS plotting callback run at\", now());\n      run_inline_js();\n    });\n  }\n}(window));"
     },
     "metadata": {},
     "output_type": "display_data"
    }
   ],
   "source": [
    "from bokeh.io import output_notebook, show\n",
    "from bokeh.plotting import figure\n",
    "output_notebook()"
   ]
  },
  {
   "cell_type": "markdown",
   "metadata": {
    "collapsed": true
   },
   "source": [
    "# Linked Interactions\n",
    "\n",
    "It is possible to link various interactions between different Bokeh plots. For instance, the ranges of two (or more) plots can be linked, so that when one of the plots is panned (or zoomed, or otherwise has its range changed) the other plots will update in unison. It is also possible to link selections between two plots, so that when items are selected on one plot, the corresponding items on the second plot also become selected. "
   ]
  },
  {
   "cell_type": "markdown",
   "metadata": {},
   "source": [
    "## Linked panning\n",
    "\n",
    "Linked panning (when multiple plots have ranges that stay in sync) is simple to spell with Bokeh. You simply share the appropriate range objects between two (or more) plots. The example below shows how to accomplish this by linking the ranges of three plots in various ways:"
   ]
  },
  {
   "cell_type": "code",
   "execution_count": 5,
   "metadata": {},
   "outputs": [
    {
     "data": {
      "text/html": [
       "\n",
       "<div class=\"bk-root\">\n",
       "    <div class=\"bk-plotdiv\" id=\"4adef5fc-6748-4400-8378-c9ab0184d039\"></div>\n",
       "</div>"
      ]
     },
     "metadata": {},
     "output_type": "display_data"
    },
    {
     "data": {
      "application/javascript": [
       "(function(root) {\n",
       "  function embed_document(root) {\n",
       "    \n",
       "  var docs_json = {\"bbeeebfe-97d0-4be1-ab69-f92483cf9448\":{\"roots\":{\"references\":[{\"attributes\":{\"active_drag\":\"auto\",\"active_inspect\":\"auto\",\"active_scroll\":\"auto\",\"active_tap\":\"auto\",\"tools\":[{\"id\":\"646252af-1427-47b1-8e1c-fe8b4515e0e4\",\"type\":\"PanTool\"},{\"id\":\"9a5d17b9-0b0b-4a75-b882-caa5c688da58\",\"type\":\"WheelZoomTool\"}]},\"id\":\"4fb9edad-40ac-4213-b1b3-1ce5df31243f\",\"type\":\"Toolbar\"},{\"attributes\":{\"callback\":null,\"column_names\":[\"x\",\"y\"],\"data\":{\"x\":[0,1,2,3,4,5,6,7,8,9,10],\"y\":[5,4,3,2,1,0,1,2,3,4,5]}},\"id\":\"4493c6bb-d00a-4bbe-a5eb-215482214b68\",\"type\":\"ColumnDataSource\"},{\"attributes\":{\"callback\":null},\"id\":\"b200dc4e-47ff-4ed4-a4ee-81147754537e\",\"type\":\"DataRange1d\"},{\"attributes\":{\"fill_color\":{\"value\":\"olive\"},\"line_color\":{\"value\":\"olive\"},\"size\":{\"units\":\"screen\",\"value\":10},\"x\":{\"field\":\"x\"},\"y\":{\"field\":\"y\"}},\"id\":\"7cb304ed-6c17-414f-806c-512769d53a32\",\"type\":\"Square\"},{\"attributes\":{},\"id\":\"c9ae06a7-e52e-4d90-a77f-e93096d7a060\",\"type\":\"LinearScale\"},{\"attributes\":{},\"id\":\"34110e33-451a-4098-ab9a-5556650b2aa7\",\"type\":\"LinearScale\"},{\"attributes\":{\"data_source\":{\"id\":\"202eb9e2-0eb5-4d46-9af9-b9053f55cc2d\",\"type\":\"ColumnDataSource\"},\"glyph\":{\"id\":\"fb6afd8a-d118-4ab2-8870-bdfa53f1b791\",\"type\":\"Circle\"},\"hover_glyph\":null,\"muted_glyph\":null,\"nonselection_glyph\":{\"id\":\"37604163-7b56-4f24-98be-a2a85285ba2f\",\"type\":\"Circle\"},\"selection_glyph\":null,\"view\":{\"id\":\"3cb95fb8-8055-46e3-9ac3-bba04d659205\",\"type\":\"CDSView\"}},\"id\":\"9cb4dd9f-7e84-4a41-b465-0cadcef15c13\",\"type\":\"GlyphRenderer\"},{\"attributes\":{\"plot\":{\"id\":\"8ade5498-f772-45c8-82d3-cade63191f7c\",\"subtype\":\"Figure\",\"type\":\"Plot\"},\"ticker\":{\"id\":\"8d5ad0e4-5717-404c-9aa2-65def8157170\",\"type\":\"BasicTicker\"}},\"id\":\"198563ac-e145-46d5-ad70-b3adb64599ff\",\"type\":\"Grid\"},{\"attributes\":{\"formatter\":{\"id\":\"de984ed2-bba8-47fa-8f6b-97c632cd0455\",\"type\":\"BasicTickFormatter\"},\"plot\":{\"id\":\"8ade5498-f772-45c8-82d3-cade63191f7c\",\"subtype\":\"Figure\",\"type\":\"Plot\"},\"ticker\":{\"id\":\"8d5ad0e4-5717-404c-9aa2-65def8157170\",\"type\":\"BasicTicker\"}},\"id\":\"3185cbb9-f30e-4f4d-873a-c22a213a5b52\",\"type\":\"LinearAxis\"},{\"attributes\":{},\"id\":\"8d5ad0e4-5717-404c-9aa2-65def8157170\",\"type\":\"BasicTicker\"},{\"attributes\":{\"formatter\":{\"id\":\"bb76b051-c736-4276-b6b3-a148d1369248\",\"type\":\"BasicTickFormatter\"},\"plot\":{\"id\":\"8ade5498-f772-45c8-82d3-cade63191f7c\",\"subtype\":\"Figure\",\"type\":\"Plot\"},\"ticker\":{\"id\":\"817ced92-aa94-4b68-ac72-08b017c7a69d\",\"type\":\"BasicTicker\"}},\"id\":\"d8c056a6-4363-4742-8e72-52d259eb36d6\",\"type\":\"LinearAxis\"},{\"attributes\":{},\"id\":\"817ced92-aa94-4b68-ac72-08b017c7a69d\",\"type\":\"BasicTicker\"},{\"attributes\":{\"dimension\":1,\"plot\":{\"id\":\"8ade5498-f772-45c8-82d3-cade63191f7c\",\"subtype\":\"Figure\",\"type\":\"Plot\"},\"ticker\":{\"id\":\"817ced92-aa94-4b68-ac72-08b017c7a69d\",\"type\":\"BasicTicker\"}},\"id\":\"2f054ddc-4547-4db0-87e1-4636e0ba8b64\",\"type\":\"Grid\"},{\"attributes\":{\"tools\":[{\"id\":\"3aa83ab4-c0c2-4141-ad1e-2c6e8cd672e5\",\"type\":\"PanTool\"},{\"id\":\"1f66361a-7f90-4ba6-9ed9-bc0bb3abe18e\",\"type\":\"WheelZoomTool\"},{\"id\":\"7b8c2df9-51c0-4f02-a4c4-9080376b0881\",\"type\":\"PanTool\"},{\"id\":\"8302d33f-75ee-4e5e-b57f-4bd61dc72028\",\"type\":\"WheelZoomTool\"},{\"id\":\"646252af-1427-47b1-8e1c-fe8b4515e0e4\",\"type\":\"PanTool\"},{\"id\":\"9a5d17b9-0b0b-4a75-b882-caa5c688da58\",\"type\":\"WheelZoomTool\"}]},\"id\":\"fbd2f3b0-a294-4590-b2ec-86d75a33f18e\",\"type\":\"ProxyToolbar\"},{\"attributes\":{\"source\":{\"id\":\"202eb9e2-0eb5-4d46-9af9-b9053f55cc2d\",\"type\":\"ColumnDataSource\"}},\"id\":\"3cb95fb8-8055-46e3-9ac3-bba04d659205\",\"type\":\"CDSView\"},{\"attributes\":{},\"id\":\"646252af-1427-47b1-8e1c-fe8b4515e0e4\",\"type\":\"PanTool\"},{\"attributes\":{\"children\":[{\"id\":\"72d2937a-2c23-416a-81fd-d58498a228c0\",\"subtype\":\"Figure\",\"type\":\"Plot\"},{\"id\":\"466d06d9-cb05-4653-8a23-5b3ca5063645\",\"subtype\":\"Figure\",\"type\":\"Plot\"},{\"id\":\"8ade5498-f772-45c8-82d3-cade63191f7c\",\"subtype\":\"Figure\",\"type\":\"Plot\"}]},\"id\":\"694a596f-4c56-4c16-9fa9-e66b80ecc538\",\"type\":\"Row\"},{\"attributes\":{},\"id\":\"9a5d17b9-0b0b-4a75-b882-caa5c688da58\",\"type\":\"WheelZoomTool\"},{\"attributes\":{\"fill_alpha\":{\"value\":0.1},\"fill_color\":{\"value\":\"#1f77b4\"},\"line_alpha\":{\"value\":0.1},\"line_color\":{\"value\":\"#1f77b4\"},\"size\":{\"units\":\"screen\",\"value\":10},\"x\":{\"field\":\"x\"},\"y\":{\"field\":\"y\"}},\"id\":\"ba3c63b7-034a-4fca-ad29-7898f7e9fbd4\",\"type\":\"Square\"},{\"attributes\":{\"data_source\":{\"id\":\"4493c6bb-d00a-4bbe-a5eb-215482214b68\",\"type\":\"ColumnDataSource\"},\"glyph\":{\"id\":\"7cb304ed-6c17-414f-806c-512769d53a32\",\"type\":\"Square\"},\"hover_glyph\":null,\"muted_glyph\":null,\"nonselection_glyph\":{\"id\":\"ba3c63b7-034a-4fca-ad29-7898f7e9fbd4\",\"type\":\"Square\"},\"selection_glyph\":null,\"view\":{\"id\":\"baf8b1ad-77de-4fb5-bb67-4d56a39bb56b\",\"type\":\"CDSView\"}},\"id\":\"e39084e2-08c6-4a50-9348-c8ddc2ca9862\",\"type\":\"GlyphRenderer\"},{\"attributes\":{\"source\":{\"id\":\"4493c6bb-d00a-4bbe-a5eb-215482214b68\",\"type\":\"ColumnDataSource\"}},\"id\":\"baf8b1ad-77de-4fb5-bb67-4d56a39bb56b\",\"type\":\"CDSView\"},{\"attributes\":{},\"id\":\"de984ed2-bba8-47fa-8f6b-97c632cd0455\",\"type\":\"BasicTickFormatter\"},{\"attributes\":{\"plot\":null,\"text\":\"\"},\"id\":\"1be3450d-c724-405c-9651-aa6865d4e63c\",\"type\":\"Title\"},{\"attributes\":{},\"id\":\"bb76b051-c736-4276-b6b3-a148d1369248\",\"type\":\"BasicTickFormatter\"},{\"attributes\":{\"below\":[{\"id\":\"a618ec5e-3a89-4cb1-b530-dc1adda53f4d\",\"type\":\"LinearAxis\"}],\"left\":[{\"id\":\"b102122d-6564-4864-a618-9e99e3ffd866\",\"type\":\"LinearAxis\"}],\"plot_height\":250,\"plot_width\":250,\"renderers\":[{\"id\":\"a618ec5e-3a89-4cb1-b530-dc1adda53f4d\",\"type\":\"LinearAxis\"},{\"id\":\"d484d933-8632-44c7-ae84-b0165b706df5\",\"type\":\"Grid\"},{\"id\":\"b102122d-6564-4864-a618-9e99e3ffd866\",\"type\":\"LinearAxis\"},{\"id\":\"6b34f941-df37-4485-ab1a-e851c12706c8\",\"type\":\"Grid\"},{\"id\":\"9cb4dd9f-7e84-4a41-b465-0cadcef15c13\",\"type\":\"GlyphRenderer\"}],\"title\":{\"id\":\"1179fd62-c162-4d10-b87e-3edb916d8c15\",\"type\":\"Title\"},\"toolbar\":{\"id\":\"9e84342a-f491-4c93-adc9-a507323e679d\",\"type\":\"Toolbar\"},\"toolbar_location\":null,\"x_range\":{\"id\":\"22df3c2c-3f75-4889-815c-a4dff10ef3d6\",\"type\":\"DataRange1d\"},\"x_scale\":{\"id\":\"a742cc19-4438-4850-99a3-87c088c86dd0\",\"type\":\"LinearScale\"},\"y_range\":{\"id\":\"04a54040-e704-476b-87a2-ebf77da0af55\",\"type\":\"DataRange1d\"},\"y_scale\":{\"id\":\"3ca6014f-48c9-4e27-b7c5-40d583042240\",\"type\":\"LinearScale\"}},\"id\":\"72d2937a-2c23-416a-81fd-d58498a228c0\",\"subtype\":\"Figure\",\"type\":\"Plot\"},{\"attributes\":{\"active_drag\":\"auto\",\"active_inspect\":\"auto\",\"active_scroll\":\"auto\",\"active_tap\":\"auto\",\"tools\":[{\"id\":\"3aa83ab4-c0c2-4141-ad1e-2c6e8cd672e5\",\"type\":\"PanTool\"},{\"id\":\"1f66361a-7f90-4ba6-9ed9-bc0bb3abe18e\",\"type\":\"WheelZoomTool\"}]},\"id\":\"9e84342a-f491-4c93-adc9-a507323e679d\",\"type\":\"Toolbar\"},{\"attributes\":{\"toolbar\":{\"id\":\"fbd2f3b0-a294-4590-b2ec-86d75a33f18e\",\"type\":\"ProxyToolbar\"},\"toolbar_location\":\"above\"},\"id\":\"db9a31b8-8f86-493e-a668-2294fedc0dba\",\"type\":\"ToolbarBox\"},{\"attributes\":{\"children\":[{\"id\":\"db9a31b8-8f86-493e-a668-2294fedc0dba\",\"type\":\"ToolbarBox\"},{\"id\":\"b81c0ec6-54d1-4fd9-b5c3-8ae52763b06a\",\"type\":\"Column\"}]},\"id\":\"d56f7a6a-fb84-478e-b739-a66b4d8f4baf\",\"type\":\"Column\"},{\"attributes\":{\"callback\":null},\"id\":\"22df3c2c-3f75-4889-815c-a4dff10ef3d6\",\"type\":\"DataRange1d\"},{\"attributes\":{\"callback\":null},\"id\":\"04a54040-e704-476b-87a2-ebf77da0af55\",\"type\":\"DataRange1d\"},{\"attributes\":{\"callback\":null,\"column_names\":[\"x\",\"y\"],\"data\":{\"x\":[0,1,2,3,4,5,6,7,8,9,10],\"y\":[0,1,2,3,4,5,6,7,8,9,10]}},\"id\":\"202eb9e2-0eb5-4d46-9af9-b9053f55cc2d\",\"type\":\"ColumnDataSource\"},{\"attributes\":{},\"id\":\"a742cc19-4438-4850-99a3-87c088c86dd0\",\"type\":\"LinearScale\"},{\"attributes\":{},\"id\":\"3ca6014f-48c9-4e27-b7c5-40d583042240\",\"type\":\"LinearScale\"},{\"attributes\":{\"fill_color\":{\"value\":\"navy\"},\"line_color\":{\"value\":\"navy\"},\"size\":{\"units\":\"screen\",\"value\":10},\"x\":{\"field\":\"x\"},\"y\":{\"field\":\"y\"}},\"id\":\"fb6afd8a-d118-4ab2-8870-bdfa53f1b791\",\"type\":\"Circle\"},{\"attributes\":{\"formatter\":{\"id\":\"73912bf8-dd49-4375-82d0-662a94cb2bd3\",\"type\":\"BasicTickFormatter\"},\"plot\":{\"id\":\"72d2937a-2c23-416a-81fd-d58498a228c0\",\"subtype\":\"Figure\",\"type\":\"Plot\"},\"ticker\":{\"id\":\"f63ec8f3-4135-464f-8acd-2cebae00cb03\",\"type\":\"BasicTicker\"}},\"id\":\"a618ec5e-3a89-4cb1-b530-dc1adda53f4d\",\"type\":\"LinearAxis\"},{\"attributes\":{},\"id\":\"f63ec8f3-4135-464f-8acd-2cebae00cb03\",\"type\":\"BasicTicker\"},{\"attributes\":{\"plot\":{\"id\":\"72d2937a-2c23-416a-81fd-d58498a228c0\",\"subtype\":\"Figure\",\"type\":\"Plot\"},\"ticker\":{\"id\":\"f63ec8f3-4135-464f-8acd-2cebae00cb03\",\"type\":\"BasicTicker\"}},\"id\":\"d484d933-8632-44c7-ae84-b0165b706df5\",\"type\":\"Grid\"},{\"attributes\":{\"formatter\":{\"id\":\"aad02c6d-e187-4faf-9f91-0270c78109bd\",\"type\":\"BasicTickFormatter\"},\"plot\":{\"id\":\"72d2937a-2c23-416a-81fd-d58498a228c0\",\"subtype\":\"Figure\",\"type\":\"Plot\"},\"ticker\":{\"id\":\"8be90799-ed00-42d0-8ad3-86283483b996\",\"type\":\"BasicTicker\"}},\"id\":\"b102122d-6564-4864-a618-9e99e3ffd866\",\"type\":\"LinearAxis\"},{\"attributes\":{},\"id\":\"8be90799-ed00-42d0-8ad3-86283483b996\",\"type\":\"BasicTicker\"},{\"attributes\":{\"dimension\":1,\"plot\":{\"id\":\"72d2937a-2c23-416a-81fd-d58498a228c0\",\"subtype\":\"Figure\",\"type\":\"Plot\"},\"ticker\":{\"id\":\"8be90799-ed00-42d0-8ad3-86283483b996\",\"type\":\"BasicTicker\"}},\"id\":\"6b34f941-df37-4485-ab1a-e851c12706c8\",\"type\":\"Grid\"},{\"attributes\":{},\"id\":\"1f66361a-7f90-4ba6-9ed9-bc0bb3abe18e\",\"type\":\"WheelZoomTool\"},{\"attributes\":{\"fill_alpha\":{\"value\":0.1},\"fill_color\":{\"value\":\"#1f77b4\"},\"line_alpha\":{\"value\":0.1},\"line_color\":{\"value\":\"#1f77b4\"},\"size\":{\"units\":\"screen\",\"value\":10},\"x\":{\"field\":\"x\"},\"y\":{\"field\":\"y\"}},\"id\":\"37604163-7b56-4f24-98be-a2a85285ba2f\",\"type\":\"Circle\"},{\"attributes\":{},\"id\":\"3aa83ab4-c0c2-4141-ad1e-2c6e8cd672e5\",\"type\":\"PanTool\"},{\"attributes\":{\"below\":[{\"id\":\"cb295b1a-88df-4855-a9cc-20b609dc199b\",\"type\":\"LinearAxis\"}],\"left\":[{\"id\":\"2bdcd23f-81d3-4f23-9999-f67635ea8277\",\"type\":\"LinearAxis\"}],\"plot_height\":250,\"plot_width\":250,\"renderers\":[{\"id\":\"cb295b1a-88df-4855-a9cc-20b609dc199b\",\"type\":\"LinearAxis\"},{\"id\":\"802381cf-1ab2-41b9-bd77-cd0ccc9cc0fd\",\"type\":\"Grid\"},{\"id\":\"2bdcd23f-81d3-4f23-9999-f67635ea8277\",\"type\":\"LinearAxis\"},{\"id\":\"103ea8c9-487f-4c68-86ab-8771b7549808\",\"type\":\"Grid\"},{\"id\":\"2de0418a-9070-4775-a8a8-d2197fc4ac6f\",\"type\":\"GlyphRenderer\"}],\"title\":{\"id\":\"01121df9-0bd1-4300-910e-9f6f3e446ffe\",\"type\":\"Title\"},\"toolbar\":{\"id\":\"4ccb0547-7c55-4fad-ac2b-5a3cc9eb3630\",\"type\":\"Toolbar\"},\"toolbar_location\":null,\"x_range\":{\"id\":\"22df3c2c-3f75-4889-815c-a4dff10ef3d6\",\"type\":\"DataRange1d\"},\"x_scale\":{\"id\":\"c384377e-52a6-4d72-b40d-1d8990620289\",\"type\":\"LinearScale\"},\"y_range\":{\"id\":\"04a54040-e704-476b-87a2-ebf77da0af55\",\"type\":\"DataRange1d\"},\"y_scale\":{\"id\":\"cb6feb75-dacd-4884-a2ac-68789fb8a729\",\"type\":\"LinearScale\"}},\"id\":\"466d06d9-cb05-4653-8a23-5b3ca5063645\",\"subtype\":\"Figure\",\"type\":\"Plot\"},{\"attributes\":{},\"id\":\"aad02c6d-e187-4faf-9f91-0270c78109bd\",\"type\":\"BasicTickFormatter\"},{\"attributes\":{\"callback\":null,\"column_names\":[\"x\",\"y\"],\"data\":{\"x\":[0,1,2,3,4,5,6,7,8,9,10],\"y\":[10,9,8,7,6,5,4,3,2,1,0]}},\"id\":\"9b9acd6a-f24c-44fa-bda2-c00c3de9bc71\",\"type\":\"ColumnDataSource\"},{\"attributes\":{},\"id\":\"c384377e-52a6-4d72-b40d-1d8990620289\",\"type\":\"LinearScale\"},{\"attributes\":{\"formatter\":{\"id\":\"10949925-1f80-4391-9be6-aad773d4ed8f\",\"type\":\"BasicTickFormatter\"},\"plot\":{\"id\":\"466d06d9-cb05-4653-8a23-5b3ca5063645\",\"subtype\":\"Figure\",\"type\":\"Plot\"},\"ticker\":{\"id\":\"7559250e-833c-4eaa-8203-a7a72c36f2eb\",\"type\":\"BasicTicker\"}},\"id\":\"cb295b1a-88df-4855-a9cc-20b609dc199b\",\"type\":\"LinearAxis\"},{\"attributes\":{\"plot\":{\"id\":\"466d06d9-cb05-4653-8a23-5b3ca5063645\",\"subtype\":\"Figure\",\"type\":\"Plot\"},\"ticker\":{\"id\":\"7559250e-833c-4eaa-8203-a7a72c36f2eb\",\"type\":\"BasicTicker\"}},\"id\":\"802381cf-1ab2-41b9-bd77-cd0ccc9cc0fd\",\"type\":\"Grid\"},{\"attributes\":{\"active_drag\":\"auto\",\"active_inspect\":\"auto\",\"active_scroll\":\"auto\",\"active_tap\":\"auto\",\"tools\":[{\"id\":\"7b8c2df9-51c0-4f02-a4c4-9080376b0881\",\"type\":\"PanTool\"},{\"id\":\"8302d33f-75ee-4e5e-b57f-4bd61dc72028\",\"type\":\"WheelZoomTool\"}]},\"id\":\"4ccb0547-7c55-4fad-ac2b-5a3cc9eb3630\",\"type\":\"Toolbar\"},{\"attributes\":{\"plot\":null,\"text\":\"\"},\"id\":\"01121df9-0bd1-4300-910e-9f6f3e446ffe\",\"type\":\"Title\"},{\"attributes\":{\"plot\":null,\"text\":\"\"},\"id\":\"1179fd62-c162-4d10-b87e-3edb916d8c15\",\"type\":\"Title\"},{\"attributes\":{},\"id\":\"cb6feb75-dacd-4884-a2ac-68789fb8a729\",\"type\":\"LinearScale\"},{\"attributes\":{},\"id\":\"7559250e-833c-4eaa-8203-a7a72c36f2eb\",\"type\":\"BasicTicker\"},{\"attributes\":{\"formatter\":{\"id\":\"adb3d136-d21e-44b6-8f5b-02275e92b08f\",\"type\":\"BasicTickFormatter\"},\"plot\":{\"id\":\"466d06d9-cb05-4653-8a23-5b3ca5063645\",\"subtype\":\"Figure\",\"type\":\"Plot\"},\"ticker\":{\"id\":\"c9fdc9e5-0522-4d9d-9a1c-3a0d24f0d1df\",\"type\":\"BasicTicker\"}},\"id\":\"2bdcd23f-81d3-4f23-9999-f67635ea8277\",\"type\":\"LinearAxis\"},{\"attributes\":{},\"id\":\"c9fdc9e5-0522-4d9d-9a1c-3a0d24f0d1df\",\"type\":\"BasicTicker\"},{\"attributes\":{\"dimension\":1,\"plot\":{\"id\":\"466d06d9-cb05-4653-8a23-5b3ca5063645\",\"subtype\":\"Figure\",\"type\":\"Plot\"},\"ticker\":{\"id\":\"c9fdc9e5-0522-4d9d-9a1c-3a0d24f0d1df\",\"type\":\"BasicTicker\"}},\"id\":\"103ea8c9-487f-4c68-86ab-8771b7549808\",\"type\":\"Grid\"},{\"attributes\":{\"children\":[{\"id\":\"694a596f-4c56-4c16-9fa9-e66b80ecc538\",\"type\":\"Row\"}]},\"id\":\"b81c0ec6-54d1-4fd9-b5c3-8ae52763b06a\",\"type\":\"Column\"},{\"attributes\":{},\"id\":\"7b8c2df9-51c0-4f02-a4c4-9080376b0881\",\"type\":\"PanTool\"},{\"attributes\":{\"below\":[{\"id\":\"3185cbb9-f30e-4f4d-873a-c22a213a5b52\",\"type\":\"LinearAxis\"}],\"left\":[{\"id\":\"d8c056a6-4363-4742-8e72-52d259eb36d6\",\"type\":\"LinearAxis\"}],\"plot_height\":250,\"plot_width\":250,\"renderers\":[{\"id\":\"3185cbb9-f30e-4f4d-873a-c22a213a5b52\",\"type\":\"LinearAxis\"},{\"id\":\"198563ac-e145-46d5-ad70-b3adb64599ff\",\"type\":\"Grid\"},{\"id\":\"d8c056a6-4363-4742-8e72-52d259eb36d6\",\"type\":\"LinearAxis\"},{\"id\":\"2f054ddc-4547-4db0-87e1-4636e0ba8b64\",\"type\":\"Grid\"},{\"id\":\"e39084e2-08c6-4a50-9348-c8ddc2ca9862\",\"type\":\"GlyphRenderer\"}],\"title\":{\"id\":\"1be3450d-c724-405c-9651-aa6865d4e63c\",\"type\":\"Title\"},\"toolbar\":{\"id\":\"4fb9edad-40ac-4213-b1b3-1ce5df31243f\",\"type\":\"Toolbar\"},\"toolbar_location\":null,\"x_range\":{\"id\":\"22df3c2c-3f75-4889-815c-a4dff10ef3d6\",\"type\":\"DataRange1d\"},\"x_scale\":{\"id\":\"c9ae06a7-e52e-4d90-a77f-e93096d7a060\",\"type\":\"LinearScale\"},\"y_range\":{\"id\":\"b200dc4e-47ff-4ed4-a4ee-81147754537e\",\"type\":\"DataRange1d\"},\"y_scale\":{\"id\":\"34110e33-451a-4098-ab9a-5556650b2aa7\",\"type\":\"LinearScale\"}},\"id\":\"8ade5498-f772-45c8-82d3-cade63191f7c\",\"subtype\":\"Figure\",\"type\":\"Plot\"},{\"attributes\":{},\"id\":\"8302d33f-75ee-4e5e-b57f-4bd61dc72028\",\"type\":\"WheelZoomTool\"},{\"attributes\":{\"fill_color\":{\"value\":\"firebrick\"},\"line_color\":{\"value\":\"firebrick\"},\"size\":{\"units\":\"screen\",\"value\":10},\"x\":{\"field\":\"x\"},\"y\":{\"field\":\"y\"}},\"id\":\"e795d092-0f18-4f56-a4b0-b239e0e2ef4c\",\"type\":\"Triangle\"},{\"attributes\":{},\"id\":\"adb3d136-d21e-44b6-8f5b-02275e92b08f\",\"type\":\"BasicTickFormatter\"},{\"attributes\":{\"fill_alpha\":{\"value\":0.1},\"fill_color\":{\"value\":\"#1f77b4\"},\"line_alpha\":{\"value\":0.1},\"line_color\":{\"value\":\"#1f77b4\"},\"size\":{\"units\":\"screen\",\"value\":10},\"x\":{\"field\":\"x\"},\"y\":{\"field\":\"y\"}},\"id\":\"a306d97d-4cf0-403a-b1b7-7ab58d48a247\",\"type\":\"Triangle\"},{\"attributes\":{\"data_source\":{\"id\":\"9b9acd6a-f24c-44fa-bda2-c00c3de9bc71\",\"type\":\"ColumnDataSource\"},\"glyph\":{\"id\":\"e795d092-0f18-4f56-a4b0-b239e0e2ef4c\",\"type\":\"Triangle\"},\"hover_glyph\":null,\"muted_glyph\":null,\"nonselection_glyph\":{\"id\":\"a306d97d-4cf0-403a-b1b7-7ab58d48a247\",\"type\":\"Triangle\"},\"selection_glyph\":null,\"view\":{\"id\":\"168bfef5-e621-4e6c-91d4-f7906af6b939\",\"type\":\"CDSView\"}},\"id\":\"2de0418a-9070-4775-a8a8-d2197fc4ac6f\",\"type\":\"GlyphRenderer\"},{\"attributes\":{\"source\":{\"id\":\"9b9acd6a-f24c-44fa-bda2-c00c3de9bc71\",\"type\":\"ColumnDataSource\"}},\"id\":\"168bfef5-e621-4e6c-91d4-f7906af6b939\",\"type\":\"CDSView\"},{\"attributes\":{},\"id\":\"10949925-1f80-4391-9be6-aad773d4ed8f\",\"type\":\"BasicTickFormatter\"},{\"attributes\":{},\"id\":\"73912bf8-dd49-4375-82d0-662a94cb2bd3\",\"type\":\"BasicTickFormatter\"}],\"root_ids\":[\"d56f7a6a-fb84-478e-b739-a66b4d8f4baf\"]},\"title\":\"Bokeh Application\",\"version\":\"0.12.14\"}};\n",
       "  var render_items = [{\"docid\":\"bbeeebfe-97d0-4be1-ab69-f92483cf9448\",\"elementid\":\"4adef5fc-6748-4400-8378-c9ab0184d039\",\"modelid\":\"d56f7a6a-fb84-478e-b739-a66b4d8f4baf\"}];\n",
       "  root.Bokeh.embed.embed_items_notebook(docs_json, render_items);\n",
       "\n",
       "  }\n",
       "  if (root.Bokeh !== undefined) {\n",
       "    embed_document(root);\n",
       "  } else {\n",
       "    var attempts = 0;\n",
       "    var timer = setInterval(function(root) {\n",
       "      if (root.Bokeh !== undefined) {\n",
       "        embed_document(root);\n",
       "        clearInterval(timer);\n",
       "      }\n",
       "      attempts++;\n",
       "      if (attempts > 100) {\n",
       "        console.log(\"Bokeh: ERROR: Unable to run BokehJS code because BokehJS library is missing\")\n",
       "        clearInterval(timer);\n",
       "      }\n",
       "    }, 10, root)\n",
       "  }\n",
       "})(window);"
      ],
      "application/vnd.bokehjs_exec.v0+json": ""
     },
     "metadata": {
      "application/vnd.bokehjs_exec.v0+json": {
       "id": "d56f7a6a-fb84-478e-b739-a66b4d8f4baf"
      }
     },
     "output_type": "display_data"
    }
   ],
   "source": [
    "from bokeh.layouts import gridplot\n",
    "\n",
    "x = list(range(11))\n",
    "y0, y1, y2 = x, [10-i for i in x], [abs(i-5) for i in x]\n",
    "\n",
    "plot_options = dict(width=250, plot_height=250, tools='pan,wheel_zoom')\n",
    "\n",
    "# create a new plot\n",
    "s1 = figure(**plot_options)\n",
    "s1.circle(x, y0, size=10, color=\"navy\")\n",
    "\n",
    "# create a new plot and share both ranges\n",
    "s2 = figure(x_range=s1.x_range, y_range=s1.y_range, **plot_options)\n",
    "s2.triangle(x, y1, size=10, color=\"firebrick\")\n",
    "\n",
    "# create a new plot and share only one range\n",
    "s3 = figure(x_range=s1.x_range, **plot_options)\n",
    "s3.square(x, y2, size=10, color=\"olive\")\n",
    "\n",
    "p = gridplot([[s1, s2, s3]])\n",
    "\n",
    "# show the results\n",
    "show(p)"
   ]
  },
  {
   "cell_type": "code",
   "execution_count": null,
   "metadata": {},
   "outputs": [],
   "source": [
    "# EXERCISE: create two plots in a gridplot, and link their ranges\n"
   ]
  },
  {
   "cell_type": "markdown",
   "metadata": {},
   "source": [
    "## Linked brushing\n",
    "\n",
    "Linking selections is accomplished in a similar way, by sharing data sources between plots. Note that normally with ``bokeh.plotting`` and ``bokeh.charts`` creating a default data source for simple plots is handled automatically. However to share a data source, we must create them by hand and pass them explicitly. This is illustrated in the example below:"
   ]
  },
  {
   "cell_type": "code",
   "execution_count": 6,
   "metadata": {},
   "outputs": [
    {
     "data": {
      "text/html": [
       "\n",
       "<div class=\"bk-root\">\n",
       "    <div class=\"bk-plotdiv\" id=\"d12fe2e8-d754-45cb-b297-ca52d30cd13d\"></div>\n",
       "</div>"
      ]
     },
     "metadata": {},
     "output_type": "display_data"
    },
    {
     "data": {
      "application/javascript": [
       "(function(root) {\n",
       "  function embed_document(root) {\n",
       "    \n",
       "  var docs_json = {\"38c6a710-a3ee-46aa-b9fe-1ea797b2c0c7\":{\"roots\":{\"references\":[{\"attributes\":{\"tools\":[{\"id\":\"5da7fcdc-c180-4d2d-98c0-86c3edf2c784\",\"type\":\"BoxSelectTool\"},{\"id\":\"b29dc821-cc0c-4306-aa47-5650fd41d1b0\",\"type\":\"LassoSelectTool\"},{\"id\":\"ab444e20-35c7-4760-baca-862721d6e439\",\"type\":\"HelpTool\"},{\"id\":\"c4e3936e-e3f3-415d-9228-6675f957a5b3\",\"type\":\"BoxSelectTool\"},{\"id\":\"26e6339d-9d69-4701-b377-a6b37c89d5b8\",\"type\":\"LassoSelectTool\"},{\"id\":\"b4cf1b64-6e5c-431d-ba1c-5fe7a58ad505\",\"type\":\"HelpTool\"}]},\"id\":\"4912401b-b198-4cdd-833d-cba0b54dce11\",\"type\":\"ProxyToolbar\"},{\"attributes\":{\"dimension\":1,\"plot\":{\"id\":\"0652a148-445b-406c-b60d-a916c6a7ab3b\",\"subtype\":\"Figure\",\"type\":\"Plot\"},\"ticker\":{\"id\":\"dd6ca14b-d595-4902-a90e-f629a2633663\",\"type\":\"BasicTicker\"}},\"id\":\"0409c811-143c-4c5e-8912-17315bc12b94\",\"type\":\"Grid\"},{\"attributes\":{\"callback\":null,\"overlay\":{\"id\":\"df749117-6eeb-41ca-be5a-1a14781da3a9\",\"type\":\"BoxAnnotation\"},\"renderers\":[{\"id\":\"24c5daa8-05f6-45c3-81b0-bf70d067d24a\",\"type\":\"GlyphRenderer\"}]},\"id\":\"5da7fcdc-c180-4d2d-98c0-86c3edf2c784\",\"type\":\"BoxSelectTool\"},{\"attributes\":{\"toolbar\":{\"id\":\"4912401b-b198-4cdd-833d-cba0b54dce11\",\"type\":\"ProxyToolbar\"},\"toolbar_location\":\"above\"},\"id\":\"032528aa-1a89-4d26-b2c1-1eacd8f034e4\",\"type\":\"ToolbarBox\"},{\"attributes\":{},\"id\":\"e6157bb9-8d12-48ae-95d9-ef28dcd079b7\",\"type\":\"LinearScale\"},{\"attributes\":{\"children\":[{\"id\":\"032528aa-1a89-4d26-b2c1-1eacd8f034e4\",\"type\":\"ToolbarBox\"},{\"id\":\"6564158a-b05e-41f2-be75-9ced53b02ae3\",\"type\":\"Column\"}]},\"id\":\"3d185c8b-035d-43ed-b39f-087c5cc16531\",\"type\":\"Column\"},{\"attributes\":{\"children\":[{\"id\":\"e2e56d1b-ed02-48af-8e1a-76ffd751e92e\",\"subtype\":\"Figure\",\"type\":\"Plot\"},{\"id\":\"0652a148-445b-406c-b60d-a916c6a7ab3b\",\"subtype\":\"Figure\",\"type\":\"Plot\"}]},\"id\":\"64b38ca2-d84f-4b8c-9c07-8fc8daffc1f4\",\"type\":\"Row\"},{\"attributes\":{\"plot\":{\"id\":\"e2e56d1b-ed02-48af-8e1a-76ffd751e92e\",\"subtype\":\"Figure\",\"type\":\"Plot\"},\"ticker\":{\"id\":\"6001fb75-ad90-4096-a0fa-d2ff872ca6b3\",\"type\":\"BasicTicker\"}},\"id\":\"bb208595-a650-41f6-bbc0-4ac0367cc656\",\"type\":\"Grid\"},{\"attributes\":{},\"id\":\"b4cf1b64-6e5c-431d-ba1c-5fe7a58ad505\",\"type\":\"HelpTool\"},{\"attributes\":{\"active_drag\":\"auto\",\"active_inspect\":\"auto\",\"active_scroll\":\"auto\",\"active_tap\":\"auto\",\"tools\":[{\"id\":\"5da7fcdc-c180-4d2d-98c0-86c3edf2c784\",\"type\":\"BoxSelectTool\"},{\"id\":\"b29dc821-cc0c-4306-aa47-5650fd41d1b0\",\"type\":\"LassoSelectTool\"},{\"id\":\"ab444e20-35c7-4760-baca-862721d6e439\",\"type\":\"HelpTool\"}]},\"id\":\"25fed52b-87e2-42f4-bf73-1203534d022e\",\"type\":\"Toolbar\"},{\"attributes\":{\"dimension\":1,\"plot\":{\"id\":\"e2e56d1b-ed02-48af-8e1a-76ffd751e92e\",\"subtype\":\"Figure\",\"type\":\"Plot\"},\"ticker\":{\"id\":\"9aeb48b3-67f7-4a8b-9436-9a0a792788ae\",\"type\":\"BasicTicker\"}},\"id\":\"ed2f6b52-5cb5-4425-bd2c-58d76dc93c34\",\"type\":\"Grid\"},{\"attributes\":{\"callback\":null},\"id\":\"3050cabc-cb7d-4b02-84fd-e9c015e8a92f\",\"type\":\"DataRange1d\"},{\"attributes\":{},\"id\":\"113853dc-4bb9-4497-8de4-b99d451f674a\",\"type\":\"LinearScale\"},{\"attributes\":{\"fill_color\":{\"value\":\"#1f77b4\"},\"line_color\":{\"value\":\"#1f77b4\"},\"x\":{\"field\":\"x\"},\"y\":{\"field\":\"y1\"}},\"id\":\"be464336-cebf-42a8-bf8e-55836f3b92d3\",\"type\":\"Circle\"},{\"attributes\":{\"fill_alpha\":{\"value\":0.1},\"fill_color\":{\"value\":\"#1f77b4\"},\"line_alpha\":{\"value\":0.1},\"line_color\":{\"value\":\"#1f77b4\"},\"x\":{\"field\":\"x\"},\"y\":{\"field\":\"y1\"}},\"id\":\"330fe07a-07b5-49a8-baae-2e25f91d7ff8\",\"type\":\"Circle\"},{\"attributes\":{\"source\":{\"id\":\"35fa17b0-baf9-478d-9b39-5301a0faeed8\",\"type\":\"ColumnDataSource\"}},\"id\":\"987528ee-a934-47c1-8550-e4892f71452c\",\"type\":\"CDSView\"},{\"attributes\":{\"fill_alpha\":{\"value\":0.1},\"fill_color\":{\"value\":\"#1f77b4\"},\"line_alpha\":{\"value\":0.1},\"line_color\":{\"value\":\"#1f77b4\"},\"x\":{\"field\":\"x\"},\"y\":{\"field\":\"y0\"}},\"id\":\"b6070323-ba0e-401f-b6f0-55cf17033768\",\"type\":\"Circle\"},{\"attributes\":{\"below\":[{\"id\":\"00d30654-0a64-436b-8767-73ce818c8509\",\"type\":\"LinearAxis\"}],\"left\":[{\"id\":\"6ba5d3a2-6499-4b09-b0b4-4f6568e963ef\",\"type\":\"LinearAxis\"}],\"plot_height\":300,\"plot_width\":300,\"renderers\":[{\"id\":\"00d30654-0a64-436b-8767-73ce818c8509\",\"type\":\"LinearAxis\"},{\"id\":\"bb208595-a650-41f6-bbc0-4ac0367cc656\",\"type\":\"Grid\"},{\"id\":\"6ba5d3a2-6499-4b09-b0b4-4f6568e963ef\",\"type\":\"LinearAxis\"},{\"id\":\"ed2f6b52-5cb5-4425-bd2c-58d76dc93c34\",\"type\":\"Grid\"},{\"id\":\"df749117-6eeb-41ca-be5a-1a14781da3a9\",\"type\":\"BoxAnnotation\"},{\"id\":\"2c0238c4-9f00-4525-a19f-fc266cfb7f41\",\"type\":\"PolyAnnotation\"},{\"id\":\"24c5daa8-05f6-45c3-81b0-bf70d067d24a\",\"type\":\"GlyphRenderer\"}],\"title\":{\"id\":\"9c264308-5bfb-45a1-a65a-e24ac304a62a\",\"type\":\"Title\"},\"toolbar\":{\"id\":\"25fed52b-87e2-42f4-bf73-1203534d022e\",\"type\":\"Toolbar\"},\"toolbar_location\":null,\"x_range\":{\"id\":\"3050cabc-cb7d-4b02-84fd-e9c015e8a92f\",\"type\":\"DataRange1d\"},\"x_scale\":{\"id\":\"e6157bb9-8d12-48ae-95d9-ef28dcd079b7\",\"type\":\"LinearScale\"},\"y_range\":{\"id\":\"0f6b11c6-5f05-4065-b42e-6fdb1a71f723\",\"type\":\"DataRange1d\"},\"y_scale\":{\"id\":\"113853dc-4bb9-4497-8de4-b99d451f674a\",\"type\":\"LinearScale\"}},\"id\":\"e2e56d1b-ed02-48af-8e1a-76ffd751e92e\",\"subtype\":\"Figure\",\"type\":\"Plot\"},{\"attributes\":{\"fill_alpha\":{\"value\":0.5},\"fill_color\":{\"value\":\"lightgrey\"},\"level\":\"overlay\",\"line_alpha\":{\"value\":1.0},\"line_color\":{\"value\":\"black\"},\"line_dash\":[4,4],\"line_width\":{\"value\":2},\"plot\":null,\"xs_units\":\"screen\",\"ys_units\":\"screen\"},\"id\":\"2c0238c4-9f00-4525-a19f-fc266cfb7f41\",\"type\":\"PolyAnnotation\"},{\"attributes\":{\"bottom_units\":\"screen\",\"fill_alpha\":{\"value\":0.5},\"fill_color\":{\"value\":\"lightgrey\"},\"left_units\":\"screen\",\"level\":\"overlay\",\"line_alpha\":{\"value\":1.0},\"line_color\":{\"value\":\"black\"},\"line_dash\":[4,4],\"line_width\":{\"value\":2},\"plot\":null,\"render_mode\":\"css\",\"right_units\":\"screen\",\"top_units\":\"screen\"},\"id\":\"df749117-6eeb-41ca-be5a-1a14781da3a9\",\"type\":\"BoxAnnotation\"},{\"attributes\":{\"data_source\":{\"id\":\"35fa17b0-baf9-478d-9b39-5301a0faeed8\",\"type\":\"ColumnDataSource\"},\"glyph\":{\"id\":\"8ae1a19d-886d-4723-91a1-ab7e5f14b169\",\"type\":\"Circle\"},\"hover_glyph\":null,\"muted_glyph\":null,\"nonselection_glyph\":{\"id\":\"b6070323-ba0e-401f-b6f0-55cf17033768\",\"type\":\"Circle\"},\"selection_glyph\":null,\"view\":{\"id\":\"987528ee-a934-47c1-8550-e4892f71452c\",\"type\":\"CDSView\"}},\"id\":\"24c5daa8-05f6-45c3-81b0-bf70d067d24a\",\"type\":\"GlyphRenderer\"},{\"attributes\":{\"fill_color\":{\"value\":\"#1f77b4\"},\"line_color\":{\"value\":\"#1f77b4\"},\"x\":{\"field\":\"x\"},\"y\":{\"field\":\"y0\"}},\"id\":\"8ae1a19d-886d-4723-91a1-ab7e5f14b169\",\"type\":\"Circle\"},{\"attributes\":{},\"id\":\"fd7b1e7d-6f8a-40ad-a1a8-6f3d028e4c7f\",\"type\":\"BasicTickFormatter\"},{\"attributes\":{\"active_drag\":\"auto\",\"active_inspect\":\"auto\",\"active_scroll\":\"auto\",\"active_tap\":\"auto\",\"tools\":[{\"id\":\"c4e3936e-e3f3-415d-9228-6675f957a5b3\",\"type\":\"BoxSelectTool\"},{\"id\":\"26e6339d-9d69-4701-b377-a6b37c89d5b8\",\"type\":\"LassoSelectTool\"},{\"id\":\"b4cf1b64-6e5c-431d-ba1c-5fe7a58ad505\",\"type\":\"HelpTool\"}]},\"id\":\"976bc261-1936-4907-9d88-b515c8a14ca1\",\"type\":\"Toolbar\"},{\"attributes\":{\"callback\":null},\"id\":\"8f00e5d1-5e05-473c-bcab-c9abc70a706b\",\"type\":\"DataRange1d\"},{\"attributes\":{\"callback\":null,\"column_names\":[\"x\",\"y0\",\"y1\"],\"data\":{\"x\":[-20,-19,-18,-17,-16,-15,-14,-13,-12,-11,-10,-9,-8,-7,-6,-5,-4,-3,-2,-1,0,1,2,3,4,5,6,7,8,9,10,11,12,13,14,15,16,17,18,19,20],\"y0\":[20,19,18,17,16,15,14,13,12,11,10,9,8,7,6,5,4,3,2,1,0,1,2,3,4,5,6,7,8,9,10,11,12,13,14,15,16,17,18,19,20],\"y1\":[400,361,324,289,256,225,196,169,144,121,100,81,64,49,36,25,16,9,4,1,0,1,4,9,16,25,36,49,64,81,100,121,144,169,196,225,256,289,324,361,400]}},\"id\":\"35fa17b0-baf9-478d-9b39-5301a0faeed8\",\"type\":\"ColumnDataSource\"},{\"attributes\":{},\"id\":\"08983502-07fc-4e00-9ff7-b63fee8dbb4e\",\"type\":\"BasicTickFormatter\"},{\"attributes\":{\"bottom_units\":\"screen\",\"fill_alpha\":{\"value\":0.5},\"fill_color\":{\"value\":\"lightgrey\"},\"left_units\":\"screen\",\"level\":\"overlay\",\"line_alpha\":{\"value\":1.0},\"line_color\":{\"value\":\"black\"},\"line_dash\":[4,4],\"line_width\":{\"value\":2},\"plot\":null,\"render_mode\":\"css\",\"right_units\":\"screen\",\"top_units\":\"screen\"},\"id\":\"f3863ba9-9a12-417e-9793-541fefe05260\",\"type\":\"BoxAnnotation\"},{\"attributes\":{\"plot\":null,\"text\":\"\"},\"id\":\"9c264308-5bfb-45a1-a65a-e24ac304a62a\",\"type\":\"Title\"},{\"attributes\":{},\"id\":\"f138ac53-0bfd-40cc-aa47-2b56f67253b3\",\"type\":\"LinearScale\"},{\"attributes\":{},\"id\":\"8aa9d67f-5319-4187-ac15-80a2337f1c9c\",\"type\":\"BasicTickFormatter\"},{\"attributes\":{\"callback\":null},\"id\":\"46a7fc18-fb3d-46e0-8330-a54c6d82d1ee\",\"type\":\"DataRange1d\"},{\"attributes\":{},\"id\":\"6001fb75-ad90-4096-a0fa-d2ff872ca6b3\",\"type\":\"BasicTicker\"},{\"attributes\":{},\"id\":\"dd6ca14b-d595-4902-a90e-f629a2633663\",\"type\":\"BasicTicker\"},{\"attributes\":{\"plot\":null,\"text\":\"\"},\"id\":\"30ec67aa-3a27-4ab5-a922-6bbced3f968c\",\"type\":\"Title\"},{\"attributes\":{},\"id\":\"4e86aa1f-d438-4261-aa84-08fe53bd0398\",\"type\":\"LinearScale\"},{\"attributes\":{\"callback\":null},\"id\":\"0f6b11c6-5f05-4065-b42e-6fdb1a71f723\",\"type\":\"DataRange1d\"},{\"attributes\":{\"plot\":{\"id\":\"0652a148-445b-406c-b60d-a916c6a7ab3b\",\"subtype\":\"Figure\",\"type\":\"Plot\"},\"ticker\":{\"id\":\"9610c2c8-87ea-4631-b290-05f094d67a7a\",\"type\":\"BasicTicker\"}},\"id\":\"c63622e1-f783-4e87-b931-8153e88b9c91\",\"type\":\"Grid\"},{\"attributes\":{},\"id\":\"bfb90bb9-47f6-4b1f-a4a8-18cd3dca3894\",\"type\":\"BasicTickFormatter\"},{\"attributes\":{\"formatter\":{\"id\":\"8aa9d67f-5319-4187-ac15-80a2337f1c9c\",\"type\":\"BasicTickFormatter\"},\"plot\":{\"id\":\"0652a148-445b-406c-b60d-a916c6a7ab3b\",\"subtype\":\"Figure\",\"type\":\"Plot\"},\"ticker\":{\"id\":\"9610c2c8-87ea-4631-b290-05f094d67a7a\",\"type\":\"BasicTicker\"}},\"id\":\"ef0174e2-f003-4ca1-8709-700c00c97d7a\",\"type\":\"LinearAxis\"},{\"attributes\":{\"formatter\":{\"id\":\"08983502-07fc-4e00-9ff7-b63fee8dbb4e\",\"type\":\"BasicTickFormatter\"},\"plot\":{\"id\":\"e2e56d1b-ed02-48af-8e1a-76ffd751e92e\",\"subtype\":\"Figure\",\"type\":\"Plot\"},\"ticker\":{\"id\":\"6001fb75-ad90-4096-a0fa-d2ff872ca6b3\",\"type\":\"BasicTicker\"}},\"id\":\"00d30654-0a64-436b-8767-73ce818c8509\",\"type\":\"LinearAxis\"},{\"attributes\":{},\"id\":\"9610c2c8-87ea-4631-b290-05f094d67a7a\",\"type\":\"BasicTicker\"},{\"attributes\":{\"formatter\":{\"id\":\"fd7b1e7d-6f8a-40ad-a1a8-6f3d028e4c7f\",\"type\":\"BasicTickFormatter\"},\"plot\":{\"id\":\"e2e56d1b-ed02-48af-8e1a-76ffd751e92e\",\"subtype\":\"Figure\",\"type\":\"Plot\"},\"ticker\":{\"id\":\"9aeb48b3-67f7-4a8b-9436-9a0a792788ae\",\"type\":\"BasicTicker\"}},\"id\":\"6ba5d3a2-6499-4b09-b0b4-4f6568e963ef\",\"type\":\"LinearAxis\"},{\"attributes\":{\"formatter\":{\"id\":\"bfb90bb9-47f6-4b1f-a4a8-18cd3dca3894\",\"type\":\"BasicTickFormatter\"},\"plot\":{\"id\":\"0652a148-445b-406c-b60d-a916c6a7ab3b\",\"subtype\":\"Figure\",\"type\":\"Plot\"},\"ticker\":{\"id\":\"dd6ca14b-d595-4902-a90e-f629a2633663\",\"type\":\"BasicTicker\"}},\"id\":\"1557daaf-51f9-4802-839a-0d06c0dce393\",\"type\":\"LinearAxis\"},{\"attributes\":{\"callback\":null,\"overlay\":{\"id\":\"f3863ba9-9a12-417e-9793-541fefe05260\",\"type\":\"BoxAnnotation\"},\"renderers\":[{\"id\":\"62de2ca2-547f-41e7-91b3-3f6dceaa6862\",\"type\":\"GlyphRenderer\"}]},\"id\":\"c4e3936e-e3f3-415d-9228-6675f957a5b3\",\"type\":\"BoxSelectTool\"},{\"attributes\":{\"callback\":null,\"overlay\":{\"id\":\"2c0238c4-9f00-4525-a19f-fc266cfb7f41\",\"type\":\"PolyAnnotation\"}},\"id\":\"b29dc821-cc0c-4306-aa47-5650fd41d1b0\",\"type\":\"LassoSelectTool\"},{\"attributes\":{\"source\":{\"id\":\"35fa17b0-baf9-478d-9b39-5301a0faeed8\",\"type\":\"ColumnDataSource\"}},\"id\":\"47430fac-cda1-45d7-aae4-739318ccfaef\",\"type\":\"CDSView\"},{\"attributes\":{},\"id\":\"9aeb48b3-67f7-4a8b-9436-9a0a792788ae\",\"type\":\"BasicTicker\"},{\"attributes\":{\"data_source\":{\"id\":\"35fa17b0-baf9-478d-9b39-5301a0faeed8\",\"type\":\"ColumnDataSource\"},\"glyph\":{\"id\":\"be464336-cebf-42a8-bf8e-55836f3b92d3\",\"type\":\"Circle\"},\"hover_glyph\":null,\"muted_glyph\":null,\"nonselection_glyph\":{\"id\":\"330fe07a-07b5-49a8-baae-2e25f91d7ff8\",\"type\":\"Circle\"},\"selection_glyph\":null,\"view\":{\"id\":\"47430fac-cda1-45d7-aae4-739318ccfaef\",\"type\":\"CDSView\"}},\"id\":\"62de2ca2-547f-41e7-91b3-3f6dceaa6862\",\"type\":\"GlyphRenderer\"},{\"attributes\":{\"fill_alpha\":{\"value\":0.5},\"fill_color\":{\"value\":\"lightgrey\"},\"level\":\"overlay\",\"line_alpha\":{\"value\":1.0},\"line_color\":{\"value\":\"black\"},\"line_dash\":[4,4],\"line_width\":{\"value\":2},\"plot\":null,\"xs_units\":\"screen\",\"ys_units\":\"screen\"},\"id\":\"e29a187c-b760-4723-9e4a-c0fda830d08e\",\"type\":\"PolyAnnotation\"},{\"attributes\":{},\"id\":\"ab444e20-35c7-4760-baca-862721d6e439\",\"type\":\"HelpTool\"},{\"attributes\":{\"callback\":null,\"overlay\":{\"id\":\"e29a187c-b760-4723-9e4a-c0fda830d08e\",\"type\":\"PolyAnnotation\"}},\"id\":\"26e6339d-9d69-4701-b377-a6b37c89d5b8\",\"type\":\"LassoSelectTool\"},{\"attributes\":{\"below\":[{\"id\":\"ef0174e2-f003-4ca1-8709-700c00c97d7a\",\"type\":\"LinearAxis\"}],\"left\":[{\"id\":\"1557daaf-51f9-4802-839a-0d06c0dce393\",\"type\":\"LinearAxis\"}],\"plot_height\":300,\"plot_width\":300,\"renderers\":[{\"id\":\"ef0174e2-f003-4ca1-8709-700c00c97d7a\",\"type\":\"LinearAxis\"},{\"id\":\"c63622e1-f783-4e87-b931-8153e88b9c91\",\"type\":\"Grid\"},{\"id\":\"1557daaf-51f9-4802-839a-0d06c0dce393\",\"type\":\"LinearAxis\"},{\"id\":\"0409c811-143c-4c5e-8912-17315bc12b94\",\"type\":\"Grid\"},{\"id\":\"f3863ba9-9a12-417e-9793-541fefe05260\",\"type\":\"BoxAnnotation\"},{\"id\":\"e29a187c-b760-4723-9e4a-c0fda830d08e\",\"type\":\"PolyAnnotation\"},{\"id\":\"62de2ca2-547f-41e7-91b3-3f6dceaa6862\",\"type\":\"GlyphRenderer\"}],\"title\":{\"id\":\"30ec67aa-3a27-4ab5-a922-6bbced3f968c\",\"type\":\"Title\"},\"toolbar\":{\"id\":\"976bc261-1936-4907-9d88-b515c8a14ca1\",\"type\":\"Toolbar\"},\"toolbar_location\":null,\"x_range\":{\"id\":\"46a7fc18-fb3d-46e0-8330-a54c6d82d1ee\",\"type\":\"DataRange1d\"},\"x_scale\":{\"id\":\"f138ac53-0bfd-40cc-aa47-2b56f67253b3\",\"type\":\"LinearScale\"},\"y_range\":{\"id\":\"8f00e5d1-5e05-473c-bcab-c9abc70a706b\",\"type\":\"DataRange1d\"},\"y_scale\":{\"id\":\"4e86aa1f-d438-4261-aa84-08fe53bd0398\",\"type\":\"LinearScale\"}},\"id\":\"0652a148-445b-406c-b60d-a916c6a7ab3b\",\"subtype\":\"Figure\",\"type\":\"Plot\"},{\"attributes\":{\"children\":[{\"id\":\"64b38ca2-d84f-4b8c-9c07-8fc8daffc1f4\",\"type\":\"Row\"}]},\"id\":\"6564158a-b05e-41f2-be75-9ced53b02ae3\",\"type\":\"Column\"}],\"root_ids\":[\"3d185c8b-035d-43ed-b39f-087c5cc16531\"]},\"title\":\"Bokeh Application\",\"version\":\"0.12.14\"}};\n",
       "  var render_items = [{\"docid\":\"38c6a710-a3ee-46aa-b9fe-1ea797b2c0c7\",\"elementid\":\"d12fe2e8-d754-45cb-b297-ca52d30cd13d\",\"modelid\":\"3d185c8b-035d-43ed-b39f-087c5cc16531\"}];\n",
       "  root.Bokeh.embed.embed_items_notebook(docs_json, render_items);\n",
       "\n",
       "  }\n",
       "  if (root.Bokeh !== undefined) {\n",
       "    embed_document(root);\n",
       "  } else {\n",
       "    var attempts = 0;\n",
       "    var timer = setInterval(function(root) {\n",
       "      if (root.Bokeh !== undefined) {\n",
       "        embed_document(root);\n",
       "        clearInterval(timer);\n",
       "      }\n",
       "      attempts++;\n",
       "      if (attempts > 100) {\n",
       "        console.log(\"Bokeh: ERROR: Unable to run BokehJS code because BokehJS library is missing\")\n",
       "        clearInterval(timer);\n",
       "      }\n",
       "    }, 10, root)\n",
       "  }\n",
       "})(window);"
      ],
      "application/vnd.bokehjs_exec.v0+json": ""
     },
     "metadata": {
      "application/vnd.bokehjs_exec.v0+json": {
       "id": "3d185c8b-035d-43ed-b39f-087c5cc16531"
      }
     },
     "output_type": "display_data"
    }
   ],
   "source": [
    "from bokeh.models import ColumnDataSource\n",
    "\n",
    "x = list(range(-20, 21))\n",
    "y0, y1 = [abs(xx) for xx in x], [xx**2 for xx in x]\n",
    "\n",
    "# create a column data source for the plots to share\n",
    "source = ColumnDataSource(data=dict(x=x, y0=y0, y1=y1))\n",
    "\n",
    "TOOLS = \"box_select,lasso_select,help\"\n",
    "\n",
    "# create a new plot and add a renderer\n",
    "left = figure(tools=TOOLS, width=300, height=300)\n",
    "left.circle('x', 'y0', source=source)\n",
    "\n",
    "# create another new plot and add a renderer\n",
    "right = figure(tools=TOOLS, width=300, height=300)\n",
    "right.circle('x', 'y1', source=source)\n",
    "\n",
    "p = gridplot([[left, right]])\n",
    "\n",
    "show(p)"
   ]
  },
  {
   "cell_type": "code",
   "execution_count": null,
   "metadata": {},
   "outputs": [],
   "source": [
    "# EXERCISE: create two plots in a gridplot, and link their data sources\n",
    "\n"
   ]
  },
  {
   "cell_type": "markdown",
   "metadata": {},
   "source": [
    "# Hover Tools\n",
    "\n",
    "Bokeh has a Hover Tool that allows additional information to be displayed in a popup whenever the user hovers over a specific glyph. Basic hover tool configuration amounts to providing a list of ``(name, format)`` tuples. The full details can be found in the User's Guide [here](http://bokeh.pydata.org/en/latest/docs/user_guide/tools.html#hovertool).\n",
    "\n",
    "The example below shows some basic usage of the Hover tool with a circle glyph, using hover information defined in utils.py:"
   ]
  },
  {
   "cell_type": "code",
   "execution_count": 9,
   "metadata": {},
   "outputs": [
    {
     "data": {
      "text/plain": [
       "{'desc': ['A', 'b', 'C', 'd', 'E'], 'x': [1, 2, 3, 4, 5], 'y': [2, 5, 8, 2, 7]}"
      ]
     },
     "execution_count": 9,
     "metadata": {},
     "output_type": "execute_result"
    }
   ],
   "source": [
    "source.data"
   ]
  },
  {
   "cell_type": "code",
   "execution_count": 7,
   "metadata": {
    "scrolled": true
   },
   "outputs": [
    {
     "data": {
      "text/html": [
       "\n",
       "<div class=\"bk-root\">\n",
       "    <div class=\"bk-plotdiv\" id=\"3cd32d00-8aeb-4b22-9a79-a3b173f1e8fa\"></div>\n",
       "</div>"
      ]
     },
     "metadata": {},
     "output_type": "display_data"
    },
    {
     "data": {
      "application/javascript": [
       "(function(root) {\n",
       "  function embed_document(root) {\n",
       "    \n",
       "  var docs_json = {\"c8e5c92d-e266-40a2-8d57-81aae5b4123b\":{\"roots\":{\"references\":[{\"attributes\":{\"formatter\":{\"id\":\"c05c45ae-e5ba-4071-b972-d815a460297d\",\"type\":\"BasicTickFormatter\"},\"plot\":{\"id\":\"61e001ba-f85a-46c1-94ac-e512a40b6701\",\"subtype\":\"Figure\",\"type\":\"Plot\"},\"ticker\":{\"id\":\"095e3598-9571-4b02-a9ba-decb5c694a8c\",\"type\":\"BasicTicker\"}},\"id\":\"46ef678f-d690-4d38-a115-a8993824cc38\",\"type\":\"LinearAxis\"},{\"attributes\":{\"callback\":null,\"column_names\":[\"x\",\"y\",\"desc\"],\"data\":{\"desc\":[\"A\",\"b\",\"C\",\"d\",\"E\"],\"x\":[1,2,3,4,5],\"y\":[2,5,8,2,7]}},\"id\":\"debb1302-c1e6-4dab-aca9-393fe96d300c\",\"type\":\"ColumnDataSource\"},{\"attributes\":{\"data_source\":{\"id\":\"debb1302-c1e6-4dab-aca9-393fe96d300c\",\"type\":\"ColumnDataSource\"},\"glyph\":{\"id\":\"31839712-9511-49bf-b643-c0ddc09873fb\",\"type\":\"Circle\"},\"hover_glyph\":null,\"muted_glyph\":null,\"nonselection_glyph\":{\"id\":\"1abc6866-611a-4d2b-8afa-b2190be67f03\",\"type\":\"Circle\"},\"selection_glyph\":null,\"view\":{\"id\":\"f7e0ebb9-833b-4a3e-970a-6c6258da2286\",\"type\":\"CDSView\"}},\"id\":\"d98cf455-a699-4620-ba82-372aa2efefdd\",\"type\":\"GlyphRenderer\"},{\"attributes\":{\"callback\":null},\"id\":\"d667ab70-acc3-4f9e-913d-2744ba8d5d26\",\"type\":\"DataRange1d\"},{\"attributes\":{\"active_drag\":\"auto\",\"active_inspect\":\"auto\",\"active_scroll\":\"auto\",\"active_tap\":\"auto\",\"tools\":[{\"id\":\"6f72102e-d2b8-4aa1-8bad-605027f3bbe9\",\"type\":\"HoverTool\"}]},\"id\":\"64993dc3-a454-46b0-a57d-d8962d7152b4\",\"type\":\"Toolbar\"},{\"attributes\":{},\"id\":\"e0675a15-1b47-4737-8618-309b623af077\",\"type\":\"LinearScale\"},{\"attributes\":{\"plot\":null,\"text\":\"Mouse over the dots\"},\"id\":\"bab3580c-e6b7-4d3a-8b64-10d046df8e92\",\"type\":\"Title\"},{\"attributes\":{},\"id\":\"4bfee01b-e952-4bff-ba3b-063ff166433f\",\"type\":\"LinearScale\"},{\"attributes\":{\"dimension\":1,\"plot\":{\"id\":\"61e001ba-f85a-46c1-94ac-e512a40b6701\",\"subtype\":\"Figure\",\"type\":\"Plot\"},\"ticker\":{\"id\":\"c92f1354-a280-49bc-9554-e0850cb8f64d\",\"type\":\"BasicTicker\"}},\"id\":\"eab45395-0e4b-4a83-9797-4f0816ae0c8c\",\"type\":\"Grid\"},{\"attributes\":{},\"id\":\"c92f1354-a280-49bc-9554-e0850cb8f64d\",\"type\":\"BasicTicker\"},{\"attributes\":{\"formatter\":{\"id\":\"9bd54f8d-36d8-4acf-b48d-fc2c1649481c\",\"type\":\"BasicTickFormatter\"},\"plot\":{\"id\":\"61e001ba-f85a-46c1-94ac-e512a40b6701\",\"subtype\":\"Figure\",\"type\":\"Plot\"},\"ticker\":{\"id\":\"c92f1354-a280-49bc-9554-e0850cb8f64d\",\"type\":\"BasicTicker\"}},\"id\":\"2f2c67d7-4a9b-4d4a-a1b8-8d2caf6fdd33\",\"type\":\"LinearAxis\"},{\"attributes\":{},\"id\":\"9bd54f8d-36d8-4acf-b48d-fc2c1649481c\",\"type\":\"BasicTickFormatter\"},{\"attributes\":{\"below\":[{\"id\":\"46ef678f-d690-4d38-a115-a8993824cc38\",\"type\":\"LinearAxis\"}],\"left\":[{\"id\":\"2f2c67d7-4a9b-4d4a-a1b8-8d2caf6fdd33\",\"type\":\"LinearAxis\"}],\"plot_height\":300,\"plot_width\":300,\"renderers\":[{\"id\":\"46ef678f-d690-4d38-a115-a8993824cc38\",\"type\":\"LinearAxis\"},{\"id\":\"b5b694f3-a534-4468-860f-7f3f98341973\",\"type\":\"Grid\"},{\"id\":\"2f2c67d7-4a9b-4d4a-a1b8-8d2caf6fdd33\",\"type\":\"LinearAxis\"},{\"id\":\"eab45395-0e4b-4a83-9797-4f0816ae0c8c\",\"type\":\"Grid\"},{\"id\":\"d98cf455-a699-4620-ba82-372aa2efefdd\",\"type\":\"GlyphRenderer\"}],\"title\":{\"id\":\"bab3580c-e6b7-4d3a-8b64-10d046df8e92\",\"type\":\"Title\"},\"toolbar\":{\"id\":\"64993dc3-a454-46b0-a57d-d8962d7152b4\",\"type\":\"Toolbar\"},\"x_range\":{\"id\":\"9c4d61ba-f33b-415b-af8d-36555cb54cdd\",\"type\":\"DataRange1d\"},\"x_scale\":{\"id\":\"e0675a15-1b47-4737-8618-309b623af077\",\"type\":\"LinearScale\"},\"y_range\":{\"id\":\"d667ab70-acc3-4f9e-913d-2744ba8d5d26\",\"type\":\"DataRange1d\"},\"y_scale\":{\"id\":\"4bfee01b-e952-4bff-ba3b-063ff166433f\",\"type\":\"LinearScale\"}},\"id\":\"61e001ba-f85a-46c1-94ac-e512a40b6701\",\"subtype\":\"Figure\",\"type\":\"Plot\"},{\"attributes\":{\"source\":{\"id\":\"debb1302-c1e6-4dab-aca9-393fe96d300c\",\"type\":\"ColumnDataSource\"}},\"id\":\"f7e0ebb9-833b-4a3e-970a-6c6258da2286\",\"type\":\"CDSView\"},{\"attributes\":{\"callback\":null,\"tooltips\":[[\"index\",\"$index\"],[\"(x,y)\",\"($x, $y)\"],[\"desc\",\"@desc\"]]},\"id\":\"6f72102e-d2b8-4aa1-8bad-605027f3bbe9\",\"type\":\"HoverTool\"},{\"attributes\":{},\"id\":\"095e3598-9571-4b02-a9ba-decb5c694a8c\",\"type\":\"BasicTicker\"},{\"attributes\":{\"fill_alpha\":{\"value\":0.1},\"fill_color\":{\"value\":\"#1f77b4\"},\"line_alpha\":{\"value\":0.1},\"line_color\":{\"value\":\"#1f77b4\"},\"size\":{\"units\":\"screen\",\"value\":20},\"x\":{\"field\":\"x\"},\"y\":{\"field\":\"y\"}},\"id\":\"1abc6866-611a-4d2b-8afa-b2190be67f03\",\"type\":\"Circle\"},{\"attributes\":{\"callback\":null},\"id\":\"9c4d61ba-f33b-415b-af8d-36555cb54cdd\",\"type\":\"DataRange1d\"},{\"attributes\":{\"fill_color\":{\"value\":\"#1f77b4\"},\"line_color\":{\"value\":\"#1f77b4\"},\"size\":{\"units\":\"screen\",\"value\":20},\"x\":{\"field\":\"x\"},\"y\":{\"field\":\"y\"}},\"id\":\"31839712-9511-49bf-b643-c0ddc09873fb\",\"type\":\"Circle\"},{\"attributes\":{},\"id\":\"c05c45ae-e5ba-4071-b972-d815a460297d\",\"type\":\"BasicTickFormatter\"},{\"attributes\":{\"plot\":{\"id\":\"61e001ba-f85a-46c1-94ac-e512a40b6701\",\"subtype\":\"Figure\",\"type\":\"Plot\"},\"ticker\":{\"id\":\"095e3598-9571-4b02-a9ba-decb5c694a8c\",\"type\":\"BasicTicker\"}},\"id\":\"b5b694f3-a534-4468-860f-7f3f98341973\",\"type\":\"Grid\"}],\"root_ids\":[\"61e001ba-f85a-46c1-94ac-e512a40b6701\"]},\"title\":\"Bokeh Application\",\"version\":\"0.12.14\"}};\n",
       "  var render_items = [{\"docid\":\"c8e5c92d-e266-40a2-8d57-81aae5b4123b\",\"elementid\":\"3cd32d00-8aeb-4b22-9a79-a3b173f1e8fa\",\"modelid\":\"61e001ba-f85a-46c1-94ac-e512a40b6701\"}];\n",
       "  root.Bokeh.embed.embed_items_notebook(docs_json, render_items);\n",
       "\n",
       "  }\n",
       "  if (root.Bokeh !== undefined) {\n",
       "    embed_document(root);\n",
       "  } else {\n",
       "    var attempts = 0;\n",
       "    var timer = setInterval(function(root) {\n",
       "      if (root.Bokeh !== undefined) {\n",
       "        embed_document(root);\n",
       "        clearInterval(timer);\n",
       "      }\n",
       "      attempts++;\n",
       "      if (attempts > 100) {\n",
       "        console.log(\"Bokeh: ERROR: Unable to run BokehJS code because BokehJS library is missing\")\n",
       "        clearInterval(timer);\n",
       "      }\n",
       "    }, 10, root)\n",
       "  }\n",
       "})(window);"
      ],
      "application/vnd.bokehjs_exec.v0+json": ""
     },
     "metadata": {
      "application/vnd.bokehjs_exec.v0+json": {
       "id": "61e001ba-f85a-46c1-94ac-e512a40b6701"
      }
     },
     "output_type": "display_data"
    }
   ],
   "source": [
    "from bokeh.models import HoverTool\n",
    "\n",
    "source = ColumnDataSource(\n",
    "        data=dict(\n",
    "            x=[1, 2, 3, 4, 5],\n",
    "            y=[2, 5, 8, 2, 7],\n",
    "            desc=['A', 'b', 'C', 'd', 'E'],\n",
    "        )\n",
    "    )\n",
    "\n",
    "hover = HoverTool(\n",
    "        tooltips=[\n",
    "            (\"index\", \"$index\"),\n",
    "            (\"(x,y)\", \"($x, $y)\"),\n",
    "            (\"desc\", \"@desc\"),\n",
    "        ]\n",
    "    )\n",
    "\n",
    "p = figure(plot_width=300, plot_height=300, tools=[hover], title=\"Mouse over the dots\")\n",
    "\n",
    "p.circle('x', 'y', size=20, source=source)\n",
    "\n",
    "show(p)"
   ]
  },
  {
   "cell_type": "markdown",
   "metadata": {},
   "source": [
    "# Widgets"
   ]
  },
  {
   "cell_type": "markdown",
   "metadata": {},
   "source": [
    "Bokeh supports direct integration with a small basic widget set. Thse can be used in conjunction with a Bokeh Server, or with ``CustomJS`` models to add more interactive capability to your documents. You can see a complete list, with example code in the [Adding Widgets](http://bokeh.pydata.org/en/latest/docs/user_guide/interaction.html#adding-widgets) section of the User's Guide. \n",
    "\n",
    "To use the widgets, include them in a layout like you would a plot object:"
   ]
  },
  {
   "cell_type": "code",
   "execution_count": null,
   "metadata": {},
   "outputs": [],
   "source": [
    "from bokeh.layouts import widgetbox\n",
    "from bokeh.models.widgets import Slider\n",
    "\n",
    "\n",
    "slider = Slider(start=0, end=10, value=1, step=.1, title=\"foo\")\n",
    "\n",
    "show(widgetbox(slider))"
   ]
  },
  {
   "cell_type": "code",
   "execution_count": null,
   "metadata": {},
   "outputs": [],
   "source": [
    "# EXERCISE: create and show a Select widget \n"
   ]
  },
  {
   "cell_type": "markdown",
   "metadata": {},
   "source": [
    "# CustomJS Callbacks"
   ]
  },
  {
   "cell_type": "code",
   "execution_count": null,
   "metadata": {},
   "outputs": [],
   "source": [
    "from bokeh.models import TapTool, CustomJS, ColumnDataSource\n",
    "\n",
    "callback = CustomJS(code=\"alert('hello world')\")\n",
    "tap = TapTool(callback=callback)\n",
    "\n",
    "p = figure(plot_width=600, plot_height=300, tools=[tap])\n",
    "\n",
    "p.circle(x=[1, 2, 3, 4, 5], y=[2, 5, 8, 2, 7], size=20)\n",
    "\n",
    "show(p)"
   ]
  },
  {
   "cell_type": "markdown",
   "metadata": {},
   "source": [
    "## Lots of places to add callbacks\n",
    "\n",
    "* Widgets - Button, Toggle, Dropdown, TextInput, AutocompleteInput, Select, Multiselect, Slider, (DateRangeSlider), DatePicker,\n",
    "* Tools - TapTool, BoxSelectTool, HoverTool,\n",
    "* Selection - ColumnDataSource, AjaxDataSource, BlazeDataSource, ServerDataSource\n",
    "* Ranges - Range1d, DataRange1d, FactorRange\n"
   ]
  },
  {
   "cell_type": "markdown",
   "metadata": {},
   "source": [
    "## Callbacks for widgets\n",
    "\n",
    "Widgets that have values associated can have small JavaScript actions attached to them. These actions (also referred to as \"callbacks\") are executed whenever the widget's value is changed. In order to make it easier to refer to specific Bokeh models (e.g., a data source, or a glyhph) from JavaScript, the ``CustomJS`` obejct also accepts a dictionary of \"args\" that map names to Python Bokeh models. The corresponding JavaScript models are made available automaticaly to the ``CustomJS`` code. \n",
    "\n",
    "And example below shows an action attached to a slider that updates a data source whenever the slider is moved:"
   ]
  },
  {
   "cell_type": "code",
   "execution_count": 11,
   "metadata": {},
   "outputs": [
    {
     "data": {
      "text/html": [
       "\n",
       "<div class=\"bk-root\">\n",
       "    <div class=\"bk-plotdiv\" id=\"ebd0630b-ce31-4b24-ad87-dbe4ce10c223\"></div>\n",
       "</div>"
      ]
     },
     "metadata": {},
     "output_type": "display_data"
    },
    {
     "data": {
      "application/javascript": [
       "(function(root) {\n",
       "  function embed_document(root) {\n",
       "    \n",
       "  var docs_json = {\"bd986b45-efe9-4e62-8b4b-418d10c163af\":{\"roots\":{\"references\":[{\"attributes\":{},\"id\":\"15307f55-a09c-4aa1-8222-0f801257ce8c\",\"type\":\"BasicTickFormatter\"},{\"attributes\":{},\"id\":\"fb40e67a-c9e8-4a68-a7ac-c137cf86badd\",\"type\":\"WheelZoomTool\"},{\"attributes\":{\"overlay\":{\"id\":\"7d2d2105-9d79-4d9f-a7d0-8be158c1bf44\",\"type\":\"BoxAnnotation\"}},\"id\":\"eb8c5553-5c2d-4556-a985-4e946d588ff1\",\"type\":\"BoxZoomTool\"},{\"attributes\":{\"callback\":null},\"id\":\"7d0ccbcf-6942-431f-90d7-d51f0533c43d\",\"type\":\"DataRange1d\"},{\"attributes\":{},\"id\":\"9d1ee5c0-27a3-4760-8b96-399ca1ea6b22\",\"type\":\"SaveTool\"},{\"attributes\":{},\"id\":\"10d65ad9-3445-4a51-9855-508be126d63e\",\"type\":\"LinearScale\"},{\"attributes\":{},\"id\":\"c072ea24-e7ab-4d92-9598-7568349e43b9\",\"type\":\"ResetTool\"},{\"attributes\":{},\"id\":\"652dff6f-2e6e-47b9-a2ec-c28e57dcb86f\",\"type\":\"HelpTool\"},{\"attributes\":{},\"id\":\"64c95f42-4574-4904-87ab-67eba24a4d99\",\"type\":\"LinearScale\"},{\"attributes\":{\"callback\":null},\"id\":\"35505a51-2cb0-416d-b6c3-308f7f38ca17\",\"type\":\"DataRange1d\"},{\"attributes\":{\"data_source\":{\"id\":\"946d73b4-24b7-47c4-870b-6edbdbb16a71\",\"type\":\"ColumnDataSource\"},\"glyph\":{\"id\":\"a02ef0e8-dbb0-401f-a15d-1fced2870e15\",\"type\":\"Line\"},\"hover_glyph\":null,\"muted_glyph\":null,\"nonselection_glyph\":{\"id\":\"73794a63-8568-43ce-aea5-ac94ef662793\",\"type\":\"Line\"},\"selection_glyph\":null,\"view\":{\"id\":\"96bf7101-2ee1-4dbe-b4c7-8d7801653a5f\",\"type\":\"CDSView\"}},\"id\":\"c531ed62-3bac-4bc1-b185-94506856b866\",\"type\":\"GlyphRenderer\"},{\"attributes\":{\"plot\":null,\"text\":\"\"},\"id\":\"cb5b5c33-c0a8-4697-b442-890d9ce933c6\",\"type\":\"Title\"},{\"attributes\":{\"plot\":{\"id\":\"92ae3a43-c1b3-4b10-b7b8-23ff87485f92\",\"subtype\":\"Figure\",\"type\":\"Plot\"},\"ticker\":{\"id\":\"37d0538f-a74d-4672-a87f-d02cb2e677be\",\"type\":\"BasicTicker\"}},\"id\":\"f69858de-7e26-41fc-bcfa-740bc02e195b\",\"type\":\"Grid\"},{\"attributes\":{\"formatter\":{\"id\":\"15307f55-a09c-4aa1-8222-0f801257ce8c\",\"type\":\"BasicTickFormatter\"},\"plot\":{\"id\":\"92ae3a43-c1b3-4b10-b7b8-23ff87485f92\",\"subtype\":\"Figure\",\"type\":\"Plot\"},\"ticker\":{\"id\":\"37d0538f-a74d-4672-a87f-d02cb2e677be\",\"type\":\"BasicTicker\"}},\"id\":\"77271528-8f4a-4fc4-9855-9544d4a3e947\",\"type\":\"LinearAxis\"},{\"attributes\":{},\"id\":\"31de476c-8d97-4b5a-a2a2-22651b6591d6\",\"type\":\"BasicTickFormatter\"},{\"attributes\":{},\"id\":\"37d0538f-a74d-4672-a87f-d02cb2e677be\",\"type\":\"BasicTicker\"},{\"attributes\":{\"children\":[{\"id\":\"0c64ffa8-b027-4fe6-98c2-e0654a07aecc\",\"type\":\"Slider\"}]},\"id\":\"4dd6486d-ef2c-424e-a8d2-b97c7ffb2b15\",\"type\":\"WidgetBox\"},{\"attributes\":{\"formatter\":{\"id\":\"31de476c-8d97-4b5a-a2a2-22651b6591d6\",\"type\":\"BasicTickFormatter\"},\"plot\":{\"id\":\"92ae3a43-c1b3-4b10-b7b8-23ff87485f92\",\"subtype\":\"Figure\",\"type\":\"Plot\"},\"ticker\":{\"id\":\"bb40b09c-343f-45ec-b58b-9ad66211e168\",\"type\":\"BasicTicker\"}},\"id\":\"a42f0a01-083a-442b-94d7-8f3b5d4b7b6b\",\"type\":\"LinearAxis\"},{\"attributes\":{\"children\":[{\"id\":\"4dd6486d-ef2c-424e-a8d2-b97c7ffb2b15\",\"type\":\"WidgetBox\"},{\"id\":\"92ae3a43-c1b3-4b10-b7b8-23ff87485f92\",\"subtype\":\"Figure\",\"type\":\"Plot\"}]},\"id\":\"1510c74b-390c-4a38-860b-a8e3ac4d622d\",\"type\":\"Column\"},{\"attributes\":{},\"id\":\"bb40b09c-343f-45ec-b58b-9ad66211e168\",\"type\":\"BasicTicker\"},{\"attributes\":{\"below\":[{\"id\":\"77271528-8f4a-4fc4-9855-9544d4a3e947\",\"type\":\"LinearAxis\"}],\"left\":[{\"id\":\"a42f0a01-083a-442b-94d7-8f3b5d4b7b6b\",\"type\":\"LinearAxis\"}],\"plot_height\":400,\"plot_width\":400,\"renderers\":[{\"id\":\"77271528-8f4a-4fc4-9855-9544d4a3e947\",\"type\":\"LinearAxis\"},{\"id\":\"f69858de-7e26-41fc-bcfa-740bc02e195b\",\"type\":\"Grid\"},{\"id\":\"a42f0a01-083a-442b-94d7-8f3b5d4b7b6b\",\"type\":\"LinearAxis\"},{\"id\":\"8c827388-f192-402d-89e6-ccdb0c3474da\",\"type\":\"Grid\"},{\"id\":\"7d2d2105-9d79-4d9f-a7d0-8be158c1bf44\",\"type\":\"BoxAnnotation\"},{\"id\":\"c531ed62-3bac-4bc1-b185-94506856b866\",\"type\":\"GlyphRenderer\"}],\"title\":{\"id\":\"cb5b5c33-c0a8-4697-b442-890d9ce933c6\",\"type\":\"Title\"},\"toolbar\":{\"id\":\"b935550a-29ae-4a22-bc17-f42e70054ffe\",\"type\":\"Toolbar\"},\"x_range\":{\"id\":\"35505a51-2cb0-416d-b6c3-308f7f38ca17\",\"type\":\"DataRange1d\"},\"x_scale\":{\"id\":\"10d65ad9-3445-4a51-9855-508be126d63e\",\"type\":\"LinearScale\"},\"y_range\":{\"id\":\"7d0ccbcf-6942-431f-90d7-d51f0533c43d\",\"type\":\"DataRange1d\"},\"y_scale\":{\"id\":\"64c95f42-4574-4904-87ab-67eba24a4d99\",\"type\":\"LinearScale\"}},\"id\":\"92ae3a43-c1b3-4b10-b7b8-23ff87485f92\",\"subtype\":\"Figure\",\"type\":\"Plot\"},{\"attributes\":{\"dimension\":1,\"plot\":{\"id\":\"92ae3a43-c1b3-4b10-b7b8-23ff87485f92\",\"subtype\":\"Figure\",\"type\":\"Plot\"},\"ticker\":{\"id\":\"bb40b09c-343f-45ec-b58b-9ad66211e168\",\"type\":\"BasicTicker\"}},\"id\":\"8c827388-f192-402d-89e6-ccdb0c3474da\",\"type\":\"Grid\"},{\"attributes\":{\"callback\":null,\"end\":6,\"js_property_callbacks\":{\"change:value\":[{\"id\":\"0cdc8ebb-2259-4857-8a42-15a05ca22fe8\",\"type\":\"CustomJS\"}]},\"start\":0.1,\"step\":0.1,\"title\":\"power\",\"value\":1},\"id\":\"0c64ffa8-b027-4fe6-98c2-e0654a07aecc\",\"type\":\"Slider\"},{\"attributes\":{\"source\":{\"id\":\"946d73b4-24b7-47c4-870b-6edbdbb16a71\",\"type\":\"ColumnDataSource\"}},\"id\":\"96bf7101-2ee1-4dbe-b4c7-8d7801653a5f\",\"type\":\"CDSView\"},{\"attributes\":{\"line_alpha\":0.1,\"line_color\":\"#1f77b4\",\"line_width\":3,\"x\":{\"field\":\"x\"},\"y\":{\"field\":\"y\"}},\"id\":\"73794a63-8568-43ce-aea5-ac94ef662793\",\"type\":\"Line\"},{\"attributes\":{\"line_alpha\":0.6,\"line_color\":\"#1f77b4\",\"line_width\":3,\"x\":{\"field\":\"x\"},\"y\":{\"field\":\"y\"}},\"id\":\"a02ef0e8-dbb0-401f-a15d-1fced2870e15\",\"type\":\"Line\"},{\"attributes\":{\"args\":{\"slider\":{\"id\":\"0c64ffa8-b027-4fe6-98c2-e0654a07aecc\",\"type\":\"Slider\"},\"source\":{\"id\":\"946d73b4-24b7-47c4-870b-6edbdbb16a71\",\"type\":\"ColumnDataSource\"}},\"code\":\"\\n    var data = source.get('data');\\n    var f = slider.value;\\n    x = data['x']\\n    y = data['y']\\n    for (i = 0; i < x.length; i++) {\\n        y[i] = Math.pow(x[i], f)\\n    }\\n    source.change.emit();\\n\"},\"id\":\"0cdc8ebb-2259-4857-8a42-15a05ca22fe8\",\"type\":\"CustomJS\"},{\"attributes\":{\"callback\":null,\"column_names\":[\"x\",\"y\"],\"data\":{\"x\":[0.0,0.005,0.01,0.015,0.02,0.025,0.03,0.035,0.04,0.045,0.05,0.055,0.06,0.065,0.07,0.075,0.08,0.085,0.09,0.095,0.1,0.105,0.11,0.115,0.12,0.125,0.13,0.135,0.14,0.145,0.15,0.155,0.16,0.165,0.17,0.17500000000000002,0.18,0.185,0.19,0.195,0.2,0.20500000000000002,0.21,0.215,0.22,0.225,0.23,0.23500000000000001,0.24,0.245,0.25,0.255,0.26,0.265,0.27,0.275,0.28,0.28500000000000003,0.29,0.295,0.3,0.305,0.31,0.315,0.32,0.325,0.33,0.335,0.34,0.34500000000000003,0.35000000000000003,0.355,0.36,0.365,0.37,0.375,0.38,0.385,0.39,0.395,0.4,0.405,0.41000000000000003,0.41500000000000004,0.42,0.425,0.43,0.435,0.44,0.445,0.45,0.455,0.46,0.465,0.47000000000000003,0.47500000000000003,0.48,0.485,0.49,0.495,0.5,0.505,0.51,0.515,0.52,0.525,0.53,0.535,0.54,0.545,0.55,0.555,0.56,0.5650000000000001,0.5700000000000001,0.5750000000000001,0.58,0.585,0.59,0.595,0.6,0.605,0.61,0.615,0.62,0.625,0.63,0.635,0.64,0.645,0.65,0.655,0.66,0.665,0.67,0.675,0.68,0.685,0.6900000000000001,0.6950000000000001,0.7000000000000001,0.705,0.71,0.715,0.72,0.725,0.73,0.735,0.74,0.745,0.75,0.755,0.76,0.765,0.77,0.775,0.78,0.785,0.79,0.795,0.8,0.805,0.81,0.8150000000000001,0.8200000000000001,0.8250000000000001,0.8300000000000001,0.835,0.84,0.845,0.85,0.855,0.86,0.865,0.87,0.875,0.88,0.885,0.89,0.895,0.9,0.905,0.91,0.915,0.92,0.925,0.93,0.935,0.9400000000000001,0.9450000000000001,0.9500000000000001,0.9550000000000001,0.96,0.965,0.97,0.975,0.98,0.985,0.99,0.995,1.0],\"y\":[0.0,0.005,0.01,0.015,0.02,0.025,0.03,0.035,0.04,0.045,0.05,0.055,0.06,0.065,0.07,0.075,0.08,0.085,0.09,0.095,0.1,0.105,0.11,0.115,0.12,0.125,0.13,0.135,0.14,0.145,0.15,0.155,0.16,0.165,0.17,0.17500000000000002,0.18,0.185,0.19,0.195,0.2,0.20500000000000002,0.21,0.215,0.22,0.225,0.23,0.23500000000000001,0.24,0.245,0.25,0.255,0.26,0.265,0.27,0.275,0.28,0.28500000000000003,0.29,0.295,0.3,0.305,0.31,0.315,0.32,0.325,0.33,0.335,0.34,0.34500000000000003,0.35000000000000003,0.355,0.36,0.365,0.37,0.375,0.38,0.385,0.39,0.395,0.4,0.405,0.41000000000000003,0.41500000000000004,0.42,0.425,0.43,0.435,0.44,0.445,0.45,0.455,0.46,0.465,0.47000000000000003,0.47500000000000003,0.48,0.485,0.49,0.495,0.5,0.505,0.51,0.515,0.52,0.525,0.53,0.535,0.54,0.545,0.55,0.555,0.56,0.5650000000000001,0.5700000000000001,0.5750000000000001,0.58,0.585,0.59,0.595,0.6,0.605,0.61,0.615,0.62,0.625,0.63,0.635,0.64,0.645,0.65,0.655,0.66,0.665,0.67,0.675,0.68,0.685,0.6900000000000001,0.6950000000000001,0.7000000000000001,0.705,0.71,0.715,0.72,0.725,0.73,0.735,0.74,0.745,0.75,0.755,0.76,0.765,0.77,0.775,0.78,0.785,0.79,0.795,0.8,0.805,0.81,0.8150000000000001,0.8200000000000001,0.8250000000000001,0.8300000000000001,0.835,0.84,0.845,0.85,0.855,0.86,0.865,0.87,0.875,0.88,0.885,0.89,0.895,0.9,0.905,0.91,0.915,0.92,0.925,0.93,0.935,0.9400000000000001,0.9450000000000001,0.9500000000000001,0.9550000000000001,0.96,0.965,0.97,0.975,0.98,0.985,0.99,0.995,1.0]}},\"id\":\"946d73b4-24b7-47c4-870b-6edbdbb16a71\",\"type\":\"ColumnDataSource\"},{\"attributes\":{\"bottom_units\":\"screen\",\"fill_alpha\":{\"value\":0.5},\"fill_color\":{\"value\":\"lightgrey\"},\"left_units\":\"screen\",\"level\":\"overlay\",\"line_alpha\":{\"value\":1.0},\"line_color\":{\"value\":\"black\"},\"line_dash\":[4,4],\"line_width\":{\"value\":2},\"plot\":null,\"render_mode\":\"css\",\"right_units\":\"screen\",\"top_units\":\"screen\"},\"id\":\"7d2d2105-9d79-4d9f-a7d0-8be158c1bf44\",\"type\":\"BoxAnnotation\"},{\"attributes\":{},\"id\":\"58297bbe-a624-4d1b-811c-678978357054\",\"type\":\"PanTool\"},{\"attributes\":{\"active_drag\":\"auto\",\"active_inspect\":\"auto\",\"active_scroll\":\"auto\",\"active_tap\":\"auto\",\"tools\":[{\"id\":\"58297bbe-a624-4d1b-811c-678978357054\",\"type\":\"PanTool\"},{\"id\":\"fb40e67a-c9e8-4a68-a7ac-c137cf86badd\",\"type\":\"WheelZoomTool\"},{\"id\":\"eb8c5553-5c2d-4556-a985-4e946d588ff1\",\"type\":\"BoxZoomTool\"},{\"id\":\"9d1ee5c0-27a3-4760-8b96-399ca1ea6b22\",\"type\":\"SaveTool\"},{\"id\":\"c072ea24-e7ab-4d92-9598-7568349e43b9\",\"type\":\"ResetTool\"},{\"id\":\"652dff6f-2e6e-47b9-a2ec-c28e57dcb86f\",\"type\":\"HelpTool\"}]},\"id\":\"b935550a-29ae-4a22-bc17-f42e70054ffe\",\"type\":\"Toolbar\"}],\"root_ids\":[\"1510c74b-390c-4a38-860b-a8e3ac4d622d\"]},\"title\":\"Bokeh Application\",\"version\":\"0.12.14\"}};\n",
       "  var render_items = [{\"docid\":\"bd986b45-efe9-4e62-8b4b-418d10c163af\",\"elementid\":\"ebd0630b-ce31-4b24-ad87-dbe4ce10c223\",\"modelid\":\"1510c74b-390c-4a38-860b-a8e3ac4d622d\"}];\n",
       "  root.Bokeh.embed.embed_items_notebook(docs_json, render_items);\n",
       "\n",
       "  }\n",
       "  if (root.Bokeh !== undefined) {\n",
       "    embed_document(root);\n",
       "  } else {\n",
       "    var attempts = 0;\n",
       "    var timer = setInterval(function(root) {\n",
       "      if (root.Bokeh !== undefined) {\n",
       "        embed_document(root);\n",
       "        clearInterval(timer);\n",
       "      }\n",
       "      attempts++;\n",
       "      if (attempts > 100) {\n",
       "        console.log(\"Bokeh: ERROR: Unable to run BokehJS code because BokehJS library is missing\")\n",
       "        clearInterval(timer);\n",
       "      }\n",
       "    }, 10, root)\n",
       "  }\n",
       "})(window);"
      ],
      "application/vnd.bokehjs_exec.v0+json": ""
     },
     "metadata": {
      "application/vnd.bokehjs_exec.v0+json": {
       "id": "1510c74b-390c-4a38-860b-a8e3ac4d622d"
      }
     },
     "output_type": "display_data"
    }
   ],
   "source": [
    "from bokeh.layouts import column\n",
    "from bokeh.models import CustomJS, ColumnDataSource, Slider\n",
    "\n",
    "x = [x*0.005 for x in range(0, 201)]\n",
    "\n",
    "source = ColumnDataSource(data=dict(x=x, y=x))\n",
    "\n",
    "plot = figure(plot_width=400, plot_height=400)\n",
    "plot.line('x', 'y', source=source, line_width=3, line_alpha=0.6)\n",
    "\n",
    "slider = Slider(start=0.1, end=6, value=1, step=.1, title=\"power\")\n",
    "\n",
    "update_curve = CustomJS(args=dict(source=source, slider=slider), code=\"\"\"\n",
    "    var data = source.get('data');\n",
    "    var f = slider.value;\n",
    "    x = data['x']\n",
    "    y = data['y']\n",
    "    for (i = 0; i < x.length; i++) {\n",
    "        y[i] = Math.pow(x[i], f)\n",
    "    }\n",
    "    source.change.emit();\n",
    "\"\"\")\n",
    "slider.js_on_change('value', update_curve)\n",
    "\n",
    "\n",
    "show(column(slider, plot))"
   ]
  },
  {
   "cell_type": "markdown",
   "metadata": {},
   "source": [
    "## Calbacks for selections\n",
    "\n",
    "It's also possible to make JavaScript actions that execute whenever a user selection (e.g., box, point, lasso) changes. This is done by attaching the same kind of CustomJS object to whatever data source the selection is made on.\n",
    "\n",
    "The example below is a bit more sophisticated, and demonstrates updating one glyph's data source in response to another glyph's selection: "
   ]
  },
  {
   "cell_type": "code",
   "execution_count": 12,
   "metadata": {
    "scrolled": false
   },
   "outputs": [
    {
     "data": {
      "text/html": [
       "\n",
       "<div class=\"bk-root\">\n",
       "    <div class=\"bk-plotdiv\" id=\"81b20778-4fdc-4368-a016-7eee05bf2457\"></div>\n",
       "</div>"
      ]
     },
     "metadata": {},
     "output_type": "display_data"
    },
    {
     "data": {
      "application/javascript": [
       "(function(root) {\n",
       "  function embed_document(root) {\n",
       "    \n",
       "  var docs_json = {\"a86dcfee-2a02-4ad7-902a-f0be39ef6d63\":{\"roots\":{\"references\":[{\"attributes\":{},\"id\":\"ec2560c0-fde8-49c7-b784-ab37e4397e67\",\"type\":\"BasicTickFormatter\"},{\"attributes\":{\"below\":[{\"id\":\"c3050b4f-d436-4493-b682-78a7dc21f924\",\"type\":\"LinearAxis\"}],\"left\":[{\"id\":\"e20413d7-b89d-4c09-b903-f71d813f56d7\",\"type\":\"LinearAxis\"}],\"plot_height\":400,\"plot_width\":400,\"renderers\":[{\"id\":\"c3050b4f-d436-4493-b682-78a7dc21f924\",\"type\":\"LinearAxis\"},{\"id\":\"5e391883-eb9e-414a-9efb-9da8c28a1f0d\",\"type\":\"Grid\"},{\"id\":\"e20413d7-b89d-4c09-b903-f71d813f56d7\",\"type\":\"LinearAxis\"},{\"id\":\"15020119-f6b2-4058-ac89-e6d45dc5a6b7\",\"type\":\"Grid\"},{\"id\":\"5a4d65c7-a149-40a1-bae0-e2cf691c1509\",\"type\":\"PolyAnnotation\"},{\"id\":\"30ce320c-caf0-45fd-938d-82f0b09e6138\",\"type\":\"GlyphRenderer\"},{\"id\":\"032d217b-b737-44a0-aa5e-5d9e3ba5b5d6\",\"type\":\"GlyphRenderer\"}],\"title\":{\"id\":\"27967742-9904-4b60-b3b1-46f9a628cb37\",\"type\":\"Title\"},\"toolbar\":{\"id\":\"065355fe-a410-4716-86d1-bf45cbeca6db\",\"type\":\"Toolbar\"},\"x_range\":{\"id\":\"c8b4f6d1-8505-4866-aaa2-fe0b1bc2f807\",\"type\":\"DataRange1d\"},\"x_scale\":{\"id\":\"6b491bce-b699-48d5-aae3-54dfd8023398\",\"type\":\"LinearScale\"},\"y_range\":{\"id\":\"5eb87455-dfe3-41d9-a922-1951a95b2a84\",\"type\":\"DataRange1d\"},\"y_scale\":{\"id\":\"e211bdcd-0966-4799-9a41-657ad5e822d8\",\"type\":\"LinearScale\"}},\"id\":\"f856b30f-bc37-488b-96db-33874f73f9d4\",\"subtype\":\"Figure\",\"type\":\"Plot\"},{\"attributes\":{\"callback\":null},\"id\":\"c8b4f6d1-8505-4866-aaa2-fe0b1bc2f807\",\"type\":\"DataRange1d\"},{\"attributes\":{\"active_drag\":\"auto\",\"active_inspect\":\"auto\",\"active_scroll\":\"auto\",\"active_tap\":\"auto\",\"tools\":[{\"id\":\"83cbfcca-e216-468d-b2ae-e107c03e020c\",\"type\":\"LassoSelectTool\"}]},\"id\":\"065355fe-a410-4716-86d1-bf45cbeca6db\",\"type\":\"Toolbar\"},{\"attributes\":{\"plot\":null,\"text\":\"Select Here\"},\"id\":\"27967742-9904-4b60-b3b1-46f9a628cb37\",\"type\":\"Title\"},{\"attributes\":{\"callback\":null,\"overlay\":{\"id\":\"5a4d65c7-a149-40a1-bae0-e2cf691c1509\",\"type\":\"PolyAnnotation\"}},\"id\":\"83cbfcca-e216-468d-b2ae-e107c03e020c\",\"type\":\"LassoSelectTool\"},{\"attributes\":{\"args\":{\"s2\":{\"id\":\"d4022169-17a3-4401-9862-67fa338cd690\",\"type\":\"ColumnDataSource\"}},\"code\":\"\\n    var inds = cb_obj.get('selected')['1d'].indices;\\n    var d = cb_obj.get('data');\\n    var ym = 0\\n    \\n    if (inds.length == 0) { return; }\\n    \\n    for (i = 0; i < d['color'].length; i++) {\\n        d['color'][i] = \\\"navy\\\"\\n    }\\n    for (i = 0; i < inds.length; i++) {\\n        d['color'][inds[i]] = \\\"firebrick\\\"\\n        ym += d['y'][inds[i]]\\n    }\\n    \\n    ym /= inds.length\\n    s2.get('data')['ym'] = [ym, ym]\\n    \\n    cb_obj.trigger('change');\\n    s2.trigger('change');\\n\"},\"id\":\"20ae1b70-34a3-473e-b1de-911dbd774a68\",\"type\":\"CustomJS\"},{\"attributes\":{},\"id\":\"6b491bce-b699-48d5-aae3-54dfd8023398\",\"type\":\"LinearScale\"},{\"attributes\":{},\"id\":\"bc63fad4-7fb7-4ed1-baf7-8af0807ebb05\",\"type\":\"BasicTickFormatter\"},{\"attributes\":{\"callback\":null},\"id\":\"5eb87455-dfe3-41d9-a922-1951a95b2a84\",\"type\":\"DataRange1d\"},{\"attributes\":{},\"id\":\"e211bdcd-0966-4799-9a41-657ad5e822d8\",\"type\":\"LinearScale\"},{\"attributes\":{\"plot\":{\"id\":\"f856b30f-bc37-488b-96db-33874f73f9d4\",\"subtype\":\"Figure\",\"type\":\"Plot\"},\"ticker\":{\"id\":\"9055de4a-9051-4c45-a6f1-0ad188556514\",\"type\":\"BasicTicker\"}},\"id\":\"5e391883-eb9e-414a-9efb-9da8c28a1f0d\",\"type\":\"Grid\"},{\"attributes\":{\"callback\":{\"id\":\"20ae1b70-34a3-473e-b1de-911dbd774a68\",\"type\":\"CustomJS\"},\"column_names\":[\"x\",\"y\",\"color\"],\"data\":{\"color\":[\"navy\",\"navy\",\"navy\",\"navy\",\"navy\",\"navy\",\"navy\",\"navy\",\"navy\",\"navy\",\"navy\",\"navy\",\"navy\",\"navy\",\"navy\",\"navy\",\"navy\",\"navy\",\"navy\",\"navy\",\"navy\",\"navy\",\"navy\",\"navy\",\"navy\",\"navy\",\"navy\",\"navy\",\"navy\",\"navy\",\"navy\",\"navy\",\"navy\",\"navy\",\"navy\",\"navy\",\"navy\",\"navy\",\"navy\",\"navy\",\"navy\",\"navy\",\"navy\",\"navy\",\"navy\",\"navy\",\"navy\",\"navy\",\"navy\",\"navy\",\"navy\",\"navy\",\"navy\",\"navy\",\"navy\",\"navy\",\"navy\",\"navy\",\"navy\",\"navy\",\"navy\",\"navy\",\"navy\",\"navy\",\"navy\",\"navy\",\"navy\",\"navy\",\"navy\",\"navy\",\"navy\",\"navy\",\"navy\",\"navy\",\"navy\",\"navy\",\"navy\",\"navy\",\"navy\",\"navy\",\"navy\",\"navy\",\"navy\",\"navy\",\"navy\",\"navy\",\"navy\",\"navy\",\"navy\",\"navy\",\"navy\",\"navy\",\"navy\",\"navy\",\"navy\",\"navy\",\"navy\",\"navy\",\"navy\",\"navy\",\"navy\",\"navy\",\"navy\",\"navy\",\"navy\",\"navy\",\"navy\",\"navy\",\"navy\",\"navy\",\"navy\",\"navy\",\"navy\",\"navy\",\"navy\",\"navy\",\"navy\",\"navy\",\"navy\",\"navy\",\"navy\",\"navy\",\"navy\",\"navy\",\"navy\",\"navy\",\"navy\",\"navy\",\"navy\",\"navy\",\"navy\",\"navy\",\"navy\",\"navy\",\"navy\",\"navy\",\"navy\",\"navy\",\"navy\",\"navy\",\"navy\",\"navy\",\"navy\",\"navy\",\"navy\",\"navy\",\"navy\",\"navy\",\"navy\",\"navy\",\"navy\",\"navy\",\"navy\",\"navy\",\"navy\",\"navy\",\"navy\",\"navy\",\"navy\",\"navy\",\"navy\",\"navy\",\"navy\",\"navy\",\"navy\",\"navy\",\"navy\",\"navy\",\"navy\",\"navy\",\"navy\",\"navy\",\"navy\",\"navy\",\"navy\",\"navy\",\"navy\",\"navy\",\"navy\",\"navy\",\"navy\",\"navy\",\"navy\",\"navy\",\"navy\",\"navy\",\"navy\",\"navy\",\"navy\",\"navy\",\"navy\",\"navy\",\"navy\",\"navy\",\"navy\",\"navy\",\"navy\",\"navy\",\"navy\",\"navy\",\"navy\",\"navy\",\"navy\",\"navy\",\"navy\",\"navy\",\"navy\",\"navy\",\"navy\",\"navy\",\"navy\",\"navy\",\"navy\",\"navy\",\"navy\",\"navy\",\"navy\",\"navy\",\"navy\",\"navy\",\"navy\",\"navy\",\"navy\",\"navy\",\"navy\",\"navy\",\"navy\",\"navy\",\"navy\",\"navy\",\"navy\",\"navy\",\"navy\",\"navy\",\"navy\",\"navy\",\"navy\",\"navy\",\"navy\",\"navy\",\"navy\",\"navy\",\"navy\",\"navy\",\"navy\",\"navy\",\"navy\",\"navy\",\"navy\",\"navy\",\"navy\",\"navy\",\"navy\",\"navy\",\"navy\",\"navy\",\"navy\",\"navy\",\"navy\",\"navy\",\"navy\",\"navy\",\"navy\",\"navy\",\"navy\",\"navy\",\"navy\",\"navy\",\"navy\",\"navy\",\"navy\",\"navy\",\"navy\",\"navy\",\"navy\",\"navy\",\"navy\",\"navy\",\"navy\",\"navy\",\"navy\",\"navy\",\"navy\",\"navy\",\"navy\",\"navy\",\"navy\",\"navy\",\"navy\",\"navy\",\"navy\",\"navy\",\"navy\",\"navy\",\"navy\",\"navy\",\"navy\",\"navy\",\"navy\",\"navy\",\"navy\",\"navy\",\"navy\",\"navy\",\"navy\",\"navy\",\"navy\",\"navy\",\"navy\",\"navy\",\"navy\",\"navy\",\"navy\",\"navy\",\"navy\",\"navy\",\"navy\",\"navy\",\"navy\",\"navy\",\"navy\",\"navy\",\"navy\",\"navy\",\"navy\",\"navy\",\"navy\",\"navy\",\"navy\",\"navy\",\"navy\",\"navy\",\"navy\",\"navy\",\"navy\",\"navy\",\"navy\",\"navy\",\"navy\",\"navy\",\"navy\",\"navy\",\"navy\",\"navy\",\"navy\",\"navy\",\"navy\",\"navy\",\"navy\",\"navy\",\"navy\",\"navy\",\"navy\",\"navy\",\"navy\",\"navy\",\"navy\",\"navy\",\"navy\",\"navy\",\"navy\",\"navy\",\"navy\",\"navy\",\"navy\",\"navy\",\"navy\",\"navy\",\"navy\",\"navy\",\"navy\",\"navy\",\"navy\",\"navy\",\"navy\",\"navy\",\"navy\",\"navy\",\"navy\",\"navy\",\"navy\",\"navy\",\"navy\",\"navy\",\"navy\",\"navy\",\"navy\",\"navy\",\"navy\",\"navy\",\"navy\",\"navy\",\"navy\",\"navy\",\"navy\",\"navy\",\"navy\",\"navy\",\"navy\",\"navy\",\"navy\",\"navy\",\"navy\",\"navy\",\"navy\",\"navy\",\"navy\",\"navy\",\"navy\",\"navy\",\"navy\",\"navy\",\"navy\",\"navy\",\"navy\",\"navy\",\"navy\",\"navy\",\"navy\",\"navy\",\"navy\",\"navy\",\"navy\",\"navy\",\"navy\",\"navy\",\"navy\",\"navy\",\"navy\",\"navy\",\"navy\",\"navy\",\"navy\",\"navy\",\"navy\",\"navy\",\"navy\",\"navy\",\"navy\",\"navy\",\"navy\",\"navy\",\"navy\",\"navy\",\"navy\",\"navy\",\"navy\",\"navy\",\"navy\",\"navy\",\"navy\",\"navy\",\"navy\",\"navy\",\"navy\",\"navy\",\"navy\",\"navy\",\"navy\",\"navy\",\"navy\",\"navy\",\"navy\",\"navy\",\"navy\",\"navy\",\"navy\",\"navy\",\"navy\",\"navy\",\"navy\",\"navy\",\"navy\",\"navy\",\"navy\",\"navy\",\"navy\",\"navy\",\"navy\",\"navy\",\"navy\",\"navy\",\"navy\",\"navy\",\"navy\",\"navy\",\"navy\",\"navy\",\"navy\",\"navy\",\"navy\",\"navy\",\"navy\",\"navy\",\"navy\",\"navy\",\"navy\",\"navy\",\"navy\",\"navy\"],\"x\":[0.10105108640274452,0.6497726792475204,0.7060354564339889,0.755744320055616,0.22464860649296514,0.3756220546008814,0.692587943733359,0.1448265981094683,0.9110706539467489,0.7202813024018221,0.09330623127950588,0.20765527420124286,0.6848266082578556,0.8377677817667094,0.9255438442924201,0.48731588128953884,0.4823774124849527,0.3238216097663392,0.6198232933409169,0.8113126724179229,0.30084997559432924,0.8301613307445626,0.008645922721535082,0.7172748682004424,0.40921580903633814,0.44931250329129535,0.6498586810645591,0.5994783852378973,0.9640500902362185,0.880272588429682,0.19948700576373257,0.8116365173122078,0.927183729430427,0.9591871341344849,0.9223773157236683,0.16260941448187527,0.32469877137084124,0.8432767596168356,0.03827772346227598,0.15809260293637506,0.6757501256990667,0.1272615023129835,0.04221476925621381,0.20461779662174395,0.5505099392052976,0.5318652899712949,0.5734289081612365,0.7538275258156896,0.9105909465811202,0.9548220399656931,0.11366644426015016,0.01042187408346451,0.5171689485074743,0.8089585507956181,0.8348290325705067,0.1734611413791678,0.38579050040786855,0.5293588754132563,0.5777814701098735,0.9395108061718112,0.862996451285607,0.350884110505967,0.05613162783695946,0.9163111061058957,0.14247086913728357,0.6271940590983184,0.19127843698041702,0.7454751746832313,0.6891927052745948,0.8860577567496805,0.22835048956241655,0.7235407568834982,0.8766602349337792,0.10261045030040938,0.7145949713838676,0.15465208299762345,0.9006173607254128,0.786140418033334,0.9594308384100566,0.6707473249447236,0.5021593199096899,0.35930285672212015,0.29438683040405045,0.4147853179553249,0.06676281097616976,0.658942968626364,0.01398460855657313,0.6988016300623028,0.9074332277151994,0.384926032090114,0.5864827030505033,0.11843148239030277,0.9025376391010875,0.15768595715603506,0.4045184871017752,0.4964248181087868,0.022573442476750527,0.873034561733188,0.9299571506247417,0.15910451202880327,0.526961438469971,0.6529274360347157,0.406563692958288,0.7698471667184752,0.00803482210528561,0.8600745006859748,0.7987318765383511,0.6599427274914244,0.11516853830783103,0.9839090416204068,0.4092960186861869,0.09890916163321373,0.13516905260168555,0.09438011566472193,0.8815513326682336,0.4183988829931492,0.9799303083394505,0.797740289468562,0.1346600995426267,0.6770553366133529,0.7632856726787104,0.4259420728045953,0.11614357218084126,0.3585145942892476,0.2070958963454893,0.5329319336185923,0.33186619399630723,0.3780986909199209,0.6677832715148929,0.7174540426468179,0.3830733354009146,0.15665135380522988,0.5159867484872099,0.057114810696995866,0.5842492085975962,0.5262452170115657,0.17047881047522961,0.8685358206222408,0.45694648225429413,0.6458862585246369,0.5161426685884926,0.5712266367894536,0.2952300058459352,0.994125099217306,0.7577404608416682,0.3468646313786191,0.28238641920595764,0.483995069655645,0.8158097567309001,0.352299006578078,0.4768677076815847,0.15022578957350263,0.7801213817784541,0.7624982683758369,0.905432728441667,0.9141423546518052,0.21277196918350727,0.8253901708729522,0.21406137478476306,0.587414465754818,0.8632450012494922,0.731349222554238,0.612809730853313,0.14455739530163436,0.726107249369206,0.7648834255978394,0.8973464198118505,0.6133485461440772,0.5615588712576218,0.8578778677431831,0.0464035057100346,0.4215039540663098,0.8284704123947273,0.9975522770095233,0.506005114596899,0.38792506561526996,0.2060956575328161,0.7496875755276032,0.2422243523306935,0.9200834122573623,0.5533582880465457,0.8089566817409137,0.8736811543859276,0.5672719983413604,0.8600543452539726,0.06022566011288699,0.19286334607064226,0.46126542585568264,0.19322009664460438,0.8295563626517004,0.8269467929570621,0.45284885977209677,0.5029690566848294,0.9039613747420485,0.8858804858482953,0.9287184063391251,0.06717122792517782,0.8275582143871864,0.8040953144337113,0.3460170160846391,0.7280265436842678,0.15469113732024664,0.489373135408521,0.5611567301215145,0.8030410446291546,0.14724894641353325,0.979745358523103,0.2679101543691166,0.6706723207659667,0.8053895712313245,0.9764358327110996,0.4810171087017652,0.7901465502188505,0.02863228718320021,0.5498801644465593,0.9493136935101203,0.32201142173889263,0.33569349472089005,0.9840122887291063,0.15975709910240588,0.7249849105523044,0.4577057692427612,0.4548618968501458,0.2016955400564865,0.2658547766520116,0.22411309150571423,0.3050978548942397,0.32076749649512415,0.6705385784926577,0.6102021936110695,0.23420120031881786,0.38847656737720593,0.48142288631722363,0.6877449597147,0.520641409982788,0.309324740444727,0.9544564075816765,0.802904408862175,0.00790549368046456,0.41645426831766774,0.3068431922716631,0.5002085618354097,0.690250739616946,0.10720811428980537,0.08508377809206147,0.047293594595684274,0.2615599749093994,0.7633001168553268,0.8843208450258644,0.7796937346954929,0.08876044733956068,0.14621982782669252,0.7277814726034881,0.805352380207257,0.8720674071265315,0.7754200326567225,0.20203900348813641,0.12048192434990757,0.31072032163974384,0.8453342338290092,0.9154226676772135,0.2500568983029291,0.7825065442005639,0.672141575027637,0.5525324201021192,0.2511047770017314,0.042196014633424817,0.5529365946751347,0.8375096094996456,0.5971471965461426,0.40876701518609027,0.09097506837701586,0.706521036050797,0.42138787730914795,0.6620079477635165,0.8496661999961619,0.8799717260133286,0.39605560536091644,0.8126724185198793,0.41140388893587054,0.5105425992050414,0.46726215311350405,0.8331573035757489,0.5400125727092325,0.16373190696548923,0.43138113404898093,0.713337828041876,0.3296436796104856,0.3201768200341787,0.30025555808966153,0.40014159944366845,0.23484980836017577,0.27049453082966934,0.5201478663266821,0.2893683971623102,0.14142646342262577,0.04115576605856919,0.8061840630413176,0.6226231289877693,0.9429475892604632,0.2588697078346537,0.7409439391457884,0.9295454262353234,0.20734910975884024,0.19472791332154704,0.5937310151379119,0.3101173567253783,0.9775838025612829,0.5087675468114029,0.5612024113428197,0.33703482570356647,0.7506251485337487,0.04850221095225127,0.4915630916996647,0.7614450753479165,0.644696687048423,0.783749404257766,0.23211616515643385,0.6464152211956743,0.49916531187715485,0.08084441569416234,0.36296851027043986,0.6473809948822113,0.5687133286187502,0.06968298574306708,0.6596723384435146,0.3551274816682276,0.9824632722107145,0.5840495015781579,0.6254403164532675,0.5547722396292931,0.6927035576300712,0.9770577590342439,0.7511964439018906,0.25708155612691297,0.6498950363991555,0.23570702388651332,0.34549613027881587,0.4849342203729292,0.32168702847633235,0.8821765063259386,0.4346836134317895,0.5457216196059073,0.07782855203171024,0.7853287242915609,0.26342214149405785,0.4776789391587357,0.3107979429613764,0.5182157879179398,0.653415196702865,0.5731616529933468,0.7393896370746335,0.786809602887592,0.831480829116808,0.10455985661725886,0.49314711597342065,0.5298235558027621,0.6334702684598563,0.8564039820350497,0.6462154310801912,0.9625562055356518,0.8909021262280703,0.8626453684378608,0.18960062216675788,0.966049782041191,0.24121079776042964,0.29113321444804974,0.5076051841106873,0.2559536195741957,0.20136815165650102,0.1333602346956726,0.18676419408780243,0.12088237716850059,0.8390116042840123,0.1643156545686042,0.7117235113235384,0.5442945278090981,0.7265733279950457,0.5942071644847446,0.9379303589373894,0.2419256105269867,0.33122236226755364,0.9289763334617016,0.5741207792514819,0.7980768708091395,0.7133170473950773,0.3753285726209503,0.45990035906459226,0.7343378606268542,0.7328512247567959,0.16071025084804091,0.34982000333980556,0.24887819098908937,0.029896420442599436,0.8381934732053613,0.7730328141046434,0.258212604365582,0.6619571357420637,0.8719851414609753,0.2359334662620597,0.3335279760720219,0.12869500772176412,0.7144374638301328,0.13058546708256102,0.4235689049716508,0.3152206574939028,0.2237140314825805,0.20258595110563793,0.877897936435693,0.20192901648706874,0.38363576694400436,0.7585304652809127,0.1939673418154052,0.5567759698100352,0.3482472353800421,0.5546637083993193,0.12697633601398906,0.4725633581648766,0.7247056097964637,0.5564453258630231,0.3724006380258851,0.43061330974979717,0.2780139999234964,0.6603846253316265,0.4340106746270894,0.12255715355918129,0.41125194961684186,0.273558984999273,0.11762427173375511,0.836643381659082,0.6471859183772879,0.7554489403832776,0.8257715396953788,0.25299306426028734,0.386771840091508,0.25010626417776016,0.25733786278374626,0.4639592330286758,0.011532815982413291,0.6889193361885655,0.3689230178538109,0.8326931022859327,0.8008145068714958,0.39359691781685524,0.3562975753772404,0.9003051156440488,0.2680510707093128,0.45160618853943457,0.05945540089404311,0.5049977519119746,0.395046150332531,0.3925557794746899,0.12928937028958742,0.5948580383360672,0.5144132537570608,0.25452967752887223,0.8807477425700332,0.002668014738430702,0.6122735519312952,0.09756169111545343,0.33903992589678167,0.09006571790657802,0.6060280851580845,0.05755477671379439,0.935969157478235,0.16623149111433588,0.5653761214662132,0.04225522460259534,0.34107627231004567,0.22516312776851155,0.04079993635418355,0.19170240464163013,0.5086111827480665,0.022684633007151955,0.12094059752488462,0.17643411199077752,0.006665235524236812,0.6109886889078562,0.8653939025592744,0.38884631703865,0.4357057462529279,0.5741011723058427,0.07327868319432806,0.11076911882381568,0.231901218705318,0.7206621262891427,0.9120402634866915,0.7388482510958909,0.23912343562685134,0.3282257248176088,0.41642744017237976,0.6719031980427934,0.23906900977345558,0.7759508635492443,0.6295674838766643,0.18715255784786755,0.5670918226220037,0.9855859515350307,0.20327651989722662,0.27976992643429166],\"y\":[0.9133331684105828,0.43085659702180434,0.051761621149655435,0.7638301413636817,0.8618979104885769,0.2580608145357265,0.9494109343951996,0.18420616053526184,0.7164302814911796,0.6133651790082643,0.2262572013734464,0.2838469369208354,0.47489486505373235,0.1389253683770152,0.2713095563395721,0.03802239662030793,0.8733804489527157,0.6570415862480816,0.21334465529562308,0.39321501905098455,0.4392687924493025,0.8456372998349563,0.40440582135760883,0.7804693664061414,0.9992805629561549,0.8407795866270333,0.3875686634510128,0.6659373043870194,0.34524321422475424,0.18505556304117732,0.49599956710102955,0.6185885792199417,0.569256436023875,0.019114831195337967,0.5405177563270701,0.4140158027796941,0.18385495428206866,0.07983066183550336,0.6311961429864504,0.43689348460655186,0.9385398892066515,0.023654536823995542,0.12096620943220449,0.5184370949876952,0.486897069175078,0.4218233739349666,0.18247701415022466,0.3145483667390394,0.7384952503453965,0.7438664040416889,0.33962529904408145,0.6077750841253632,0.8800653951518299,0.3351045668180397,0.42551246843286794,0.3966706906592906,0.8649551923129766,0.0016507355042816307,0.7092093105366828,0.8489569170932092,0.9659222502731242,0.5463816013800656,0.7094902140708991,0.32951619633119344,0.12498099430489462,0.24850724991235296,0.26882172519383485,0.927470165593608,0.5765378854933966,0.7750271478354164,0.8163228111281235,0.5381412201487333,0.8657469983858406,0.6232480057584782,0.21198492852572437,0.6324749479045952,0.13938033557695673,0.8315259427370493,0.4686963256971268,0.4362420356578536,0.19307339842428362,0.26657461249150016,0.8889656690939617,0.9436299161385281,0.0606278505887049,0.6757713360277621,0.3054986108459089,0.46131723275180225,0.2508304096232177,0.6044499028102349,0.523671929909781,0.008223930659677192,0.3422716149425252,0.8353726222800083,0.0426343300918155,0.8045751228865101,0.5930155673892544,0.17005869690203745,0.6021756810652811,0.9552974397791633,0.23669706738817964,0.015182574144355976,0.053644134959520806,0.6706431950819575,0.6089730284602417,0.7968997587162805,0.043369630505175616,0.3561961100810631,0.3038075499034364,0.525969619749445,0.7603896839773869,0.6988672474785754,0.7026754947603588,0.5327743955936287,0.2500547500692828,0.8347386974284078,0.36624315515652783,0.13712059153856548,0.12186909449066308,0.5731166901786906,0.4147127700977268,0.6511218743638979,0.45754621102830595,0.7596758714912749,0.9172119307336427,0.18929559200404633,0.6288657446156973,0.377883088891944,0.20220348693324874,0.6641287217018701,0.45402150506388206,0.06857606464104593,0.14518129895853416,0.7697957421524734,0.7061102327702291,0.18580127557397164,0.1836585081469495,0.7706720053670506,0.15076888803114463,0.4073410942591198,0.8061898850585325,0.674849780774042,0.42948277089326803,0.13830148343682724,0.8336459631840174,0.045063301664512334,0.15272200349141218,0.968891549684383,0.7872393591699806,0.531837785594367,0.771780454469542,0.9609271460874008,0.3402870543778119,0.21251655992789653,0.5176287904153791,0.2823859109869945,0.32301315958040855,0.6841857589777077,0.9951475137725103,0.49212936068301616,0.3718509314172518,0.17085652811234298,0.4103063096337525,0.8028018296170392,0.06471053676897831,0.7481316149445,0.7755961545403839,0.31254790609765304,0.13201985605917932,0.3115886905137564,0.41985537632637115,0.31638844470926686,0.2551094562331624,0.9377803171166355,0.8192683529737912,0.15486404242454865,0.7190085589708336,0.5951743070858025,0.054008017799634156,0.8923185226378573,0.5829893378996635,0.5188950961314253,0.3747090495414761,0.09586747708423926,0.9154096193869348,0.9701237306063003,0.16211480175967685,0.47421864196243935,0.7326182527058328,0.7712289502444751,0.9870346014434764,0.2998448925930737,0.04526942182475813,0.7124848516378166,0.31928743205527044,0.6732990375771319,0.5897456255804366,0.4244068091141645,0.8610923809421263,0.9809332158380082,0.3500538550334312,0.3540873500263143,0.6712827874359533,0.46074652956698736,0.3571306838714592,0.7862563023941992,0.36487865693189026,0.5912407328418012,0.8665291820487016,0.8724712770548666,0.95157346956303,0.9472075377687758,0.23440260058382545,0.5860793727161416,0.44512522140303,0.6055629395789517,0.8952934653425374,0.6812543935301327,0.6328529539232517,0.6591503394801319,0.9470157862834425,0.5357724077785512,0.10638337886517335,0.15188561017459412,0.629891010286865,0.3187228088218469,0.2079466934435079,0.8012661617027681,0.26745502326331316,0.9820702430935255,0.20844253830214698,0.10905082281897771,0.7559503897939284,0.8464155686051253,0.15464394828099992,0.752265469815306,0.7374847141979685,0.9960153062245897,0.844522465054614,0.8972426440383293,0.14973814000400454,0.6615979532077136,0.1070296157482522,0.4275835390003817,0.7152902503650302,0.8958170654074994,0.12282962467168612,0.6214299615961594,0.03803697598946332,0.3341900328765416,0.5902419735440078,0.9670928977691604,0.4748573116460755,0.31502747930422903,0.6473618349261686,0.9171114761154264,0.3572930690755003,0.6570126274654101,0.21094886510540212,0.12505653523516458,0.6940614869167137,0.7296680524771986,0.7663759948447977,0.5195431974990856,0.8481425877569813,0.5832724556035452,0.9195143944689641,0.8287147732925509,0.7440796520123263,0.5955166546257344,0.5366191795707539,0.5568582295454781,0.49538557389767957,0.7142511107010602,0.7596213996439646,0.4366835695307746,0.4942423492926935,0.3054958235677997,0.8290737705760044,0.8183360444639466,0.881956101600612,0.41094726799626513,0.8094775371862628,0.9461022322127295,0.534423006882783,0.9329436133663565,0.8657728193416979,0.5014100711653052,0.2943429789436064,0.2782064033539613,0.19674136486877103,0.025124512908029195,0.38741780350093447,0.6684684180362364,0.5181473715249559,0.33179385818825957,0.26841648711427546,0.1181758437172783,0.8508809812970954,0.26328813544786234,0.12450663708123144,0.12547892245776737,0.7877977772177155,0.3414277009593284,0.25683410094179093,0.9485053511640481,0.20695091680687971,0.1180556566944495,0.8323892749377054,0.8947070133381017,0.8119120447230443,0.3261738348737643,0.19532549802928434,0.27837384063068493,0.8748619830658861,0.24722381443614228,0.9026900965121163,0.07997888677740439,0.6281102558585159,0.06774937515552937,0.6704235058417582,0.14207514356988793,0.009851814372469625,0.13424110018301239,0.5844752851733694,0.6208933274122346,0.07539865413891744,0.8664860125640017,0.027332846536970545,0.7817767872829919,0.8788906606739089,0.6689131931958598,0.569679844347505,0.5910988845124884,0.12046871891768296,0.5687785695041949,0.08267308596008005,0.6363201038275147,0.3121993250839762,0.5540214414091054,0.9686658437999475,0.7257865838105189,0.22552005905965689,0.19013078565078156,0.8442104435019246,0.16224606128765873,0.1455108858435712,0.8940419497290022,0.518893520247968,0.25443777563791625,0.06771859148700721,0.5554921531614324,0.7272112578728416,0.5717848465054113,0.7918750899854502,0.9418526180577583,0.8903709941352062,0.3279593181146475,0.548334395583295,0.07798877117973257,0.49318550513293014,0.4745109913795972,0.5415796636243159,0.013033787029664956,0.5010826044747521,0.8691045583491774,0.7315614707213812,0.20927083091214682,0.45505541847795805,0.9940920988153825,0.3321698705097881,0.24710498853432417,0.18702411227951066,0.2800615268725878,0.7705708547774113,0.6082402630646202,0.4972691642407324,0.6759314960961108,0.9462004176928056,0.2082440257517374,0.07485272494757655,0.2614046890058279,0.6603301774950373,0.07130731419494962,0.9028275556247995,0.21673342146350638,0.6090819589516929,0.817948496542847,0.11214633411935748,0.5155864644436386,0.8633152123600754,0.7829192986351097,0.6685438854144126,0.7054943333031138,0.8946665712204755,0.8227328158167092,0.08364557660757277,0.5854007365962939,0.9137243896604472,0.7611975138164612,0.8936790827158261,0.5323997345971881,0.47964583057992005,0.5964855329010206,0.33294588242488043,0.6820217950926846,0.9358778252369274,0.753419875853625,0.7711478671466613,0.9333852923982117,0.7058797462479045,0.1539944547402411,0.03937266106161552,0.5659866618213282,0.1549144515525387,0.6602828989887053,0.747436615052588,0.9927196446496399,0.599082506598914,0.747062015274317,0.808531766877216,0.5610880942545584,0.5778826329195941,0.3032669053818813,0.35823121806944813,0.13570063947693045,0.9875049087164693,0.12578003589376963,0.014424569171698098,0.39668533773857506,0.8257618902666423,0.6817920452726959,0.964335290150709,0.8043352310265994,0.45056952867980293,0.5724864431886826,0.2951275238539195,0.478179570261252,0.11503799841789575,0.12527814346255295,0.025388418506358423,0.8774456778883476,0.607734169117629,0.2213954042250803,0.9423219221107068,0.5412369484035202,0.876110593237345,0.41874928552675095,0.5613895191040014,0.07686303090234059,0.1560643516506075,0.4634728850391632,0.4925229872070236,0.5101619223768147,0.7548181818857946,0.8449906149373794,0.0652398555022119,0.9107911707982349,0.016829360877561594,0.9613861266119221,0.8186940475618589,0.762382445610864,0.8590948865760363,0.7614298065275924,0.5296948415323485,0.9305700009485112,0.4820326654093987,0.9077573258113365,0.5496079962853643,0.9252047615920049,0.3164835811078901,0.11625848923262483,0.2661316071654809,0.846558463979336,0.853640527073999,0.1059158443654652,0.6905270432972499,0.8353397790967861,0.14165079565538508,0.6214061452003601,0.7142122838629906,0.9597217221167145,0.6392597781779193,0.15561676185659445,0.035386746552119486,0.33751282665119164,0.7576331928736032,0.10892738551070369,0.39503869318895446,0.7171645899200926,0.029051030592320615,0.6614615975499007,0.10040669528798396,0.06565484891819728,0.856160586359967,0.21959535506591443,0.2550792817238158,0.5528316754216666,0.8631133391164804,0.719024841305739]}},\"id\":\"e3e3fd1e-a1d9-4888-9227-0886e054af34\",\"type\":\"ColumnDataSource\"},{\"attributes\":{\"line_alpha\":0.6,\"line_color\":\"orange\",\"line_width\":5,\"x\":{\"field\":\"xm\"},\"y\":{\"field\":\"ym\"}},\"id\":\"83787724-cca2-4528-a1e1-351addbb6ccf\",\"type\":\"Line\"},{\"attributes\":{\"formatter\":{\"id\":\"ec2560c0-fde8-49c7-b784-ab37e4397e67\",\"type\":\"BasicTickFormatter\"},\"plot\":{\"id\":\"f856b30f-bc37-488b-96db-33874f73f9d4\",\"subtype\":\"Figure\",\"type\":\"Plot\"},\"ticker\":{\"id\":\"9055de4a-9051-4c45-a6f1-0ad188556514\",\"type\":\"BasicTicker\"}},\"id\":\"c3050b4f-d436-4493-b682-78a7dc21f924\",\"type\":\"LinearAxis\"},{\"attributes\":{\"line_alpha\":0.1,\"line_color\":\"#1f77b4\",\"line_width\":5,\"x\":{\"field\":\"xm\"},\"y\":{\"field\":\"ym\"}},\"id\":\"000dfbab-774d-4811-8101-13af406802f8\",\"type\":\"Line\"},{\"attributes\":{},\"id\":\"9055de4a-9051-4c45-a6f1-0ad188556514\",\"type\":\"BasicTicker\"},{\"attributes\":{\"data_source\":{\"id\":\"d4022169-17a3-4401-9862-67fa338cd690\",\"type\":\"ColumnDataSource\"},\"glyph\":{\"id\":\"83787724-cca2-4528-a1e1-351addbb6ccf\",\"type\":\"Line\"},\"hover_glyph\":null,\"muted_glyph\":null,\"nonselection_glyph\":{\"id\":\"000dfbab-774d-4811-8101-13af406802f8\",\"type\":\"Line\"},\"selection_glyph\":null,\"view\":{\"id\":\"3d2894ee-84eb-4ea0-88d8-e054f24a5eed\",\"type\":\"CDSView\"}},\"id\":\"032d217b-b737-44a0-aa5e-5d9e3ba5b5d6\",\"type\":\"GlyphRenderer\"},{\"attributes\":{\"formatter\":{\"id\":\"bc63fad4-7fb7-4ed1-baf7-8af0807ebb05\",\"type\":\"BasicTickFormatter\"},\"plot\":{\"id\":\"f856b30f-bc37-488b-96db-33874f73f9d4\",\"subtype\":\"Figure\",\"type\":\"Plot\"},\"ticker\":{\"id\":\"d9ab3483-d4d8-4ab0-9b43-185fec42bcc7\",\"type\":\"BasicTicker\"}},\"id\":\"e20413d7-b89d-4c09-b903-f71d813f56d7\",\"type\":\"LinearAxis\"},{\"attributes\":{\"source\":{\"id\":\"d4022169-17a3-4401-9862-67fa338cd690\",\"type\":\"ColumnDataSource\"}},\"id\":\"3d2894ee-84eb-4ea0-88d8-e054f24a5eed\",\"type\":\"CDSView\"},{\"attributes\":{},\"id\":\"d9ab3483-d4d8-4ab0-9b43-185fec42bcc7\",\"type\":\"BasicTicker\"},{\"attributes\":{\"dimension\":1,\"plot\":{\"id\":\"f856b30f-bc37-488b-96db-33874f73f9d4\",\"subtype\":\"Figure\",\"type\":\"Plot\"},\"ticker\":{\"id\":\"d9ab3483-d4d8-4ab0-9b43-185fec42bcc7\",\"type\":\"BasicTicker\"}},\"id\":\"15020119-f6b2-4058-ac89-e6d45dc5a6b7\",\"type\":\"Grid\"},{\"attributes\":{\"fill_alpha\":{\"value\":0.5},\"fill_color\":{\"value\":\"lightgrey\"},\"level\":\"overlay\",\"line_alpha\":{\"value\":1.0},\"line_color\":{\"value\":\"black\"},\"line_dash\":[4,4],\"line_width\":{\"value\":2},\"plot\":null,\"xs_units\":\"screen\",\"ys_units\":\"screen\"},\"id\":\"5a4d65c7-a149-40a1-bae0-e2cf691c1509\",\"type\":\"PolyAnnotation\"},{\"attributes\":{\"source\":{\"id\":\"e3e3fd1e-a1d9-4888-9227-0886e054af34\",\"type\":\"ColumnDataSource\"}},\"id\":\"33e11a45-1950-48c5-b325-221e9192c43e\",\"type\":\"CDSView\"},{\"attributes\":{\"fill_alpha\":{\"value\":0.4},\"fill_color\":{\"field\":\"color\"},\"line_alpha\":{\"value\":0.4},\"line_color\":{\"field\":\"color\"},\"size\":{\"units\":\"screen\",\"value\":8},\"x\":{\"field\":\"x\"},\"y\":{\"field\":\"y\"}},\"id\":\"c0aaea4f-43eb-4583-a789-73611d56210d\",\"type\":\"Circle\"},{\"attributes\":{\"callback\":null,\"column_names\":[\"xm\",\"ym\"],\"data\":{\"xm\":[0,1],\"ym\":[0.5,0.5]}},\"id\":\"d4022169-17a3-4401-9862-67fa338cd690\",\"type\":\"ColumnDataSource\"},{\"attributes\":{\"data_source\":{\"id\":\"e3e3fd1e-a1d9-4888-9227-0886e054af34\",\"type\":\"ColumnDataSource\"},\"glyph\":{\"id\":\"c0aaea4f-43eb-4583-a789-73611d56210d\",\"type\":\"Circle\"},\"hover_glyph\":null,\"muted_glyph\":null,\"nonselection_glyph\":{\"id\":\"c305940b-deb8-4e6f-89f2-cabc5cb483a2\",\"type\":\"Circle\"},\"selection_glyph\":null,\"view\":{\"id\":\"33e11a45-1950-48c5-b325-221e9192c43e\",\"type\":\"CDSView\"}},\"id\":\"30ce320c-caf0-45fd-938d-82f0b09e6138\",\"type\":\"GlyphRenderer\"},{\"attributes\":{\"fill_alpha\":{\"value\":0.1},\"fill_color\":{\"value\":\"#1f77b4\"},\"line_alpha\":{\"value\":0.1},\"line_color\":{\"value\":\"#1f77b4\"},\"size\":{\"units\":\"screen\",\"value\":8},\"x\":{\"field\":\"x\"},\"y\":{\"field\":\"y\"}},\"id\":\"c305940b-deb8-4e6f-89f2-cabc5cb483a2\",\"type\":\"Circle\"}],\"root_ids\":[\"f856b30f-bc37-488b-96db-33874f73f9d4\"]},\"title\":\"Bokeh Application\",\"version\":\"0.12.14\"}};\n",
       "  var render_items = [{\"docid\":\"a86dcfee-2a02-4ad7-902a-f0be39ef6d63\",\"elementid\":\"81b20778-4fdc-4368-a016-7eee05bf2457\",\"modelid\":\"f856b30f-bc37-488b-96db-33874f73f9d4\"}];\n",
       "  root.Bokeh.embed.embed_items_notebook(docs_json, render_items);\n",
       "\n",
       "  }\n",
       "  if (root.Bokeh !== undefined) {\n",
       "    embed_document(root);\n",
       "  } else {\n",
       "    var attempts = 0;\n",
       "    var timer = setInterval(function(root) {\n",
       "      if (root.Bokeh !== undefined) {\n",
       "        embed_document(root);\n",
       "        clearInterval(timer);\n",
       "      }\n",
       "      attempts++;\n",
       "      if (attempts > 100) {\n",
       "        console.log(\"Bokeh: ERROR: Unable to run BokehJS code because BokehJS library is missing\")\n",
       "        clearInterval(timer);\n",
       "      }\n",
       "    }, 10, root)\n",
       "  }\n",
       "})(window);"
      ],
      "application/vnd.bokehjs_exec.v0+json": ""
     },
     "metadata": {
      "application/vnd.bokehjs_exec.v0+json": {
       "id": "f856b30f-bc37-488b-96db-33874f73f9d4"
      }
     },
     "output_type": "display_data"
    }
   ],
   "source": [
    "from random import random\n",
    "\n",
    "x = [random() for x in range(500)]\n",
    "y = [random() for y in range(500)]\n",
    "color = [\"navy\"] * len(x)\n",
    "\n",
    "s = ColumnDataSource(data=dict(x=x, y=y, color=color))\n",
    "p = figure(plot_width=400, plot_height=400, tools=\"lasso_select\", title=\"Select Here\")\n",
    "p.circle('x', 'y', color='color', size=8, source=s, alpha=0.4)\n",
    "\n",
    "s2 = ColumnDataSource(data=dict(xm=[0,1],ym=[0.5, 0.5]))\n",
    "p.line(x='xm', y='ym', color=\"orange\", line_width=5, alpha=0.6, source=s2)\n",
    "\n",
    "s.callback = CustomJS(args=dict(s2=s2), code=\"\"\"\n",
    "    var inds = cb_obj.get('selected')['1d'].indices;\n",
    "    var d = cb_obj.get('data');\n",
    "    var ym = 0\n",
    "    \n",
    "    if (inds.length == 0) { return; }\n",
    "    \n",
    "    for (i = 0; i < d['color'].length; i++) {\n",
    "        d['color'][i] = \"navy\"\n",
    "    }\n",
    "    for (i = 0; i < inds.length; i++) {\n",
    "        d['color'][inds[i]] = \"firebrick\"\n",
    "        ym += d['y'][inds[i]]\n",
    "    }\n",
    "    \n",
    "    ym /= inds.length\n",
    "    s2.get('data')['ym'] = [ym, ym]\n",
    "    \n",
    "    cb_obj.trigger('change');\n",
    "    s2.trigger('change');\n",
    "\"\"\")\n",
    "\n",
    "show(p)"
   ]
  },
  {
   "cell_type": "markdown",
   "metadata": {
    "collapsed": true
   },
   "source": [
    "# More\n",
    "For more interactions, see the User Guide - http://bokeh.pydata.org/en/latest/docs/user_guide/interaction.html"
   ]
  }
 ],
 "metadata": {
  "anaconda-cloud": {},
  "kernelspec": {
   "display_name": "Python 3",
   "language": "python",
   "name": "python3"
  },
  "language_info": {
   "codemirror_mode": {
    "name": "ipython",
    "version": 3
   },
   "file_extension": ".py",
   "mimetype": "text/x-python",
   "name": "python",
   "nbconvert_exporter": "python",
   "pygments_lexer": "ipython3",
   "version": "3.6.3"
  },
  "widgets": {
   "state": {
    "335ae2c8ff80469e9adac668c2924989": {
     "views": [
      {
       "cell_index": 19
      }
     ]
    }
   },
   "version": "1.2.0"
  }
 },
 "nbformat": 4,
 "nbformat_minor": 1
}
