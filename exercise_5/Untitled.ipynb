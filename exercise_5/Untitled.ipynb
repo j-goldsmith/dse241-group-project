{
 "cells": [
  {
   "cell_type": "code",
   "execution_count": 2,
   "metadata": {},
   "outputs": [],
   "source": [
    "import bokeh as bh"
   ]
  },
  {
   "cell_type": "code",
   "execution_count": 22,
   "metadata": {},
   "outputs": [],
   "source": [
    "import networkx as n\n",
    "from bokeh.models import ColumnDataSource"
   ]
  },
  {
   "cell_type": "code",
   "execution_count": 37,
   "metadata": {},
   "outputs": [],
   "source": [
    "G = n.read_graphml('sheep_ml.graphml')"
   ]
  },
  {
   "cell_type": "code",
   "execution_count": 106,
   "metadata": {
    "scrolled": true
   },
   "outputs": [],
   "source": [
    "sheep_age=nx.get_node_attributes(G,'age')"
   ]
  },
  {
   "cell_type": "code",
   "execution_count": 107,
   "metadata": {
    "scrolled": true
   },
   "outputs": [],
   "source": [
    "edge_weight=nx.get_edge_attributes(G,'weight')"
   ]
  },
  {
   "cell_type": "code",
   "execution_count": 130,
   "metadata": {
    "scrolled": true
   },
   "outputs": [
    {
     "data": {
      "text/plain": [
       "1"
      ]
     },
     "execution_count": 130,
     "metadata": {},
     "output_type": "execute_result"
    }
   ],
   "source": [
    "edge_weight[('1', '2')]"
   ]
  },
  {
   "cell_type": "code",
   "execution_count": 105,
   "metadata": {
    "scrolled": true
   },
   "outputs": [],
   "source": [
    "nodes = list(G.nodes())\n",
    "edges = list(G.edges())\n",
    "edges_start = [edge[0] for edge in edges]\n",
    "edges_end = [edge[1] for edge in edges]\n",
    "#edge_weigth = [x for edge in edges]\n",
    "node_source = ColumnDataSource(data={'index':nodes})\n",
    "edge_source = ColumnDataSource(data=dict(\n",
    "            start=edges_start,\n",
    "            end=edges_end))"
   ]
  },
  {
   "cell_type": "code",
   "execution_count": 121,
   "metadata": {},
   "outputs": [],
   "source": [
    "graph = {\"nodes\":[],\"links\":[]}"
   ]
  },
  {
   "cell_type": "code",
   "execution_count": 122,
   "metadata": {},
   "outputs": [],
   "source": [
    "for i in range(len(sheep_age)):\n",
    "    graph['nodes'].append({\"ID\":str(i+1),\"Age\":sheep_age[str(i+1)]})"
   ]
  },
  {
   "cell_type": "code",
   "execution_count": 128,
   "metadata": {
    "scrolled": true
   },
   "outputs": [
    {
     "data": {
      "text/plain": [
       "'1'"
      ]
     },
     "execution_count": 128,
     "metadata": {},
     "output_type": "execute_result"
    }
   ],
   "source": [
    "edges[0][0]"
   ]
  },
  {
   "cell_type": "code",
   "execution_count": 131,
   "metadata": {
    "collapsed": true
   },
   "outputs": [
    {
     "ename": "KeyError",
     "evalue": "\"('1','2')\"",
     "output_type": "error",
     "traceback": [
      "\u001b[1;31m---------------------------------------------------------------------------\u001b[0m",
      "\u001b[1;31mKeyError\u001b[0m                                  Traceback (most recent call last)",
      "\u001b[1;32m<ipython-input-131-9cbecd3317ec>\u001b[0m in \u001b[0;36m<module>\u001b[1;34m()\u001b[0m\n\u001b[0;32m      1\u001b[0m \u001b[1;32mfor\u001b[0m \u001b[0mi\u001b[0m \u001b[1;32min\u001b[0m \u001b[0mrange\u001b[0m\u001b[1;33m(\u001b[0m\u001b[0mlen\u001b[0m\u001b[1;33m(\u001b[0m\u001b[0medges\u001b[0m\u001b[1;33m)\u001b[0m\u001b[1;33m)\u001b[0m\u001b[1;33m:\u001b[0m\u001b[1;33m\u001b[0m\u001b[0m\n\u001b[1;32m----> 2\u001b[1;33m     \u001b[0mgraph\u001b[0m\u001b[1;33m[\u001b[0m\u001b[1;34m'links'\u001b[0m\u001b[1;33m]\u001b[0m\u001b[1;33m.\u001b[0m\u001b[0mappend\u001b[0m\u001b[1;33m(\u001b[0m\u001b[1;33m{\u001b[0m\u001b[1;34m\"source\"\u001b[0m\u001b[1;33m:\u001b[0m\u001b[0medges\u001b[0m\u001b[1;33m[\u001b[0m\u001b[0mi\u001b[0m\u001b[1;33m]\u001b[0m\u001b[1;33m[\u001b[0m\u001b[1;36m0\u001b[0m\u001b[1;33m]\u001b[0m\u001b[1;33m,\u001b[0m\u001b[1;34m\"target\"\u001b[0m\u001b[1;33m:\u001b[0m\u001b[0medges\u001b[0m\u001b[1;33m[\u001b[0m\u001b[0mi\u001b[0m\u001b[1;33m]\u001b[0m\u001b[1;33m[\u001b[0m\u001b[1;36m1\u001b[0m\u001b[1;33m]\u001b[0m\u001b[1;33m,\u001b[0m\u001b[1;34m\"weight\"\u001b[0m\u001b[1;33m:\u001b[0m\u001b[0medge_weight\u001b[0m\u001b[1;33m[\u001b[0m\u001b[1;34m\"('\"\u001b[0m\u001b[1;33m+\u001b[0m\u001b[0mstr\u001b[0m\u001b[1;33m(\u001b[0m\u001b[0medges\u001b[0m\u001b[1;33m[\u001b[0m\u001b[0mi\u001b[0m\u001b[1;33m]\u001b[0m\u001b[1;33m[\u001b[0m\u001b[1;36m0\u001b[0m\u001b[1;33m]\u001b[0m\u001b[1;33m)\u001b[0m\u001b[1;33m+\u001b[0m\u001b[1;34m\"','\"\u001b[0m\u001b[1;33m+\u001b[0m\u001b[0mstr\u001b[0m\u001b[1;33m(\u001b[0m\u001b[0medges\u001b[0m\u001b[1;33m[\u001b[0m\u001b[0mi\u001b[0m\u001b[1;33m]\u001b[0m\u001b[1;33m[\u001b[0m\u001b[1;36m1\u001b[0m\u001b[1;33m]\u001b[0m\u001b[1;33m)\u001b[0m\u001b[1;33m+\u001b[0m\u001b[1;34m\"')\"\u001b[0m\u001b[1;33m]\u001b[0m\u001b[1;33m}\u001b[0m\u001b[1;33m)\u001b[0m\u001b[1;33m\u001b[0m\u001b[0m\n\u001b[0m",
      "\u001b[1;31mKeyError\u001b[0m: \"('1','2')\""
     ]
    }
   ],
   "source": [
    "for i in range(len(edges)):\n",
    "    graph['links'].append({\"source\":edges[i][0],\"target\":edges[i][1],\"weight\":edge_weight[\"('\"+str(edges[i][0])+\"','\"+str(edges[i][1])+\"')\"]})"
   ]
  },
  {
   "cell_type": "code",
   "execution_count": 83,
   "metadata": {},
   "outputs": [],
   "source": [
    "import networkx as nx\n",
    "\n",
    "from bokeh.io import show, output_file\n",
    "from bokeh.models import Plot, Range1d, MultiLine, Circle, HoverTool, TapTool, BoxSelectTool\n",
    "from bokeh.models.graphs import from_networkx, NodesAndLinkedEdges, EdgesAndLinkedNodes\n",
    "from bokeh.palettes import Spectral4\n",
    "\n",
    "\n",
    "plot = Plot(plot_width=600, plot_height=600,\n",
    "            x_range=Range1d(-1.1,1.1), y_range=Range1d(-1.1,1.1))\n",
    "plot.title.text = \"Graph Interaction Demonstration\"\n",
    "\n",
    "graph_renderer = from_networkx(G, nx.shell_layout , scale=1, center=(0,0))\n",
    "graph_renderer.node_renderer.data_source.data = node_source.data\n",
    "graph_renderer.edge_renderer.data_source.data = edge_source.data\n",
    "graph_renderer.node_renderer.glyph = Circle(size=15, fill_color=Spectral4[0])\n",
    "graph_renderer.node_renderer.selection_glyph = Circle(size=15, fill_color=Spectral4[2])\n",
    "graph_renderer.node_renderer.hover_glyph = Circle(size=15, fill_color=Spectral4[1])\n",
    "\n",
    "#graph_renderer.edge_renderer.glyph = MultiLine(line_color=\"#CCCCCC\", line_alpha=0.8, line_width=5)\n",
    "graph_renderer.edge_renderer.selection_glyph = MultiLine(line_color=Spectral4[2], line_width=5)\n",
    "graph_renderer.edge_renderer.hover_glyph = MultiLine(line_color=Spectral4[1], line_width=5)\n",
    "\n",
    "graph_renderer.selection_policy = NodesAndLinkedEdges()\n",
    "graph_renderer.inspection_policy = EdgesAndLinkedNodes()\n",
    "\n",
    "pos = nx.shell_layout(G)\n",
    "print (pos)\n",
    "#labels = G.nodes()\n",
    "#n.draw_networkx_labels(G,pos,labels=labels,font_size=16)\n",
    "\n",
    "hover = HoverTool(\n",
    "          tooltips=None)\n",
    "plot.add_tools(hover,TapTool(), BoxSelectTool())\n",
    "plot.renderers.append(graph_renderer)\n",
    "\n",
    "output_file(\"interactive_graphs.html\")\n",
    "show(plot)"
   ]
  },
  {
   "cell_type": "code",
   "execution_count": 69,
   "metadata": {
    "collapsed": true
   },
   "outputs": [
    {
     "data": {
      "text/plain": [
       "{0: array([-0.11907839, -0.34030407]),\n",
       " 1: array([-0.04167214,  0.1416276 ]),\n",
       " 2: array([ 0.02223541, -0.09384761]),\n",
       " 3: array([0.08150415, 0.11082595]),\n",
       " 4: array([-0.3713614 ,  0.16067544]),\n",
       " 5: array([ 0.46946186, -1.        ]),\n",
       " 6: array([0.1015075 , 0.07648091]),\n",
       " 7: array([ 0.11966246, -0.11403155]),\n",
       " 8: array([ 0.04389851, -0.1126916 ]),\n",
       " 9: array([-0.01449907,  0.54941404]),\n",
       " 10: array([-0.08434183,  0.27668505]),\n",
       " 11: array([0.00096558, 0.39357088]),\n",
       " 12: array([ 0.01436579, -0.18475633]),\n",
       " 13: array([-0.06224962,  0.00880414]),\n",
       " 14: array([-0.08327704,  0.07790415]),\n",
       " 15: array([ 0.19026338, -0.02026921]),\n",
       " 16: array([-0.21336515,  0.08912753]),\n",
       " 17: array([ 0.08247854, -0.06905708]),\n",
       " 18: array([ 0.10946163, -0.34911013]),\n",
       " 19: array([-0.14049474,  0.30040181]),\n",
       " 20: array([ 0.22051135, -0.17797576]),\n",
       " 21: array([ 0.08535051, -0.13081843]),\n",
       " 22: array([-0.00518854,  0.05378766]),\n",
       " 23: array([ 0.18950093, -0.32200446]),\n",
       " 24: array([0.04627222, 0.09686776]),\n",
       " 25: array([-0.14168439, -0.03698769]),\n",
       " 26: array([-0.46512855,  0.75786441]),\n",
       " 27: array([-0.03509896, -0.14218341])}"
      ]
     },
     "execution_count": 69,
     "metadata": {},
     "output_type": "execute_result"
    }
   ],
   "source": [
    "{i:pos[str(i+1)] for i in range(len(pos))}"
   ]
  },
  {
   "cell_type": "code",
   "execution_count": 46,
   "metadata": {},
   "outputs": [],
   "source": [
    "G1=nx.cubical_graph()\n",
    "pos=nx.spring_layout(G1) # positions for all nodes"
   ]
  },
  {
   "cell_type": "code",
   "execution_count": 47,
   "metadata": {},
   "outputs": [
    {
     "data": {
      "text/plain": [
       "{0: array([-0.83302402,  0.22627478]),\n",
       " 1: array([-0.23307854,  1.        ]),\n",
       " 2: array([0.66409597, 0.61194622]),\n",
       " 3: array([ 0.11163442, -0.22475376]),\n",
       " 4: array([-0.66445943, -0.61289448]),\n",
       " 5: array([ 0.23469315, -0.994266  ]),\n",
       " 6: array([ 0.83344318, -0.23106006]),\n",
       " 7: array([-0.11330474,  0.2247533 ])}"
      ]
     },
     "execution_count": 47,
     "metadata": {},
     "output_type": "execute_result"
    }
   ],
   "source": [
    "pos"
   ]
  },
  {
   "cell_type": "code",
   "execution_count": 172,
   "metadata": {},
   "outputs": [],
   "source": [
    "df = pd.read_csv('sheep_age.csv')"
   ]
  },
  {
   "cell_type": "code",
   "execution_count": 183,
   "metadata": {},
   "outputs": [],
   "source": [
    "def create_dict(x):\n",
    "    return {\"id\":x['id'],\"age\":x['age']}"
   ]
  },
  {
   "cell_type": "code",
   "execution_count": 186,
   "metadata": {},
   "outputs": [],
   "source": [
    "json_data = {\"nodes\":[],\"links\":[]}"
   ]
  },
  {
   "cell_type": "code",
   "execution_count": 187,
   "metadata": {},
   "outputs": [],
   "source": [
    "json_data['nodes']=list(df.apply(lambda x:create_dict(x),axis=1))"
   ]
  },
  {
   "cell_type": "code",
   "execution_count": 189,
   "metadata": {},
   "outputs": [],
   "source": [
    "df_links = pd.read_csv('sheep_edges.csv')"
   ]
  },
  {
   "cell_type": "code",
   "execution_count": 191,
   "metadata": {},
   "outputs": [],
   "source": [
    "def create_links(x):\n",
    "    return {\"source\":x['source'],\"target\":x['target'],\"weight\":x['weight']}"
   ]
  },
  {
   "cell_type": "code",
   "execution_count": 194,
   "metadata": {
    "scrolled": true
   },
   "outputs": [],
   "source": [
    "json_data['links']=list(df_links.apply(lambda x:create_links(x),axis=1))"
   ]
  },
  {
   "cell_type": "code",
   "execution_count": 195,
   "metadata": {},
   "outputs": [
    {
     "data": {
      "text/plain": [
       "{'links': [{'source': 1, 'target': 2, 'weight': 1},\n",
       "  {'source': 1, 'target': 3, 'weight': 1},\n",
       "  {'source': 1, 'target': 4, 'weight': 1},\n",
       "  {'source': 1, 'target': 5, 'weight': 1},\n",
       "  {'source': 1, 'target': 6, 'weight': 1},\n",
       "  {'source': 7, 'target': 8, 'weight': 5},\n",
       "  {'source': 7, 'target': 9, 'weight': 2},\n",
       "  {'source': 7, 'target': 10, 'weight': 1},\n",
       "  {'source': 7, 'target': 3, 'weight': 4},\n",
       "  {'source': 7, 'target': 11, 'weight': 1},\n",
       "  {'source': 7, 'target': 4, 'weight': 2},\n",
       "  {'source': 7, 'target': 12, 'weight': 1},\n",
       "  {'source': 7, 'target': 13, 'weight': 4},\n",
       "  {'source': 7, 'target': 14, 'weight': 2},\n",
       "  {'source': 7, 'target': 15, 'weight': 3},\n",
       "  {'source': 7, 'target': 16, 'weight': 4},\n",
       "  {'source': 7, 'target': 17, 'weight': 1},\n",
       "  {'source': 7, 'target': 18, 'weight': 1},\n",
       "  {'source': 7, 'target': 19, 'weight': 7},\n",
       "  {'source': 7, 'target': 20, 'weight': 1},\n",
       "  {'source': 7, 'target': 21, 'weight': 4},\n",
       "  {'source': 22, 'target': 8, 'weight': 7},\n",
       "  {'source': 22, 'target': 9, 'weight': 4},\n",
       "  {'source': 22, 'target': 3, 'weight': 12},\n",
       "  {'source': 22, 'target': 4, 'weight': 1},\n",
       "  {'source': 22, 'target': 13, 'weight': 2},\n",
       "  {'source': 22, 'target': 14, 'weight': 2},\n",
       "  {'source': 22, 'target': 15, 'weight': 2},\n",
       "  {'source': 22, 'target': 23, 'weight': 12},\n",
       "  {'source': 22, 'target': 18, 'weight': 2},\n",
       "  {'source': 22, 'target': 24, 'weight': 4},\n",
       "  {'source': 22, 'target': 25, 'weight': 2},\n",
       "  {'source': 22, 'target': 19, 'weight': 6},\n",
       "  {'source': 22, 'target': 26, 'weight': 1},\n",
       "  {'source': 22, 'target': 27, 'weight': 1},\n",
       "  {'source': 22, 'target': 21, 'weight': 4},\n",
       "  {'source': 22, 'target': 6, 'weight': 3},\n",
       "  {'source': 28, 'target': 22, 'weight': 8},\n",
       "  {'source': 28, 'target': 3, 'weight': 1},\n",
       "  {'source': 28, 'target': 11, 'weight': 1},\n",
       "  {'source': 28, 'target': 12, 'weight': 1},\n",
       "  {'source': 28, 'target': 14, 'weight': 3},\n",
       "  {'source': 28, 'target': 23, 'weight': 2},\n",
       "  {'source': 28, 'target': 16, 'weight': 1},\n",
       "  {'source': 28, 'target': 17, 'weight': 1},\n",
       "  {'source': 28, 'target': 25, 'weight': 2},\n",
       "  {'source': 28, 'target': 19, 'weight': 2},\n",
       "  {'source': 28, 'target': 26, 'weight': 3},\n",
       "  {'source': 28, 'target': 20, 'weight': 1},\n",
       "  {'source': 28, 'target': 27, 'weight': 1},\n",
       "  {'source': 28, 'target': 21, 'weight': 3},\n",
       "  {'source': 28, 'target': 6, 'weight': 2},\n",
       "  {'source': 8, 'target': 9, 'weight': 1},\n",
       "  {'source': 8, 'target': 3, 'weight': 10},\n",
       "  {'source': 8, 'target': 4, 'weight': 3},\n",
       "  {'source': 8, 'target': 13, 'weight': 5},\n",
       "  {'source': 8, 'target': 15, 'weight': 4},\n",
       "  {'source': 8, 'target': 23, 'weight': 7},\n",
       "  {'source': 8, 'target': 16, 'weight': 1},\n",
       "  {'source': 8, 'target': 17, 'weight': 1},\n",
       "  {'source': 8, 'target': 18, 'weight': 1},\n",
       "  {'source': 8, 'target': 24, 'weight': 5},\n",
       "  {'source': 8, 'target': 19, 'weight': 8},\n",
       "  {'source': 8, 'target': 26, 'weight': 6},\n",
       "  {'source': 8, 'target': 21, 'weight': 3},\n",
       "  {'source': 8, 'target': 6, 'weight': 1},\n",
       "  {'source': 9, 'target': 28, 'weight': 7},\n",
       "  {'source': 9, 'target': 11, 'weight': 2},\n",
       "  {'source': 9, 'target': 4, 'weight': 3},\n",
       "  {'source': 9, 'target': 13, 'weight': 2},\n",
       "  {'source': 9, 'target': 14, 'weight': 4},\n",
       "  {'source': 9, 'target': 15, 'weight': 1},\n",
       "  {'source': 9, 'target': 23, 'weight': 3},\n",
       "  {'source': 9, 'target': 16, 'weight': 2},\n",
       "  {'source': 9, 'target': 17, 'weight': 2},\n",
       "  {'source': 9, 'target': 18, 'weight': 3},\n",
       "  {'source': 9, 'target': 25, 'weight': 3},\n",
       "  {'source': 9, 'target': 19, 'weight': 4},\n",
       "  {'source': 9, 'target': 26, 'weight': 9},\n",
       "  {'source': 9, 'target': 20, 'weight': 2},\n",
       "  {'source': 9, 'target': 21, 'weight': 1},\n",
       "  {'source': 9, 'target': 6, 'weight': 4},\n",
       "  {'source': 10, 'target': 22, 'weight': 1},\n",
       "  {'source': 10, 'target': 16, 'weight': 1},\n",
       "  {'source': 10, 'target': 27, 'weight': 1},\n",
       "  {'source': 2, 'target': 7, 'weight': 1},\n",
       "  {'source': 2, 'target': 22, 'weight': 1},\n",
       "  {'source': 2, 'target': 28, 'weight': 4},\n",
       "  {'source': 2, 'target': 8, 'weight': 5},\n",
       "  {'source': 2, 'target': 9, 'weight': 3},\n",
       "  {'source': 2, 'target': 4, 'weight': 1},\n",
       "  {'source': 2, 'target': 12, 'weight': 1},\n",
       "  {'source': 2, 'target': 13, 'weight': 2},\n",
       "  {'source': 2, 'target': 15, 'weight': 1},\n",
       "  {'source': 2, 'target': 23, 'weight': 2},\n",
       "  {'source': 2, 'target': 24, 'weight': 3},\n",
       "  {'source': 2, 'target': 26, 'weight': 5},\n",
       "  {'source': 2, 'target': 27, 'weight': 2},\n",
       "  {'source': 2, 'target': 21, 'weight': 4},\n",
       "  {'source': 3, 'target': 28, 'weight': 1},\n",
       "  {'source': 3, 'target': 8, 'weight': 1},\n",
       "  {'source': 3, 'target': 9, 'weight': 7},\n",
       "  {'source': 3, 'target': 2, 'weight': 1},\n",
       "  {'source': 3, 'target': 4, 'weight': 1},\n",
       "  {'source': 3, 'target': 14, 'weight': 7},\n",
       "  {'source': 3, 'target': 15, 'weight': 5},\n",
       "  {'source': 3, 'target': 23, 'weight': 8},\n",
       "  {'source': 3, 'target': 16, 'weight': 2},\n",
       "  {'source': 3, 'target': 18, 'weight': 3},\n",
       "  {'source': 3, 'target': 24, 'weight': 2},\n",
       "  {'source': 3, 'target': 25, 'weight': 3},\n",
       "  {'source': 3, 'target': 5, 'weight': 1},\n",
       "  {'source': 3, 'target': 19, 'weight': 5},\n",
       "  {'source': 3, 'target': 26, 'weight': 4},\n",
       "  {'source': 3, 'target': 20, 'weight': 6},\n",
       "  {'source': 3, 'target': 21, 'weight': 1},\n",
       "  {'source': 3, 'target': 6, 'weight': 5},\n",
       "  {'source': 11, 'target': 3, 'weight': 1},\n",
       "  {'source': 11, 'target': 14, 'weight': 2},\n",
       "  {'source': 11, 'target': 23, 'weight': 2},\n",
       "  {'source': 11, 'target': 16, 'weight': 1},\n",
       "  {'source': 11, 'target': 17, 'weight': 2},\n",
       "  {'source': 11, 'target': 18, 'weight': 1},\n",
       "  {'source': 11, 'target': 25, 'weight': 1},\n",
       "  {'source': 11, 'target': 5, 'weight': 1},\n",
       "  {'source': 11, 'target': 26, 'weight': 2},\n",
       "  {'source': 11, 'target': 21, 'weight': 1},\n",
       "  {'source': 4, 'target': 2, 'weight': 1},\n",
       "  {'source': 4, 'target': 3, 'weight': 2},\n",
       "  {'source': 4, 'target': 11, 'weight': 1},\n",
       "  {'source': 4, 'target': 12, 'weight': 1},\n",
       "  {'source': 4, 'target': 15, 'weight': 2},\n",
       "  {'source': 4, 'target': 23, 'weight': 1},\n",
       "  {'source': 4, 'target': 16, 'weight': 1},\n",
       "  {'source': 4, 'target': 18, 'weight': 2},\n",
       "  {'source': 4, 'target': 24, 'weight': 3},\n",
       "  {'source': 4, 'target': 25, 'weight': 2},\n",
       "  {'source': 4, 'target': 5, 'weight': 1},\n",
       "  {'source': 4, 'target': 19, 'weight': 2},\n",
       "  {'source': 4, 'target': 26, 'weight': 2},\n",
       "  {'source': 4, 'target': 20, 'weight': 1},\n",
       "  {'source': 4, 'target': 27, 'weight': 1},\n",
       "  {'source': 4, 'target': 21, 'weight': 1},\n",
       "  {'source': 4, 'target': 6, 'weight': 1},\n",
       "  {'source': 12, 'target': 9, 'weight': 1},\n",
       "  {'source': 12, 'target': 2, 'weight': 2},\n",
       "  {'source': 12, 'target': 16, 'weight': 5},\n",
       "  {'source': 12, 'target': 5, 'weight': 1},\n",
       "  {'source': 12, 'target': 26, 'weight': 1},\n",
       "  {'source': 12, 'target': 20, 'weight': 2},\n",
       "  {'source': 12, 'target': 21, 'weight': 1},\n",
       "  {'source': 13, 'target': 3, 'weight': 5},\n",
       "  {'source': 13, 'target': 11, 'weight': 2},\n",
       "  {'source': 13, 'target': 14, 'weight': 2},\n",
       "  {'source': 13, 'target': 15, 'weight': 2},\n",
       "  {'source': 13, 'target': 23, 'weight': 2},\n",
       "  {'source': 13, 'target': 17, 'weight': 1},\n",
       "  {'source': 13, 'target': 18, 'weight': 1},\n",
       "  {'source': 13, 'target': 24, 'weight': 3},\n",
       "  {'source': 13, 'target': 25, 'weight': 2},\n",
       "  {'source': 13, 'target': 19, 'weight': 3},\n",
       "  {'source': 13, 'target': 26, 'weight': 1},\n",
       "  {'source': 13, 'target': 20, 'weight': 2},\n",
       "  {'source': 13, 'target': 27, 'weight': 1},\n",
       "  {'source': 13, 'target': 6, 'weight': 3},\n",
       "  {'source': 14, 'target': 11, 'weight': 1},\n",
       "  {'source': 14, 'target': 4, 'weight': 2},\n",
       "  {'source': 14, 'target': 13, 'weight': 3},\n",
       "  {'source': 14, 'target': 17, 'weight': 7},\n",
       "  {'source': 14, 'target': 24, 'weight': 3},\n",
       "  {'source': 14, 'target': 25, 'weight': 3},\n",
       "  {'source': 14, 'target': 19, 'weight': 4},\n",
       "  {'source': 14, 'target': 26, 'weight': 3},\n",
       "  {'source': 14, 'target': 20, 'weight': 3},\n",
       "  {'source': 14, 'target': 21, 'weight': 1},\n",
       "  {'source': 14, 'target': 6, 'weight': 1},\n",
       "  {'source': 15, 'target': 14, 'weight': 2},\n",
       "  {'source': 15, 'target': 23, 'weight': 6},\n",
       "  {'source': 15, 'target': 17, 'weight': 1},\n",
       "  {'source': 15, 'target': 18, 'weight': 2},\n",
       "  {'source': 15, 'target': 24, 'weight': 1},\n",
       "  {'source': 15, 'target': 19, 'weight': 3},\n",
       "  {'source': 15, 'target': 26, 'weight': 3},\n",
       "  {'source': 15, 'target': 20, 'weight': 2},\n",
       "  {'source': 15, 'target': 27, 'weight': 1},\n",
       "  {'source': 15, 'target': 21, 'weight': 2},\n",
       "  {'source': 15, 'target': 6, 'weight': 1},\n",
       "  {'source': 23, 'target': 14, 'weight': 1},\n",
       "  {'source': 23, 'target': 17, 'weight': 1},\n",
       "  {'source': 23, 'target': 25, 'weight': 1},\n",
       "  {'source': 23, 'target': 19, 'weight': 1},\n",
       "  {'source': 23, 'target': 26, 'weight': 2},\n",
       "  {'source': 23, 'target': 20, 'weight': 3},\n",
       "  {'source': 23, 'target': 27, 'weight': 2},\n",
       "  {'source': 23, 'target': 21, 'weight': 4},\n",
       "  {'source': 23, 'target': 6, 'weight': 2},\n",
       "  {'source': 16, 'target': 2, 'weight': 4},\n",
       "  {'source': 16, 'target': 15, 'weight': 2},\n",
       "  {'source': 16, 'target': 17, 'weight': 1},\n",
       "  {'source': 16, 'target': 18, 'weight': 2},\n",
       "  {'source': 16, 'target': 19, 'weight': 2},\n",
       "  {'source': 16, 'target': 26, 'weight': 1},\n",
       "  {'source': 16, 'target': 20, 'weight': 2},\n",
       "  {'source': 16, 'target': 21, 'weight': 1},\n",
       "  {'source': 16, 'target': 6, 'weight': 1},\n",
       "  {'source': 17, 'target': 13, 'weight': 1},\n",
       "  {'source': 17, 'target': 14, 'weight': 1},\n",
       "  {'source': 17, 'target': 25, 'weight': 1},\n",
       "  {'source': 17, 'target': 20, 'weight': 1},\n",
       "  {'source': 17, 'target': 27, 'weight': 2},\n",
       "  {'source': 17, 'target': 21, 'weight': 1},\n",
       "  {'source': 17, 'target': 6, 'weight': 1},\n",
       "  {'source': 18, 'target': 4, 'weight': 1},\n",
       "  {'source': 18, 'target': 23, 'weight': 10},\n",
       "  {'source': 18, 'target': 24, 'weight': 1},\n",
       "  {'source': 18, 'target': 25, 'weight': 1},\n",
       "  {'source': 18, 'target': 19, 'weight': 3},\n",
       "  {'source': 18, 'target': 26, 'weight': 4},\n",
       "  {'source': 18, 'target': 20, 'weight': 2},\n",
       "  {'source': 18, 'target': 27, 'weight': 3},\n",
       "  {'source': 18, 'target': 21, 'weight': 4},\n",
       "  {'source': 18, 'target': 6, 'weight': 6},\n",
       "  {'source': 24, 'target': 23, 'weight': 1},\n",
       "  {'source': 24, 'target': 18, 'weight': 3},\n",
       "  {'source': 24, 'target': 26, 'weight': 3},\n",
       "  {'source': 24, 'target': 20, 'weight': 3},\n",
       "  {'source': 24, 'target': 21, 'weight': 4},\n",
       "  {'source': 24, 'target': 6, 'weight': 11},\n",
       "  {'source': 25, 'target': 14, 'weight': 2},\n",
       "  {'source': 25, 'target': 18, 'weight': 3},\n",
       "  {'source': 25, 'target': 24, 'weight': 8},\n",
       "  {'source': 25, 'target': 20, 'weight': 8},\n",
       "  {'source': 25, 'target': 21, 'weight': 2},\n",
       "  {'source': 25, 'target': 6, 'weight': 2},\n",
       "  {'source': 5, 'target': 16, 'weight': 1},\n",
       "  {'source': 5, 'target': 21, 'weight': 1},\n",
       "  {'source': 19, 'target': 18, 'weight': 1},\n",
       "  {'source': 19, 'target': 24, 'weight': 5},\n",
       "  {'source': 19, 'target': 25, 'weight': 1},\n",
       "  {'source': 19, 'target': 26, 'weight': 2},\n",
       "  {'source': 19, 'target': 20, 'weight': 1},\n",
       "  {'source': 19, 'target': 27, 'weight': 1},\n",
       "  {'source': 19, 'target': 6, 'weight': 5},\n",
       "  {'source': 26, 'target': 20, 'weight': 5},\n",
       "  {'source': 26, 'target': 21, 'weight': 1},\n",
       "  {'source': 26, 'target': 6, 'weight': 2},\n",
       "  {'source': 20, 'target': 26, 'weight': 1},\n",
       "  {'source': 20, 'target': 21, 'weight': 3},\n",
       "  {'source': 27, 'target': 26, 'weight': 1},\n",
       "  {'source': 21, 'target': 6, 'weight': 10}],\n",
       " 'nodes': [{'age': 8, 'id': 1},\n",
       "  {'age': 8, 'id': 2},\n",
       "  {'age': 4, 'id': 3},\n",
       "  {'age': 7, 'id': 4},\n",
       "  {'age': 8, 'id': 5},\n",
       "  {'age': 3, 'id': 6},\n",
       "  {'age': 5, 'id': 7},\n",
       "  {'age': 4, 'id': 8},\n",
       "  {'age': 7, 'id': 9},\n",
       "  {'age': 9, 'id': 10},\n",
       "  {'age': 6, 'id': 11},\n",
       "  {'age': 4, 'id': 12},\n",
       "  {'age': 9, 'id': 13},\n",
       "  {'age': 1, 'id': 14},\n",
       "  {'age': 9, 'id': 15},\n",
       "  {'age': 9, 'id': 16},\n",
       "  {'age': 4, 'id': 17},\n",
       "  {'age': 1, 'id': 18},\n",
       "  {'age': 1, 'id': 19},\n",
       "  {'age': 3, 'id': 20},\n",
       "  {'age': 3, 'id': 21},\n",
       "  {'age': 1, 'id': 22},\n",
       "  {'age': 7, 'id': 23},\n",
       "  {'age': 1, 'id': 24},\n",
       "  {'age': 9, 'id': 25},\n",
       "  {'age': 3, 'id': 26},\n",
       "  {'age': 4, 'id': 27},\n",
       "  {'age': 9, 'id': 28}]}"
      ]
     },
     "execution_count": 195,
     "metadata": {},
     "output_type": "execute_result"
    }
   ],
   "source": [
    "json_data"
   ]
  },
  {
   "cell_type": "code",
   "execution_count": 196,
   "metadata": {},
   "outputs": [
    {
     "data": {
      "text/plain": [
       "'\"sheep.json\"'"
      ]
     },
     "execution_count": 196,
     "metadata": {},
     "output_type": "execute_result"
    }
   ],
   "source": [
    "json.dumps('sheep.json')"
   ]
  },
  {
   "cell_type": "code",
   "execution_count": 197,
   "metadata": {},
   "outputs": [
    {
     "name": "stdout",
     "output_type": "stream",
     "text": [
      "U:\\DSE\\DSE241\\dse241-group-project\\exercise_5\n"
     ]
    }
   ],
   "source": [
    "!pwd"
   ]
  },
  {
   "cell_type": "code",
   "execution_count": 198,
   "metadata": {
    "scrolled": true
   },
   "outputs": [
    {
     "ename": "TypeError",
     "evalue": "Object of type 'int64' is not JSON serializable",
     "output_type": "error",
     "traceback": [
      "\u001b[1;31m---------------------------------------------------------------------------\u001b[0m",
      "\u001b[1;31mTypeError\u001b[0m                                 Traceback (most recent call last)",
      "\u001b[1;32m<ipython-input-198-e83d27daa9d3>\u001b[0m in \u001b[0;36m<module>\u001b[1;34m()\u001b[0m\n\u001b[1;32m----> 1\u001b[1;33m \u001b[0mdata\u001b[0m \u001b[1;33m=\u001b[0m \u001b[0mjson\u001b[0m\u001b[1;33m.\u001b[0m\u001b[0mdumps\u001b[0m\u001b[1;33m(\u001b[0m\u001b[0mjson_data\u001b[0m\u001b[1;33m)\u001b[0m\u001b[1;33m\u001b[0m\u001b[0m\n\u001b[0m\u001b[0;32m      2\u001b[0m \u001b[1;32mwith\u001b[0m \u001b[0mopen\u001b[0m\u001b[1;33m(\u001b[0m\u001b[1;34m\"sheep.json\"\u001b[0m\u001b[1;33m,\u001b[0m\u001b[1;34m\"w\"\u001b[0m\u001b[1;33m)\u001b[0m \u001b[1;32mas\u001b[0m \u001b[0mf\u001b[0m\u001b[1;33m:\u001b[0m\u001b[1;33m\u001b[0m\u001b[0m\n\u001b[0;32m      3\u001b[0m     \u001b[0mf\u001b[0m\u001b[1;33m.\u001b[0m\u001b[0mwrite\u001b[0m\u001b[1;33m(\u001b[0m\u001b[0mdata\u001b[0m\u001b[1;33m)\u001b[0m\u001b[1;33m\u001b[0m\u001b[0m\n",
      "\u001b[1;32mC:\\Anaconda2\\envs\\py36\\lib\\json\\__init__.py\u001b[0m in \u001b[0;36mdumps\u001b[1;34m(obj, skipkeys, ensure_ascii, check_circular, allow_nan, cls, indent, separators, default, sort_keys, **kw)\u001b[0m\n\u001b[0;32m    229\u001b[0m         \u001b[0mcls\u001b[0m \u001b[1;32mis\u001b[0m \u001b[1;32mNone\u001b[0m \u001b[1;32mand\u001b[0m \u001b[0mindent\u001b[0m \u001b[1;32mis\u001b[0m \u001b[1;32mNone\u001b[0m \u001b[1;32mand\u001b[0m \u001b[0mseparators\u001b[0m \u001b[1;32mis\u001b[0m \u001b[1;32mNone\u001b[0m \u001b[1;32mand\u001b[0m\u001b[1;33m\u001b[0m\u001b[0m\n\u001b[0;32m    230\u001b[0m         default is None and not sort_keys and not kw):\n\u001b[1;32m--> 231\u001b[1;33m         \u001b[1;32mreturn\u001b[0m \u001b[0m_default_encoder\u001b[0m\u001b[1;33m.\u001b[0m\u001b[0mencode\u001b[0m\u001b[1;33m(\u001b[0m\u001b[0mobj\u001b[0m\u001b[1;33m)\u001b[0m\u001b[1;33m\u001b[0m\u001b[0m\n\u001b[0m\u001b[0;32m    232\u001b[0m     \u001b[1;32mif\u001b[0m \u001b[0mcls\u001b[0m \u001b[1;32mis\u001b[0m \u001b[1;32mNone\u001b[0m\u001b[1;33m:\u001b[0m\u001b[1;33m\u001b[0m\u001b[0m\n\u001b[0;32m    233\u001b[0m         \u001b[0mcls\u001b[0m \u001b[1;33m=\u001b[0m \u001b[0mJSONEncoder\u001b[0m\u001b[1;33m\u001b[0m\u001b[0m\n",
      "\u001b[1;32mC:\\Anaconda2\\envs\\py36\\lib\\json\\encoder.py\u001b[0m in \u001b[0;36mencode\u001b[1;34m(self, o)\u001b[0m\n\u001b[0;32m    197\u001b[0m         \u001b[1;31m# exceptions aren't as detailed.  The list call should be roughly\u001b[0m\u001b[1;33m\u001b[0m\u001b[1;33m\u001b[0m\u001b[0m\n\u001b[0;32m    198\u001b[0m         \u001b[1;31m# equivalent to the PySequence_Fast that ''.join() would do.\u001b[0m\u001b[1;33m\u001b[0m\u001b[1;33m\u001b[0m\u001b[0m\n\u001b[1;32m--> 199\u001b[1;33m         \u001b[0mchunks\u001b[0m \u001b[1;33m=\u001b[0m \u001b[0mself\u001b[0m\u001b[1;33m.\u001b[0m\u001b[0miterencode\u001b[0m\u001b[1;33m(\u001b[0m\u001b[0mo\u001b[0m\u001b[1;33m,\u001b[0m \u001b[0m_one_shot\u001b[0m\u001b[1;33m=\u001b[0m\u001b[1;32mTrue\u001b[0m\u001b[1;33m)\u001b[0m\u001b[1;33m\u001b[0m\u001b[0m\n\u001b[0m\u001b[0;32m    200\u001b[0m         \u001b[1;32mif\u001b[0m \u001b[1;32mnot\u001b[0m \u001b[0misinstance\u001b[0m\u001b[1;33m(\u001b[0m\u001b[0mchunks\u001b[0m\u001b[1;33m,\u001b[0m \u001b[1;33m(\u001b[0m\u001b[0mlist\u001b[0m\u001b[1;33m,\u001b[0m \u001b[0mtuple\u001b[0m\u001b[1;33m)\u001b[0m\u001b[1;33m)\u001b[0m\u001b[1;33m:\u001b[0m\u001b[1;33m\u001b[0m\u001b[0m\n\u001b[0;32m    201\u001b[0m             \u001b[0mchunks\u001b[0m \u001b[1;33m=\u001b[0m \u001b[0mlist\u001b[0m\u001b[1;33m(\u001b[0m\u001b[0mchunks\u001b[0m\u001b[1;33m)\u001b[0m\u001b[1;33m\u001b[0m\u001b[0m\n",
      "\u001b[1;32mC:\\Anaconda2\\envs\\py36\\lib\\json\\encoder.py\u001b[0m in \u001b[0;36miterencode\u001b[1;34m(self, o, _one_shot)\u001b[0m\n\u001b[0;32m    255\u001b[0m                 \u001b[0mself\u001b[0m\u001b[1;33m.\u001b[0m\u001b[0mkey_separator\u001b[0m\u001b[1;33m,\u001b[0m \u001b[0mself\u001b[0m\u001b[1;33m.\u001b[0m\u001b[0mitem_separator\u001b[0m\u001b[1;33m,\u001b[0m \u001b[0mself\u001b[0m\u001b[1;33m.\u001b[0m\u001b[0msort_keys\u001b[0m\u001b[1;33m,\u001b[0m\u001b[1;33m\u001b[0m\u001b[0m\n\u001b[0;32m    256\u001b[0m                 self.skipkeys, _one_shot)\n\u001b[1;32m--> 257\u001b[1;33m         \u001b[1;32mreturn\u001b[0m \u001b[0m_iterencode\u001b[0m\u001b[1;33m(\u001b[0m\u001b[0mo\u001b[0m\u001b[1;33m,\u001b[0m \u001b[1;36m0\u001b[0m\u001b[1;33m)\u001b[0m\u001b[1;33m\u001b[0m\u001b[0m\n\u001b[0m\u001b[0;32m    258\u001b[0m \u001b[1;33m\u001b[0m\u001b[0m\n\u001b[0;32m    259\u001b[0m def _make_iterencode(markers, _default, _encoder, _indent, _floatstr,\n",
      "\u001b[1;32mC:\\Anaconda2\\envs\\py36\\lib\\json\\encoder.py\u001b[0m in \u001b[0;36mdefault\u001b[1;34m(self, o)\u001b[0m\n\u001b[0;32m    178\u001b[0m         \"\"\"\n\u001b[0;32m    179\u001b[0m         raise TypeError(\"Object of type '%s' is not JSON serializable\" %\n\u001b[1;32m--> 180\u001b[1;33m                         o.__class__.__name__)\n\u001b[0m\u001b[0;32m    181\u001b[0m \u001b[1;33m\u001b[0m\u001b[0m\n\u001b[0;32m    182\u001b[0m     \u001b[1;32mdef\u001b[0m \u001b[0mencode\u001b[0m\u001b[1;33m(\u001b[0m\u001b[0mself\u001b[0m\u001b[1;33m,\u001b[0m \u001b[0mo\u001b[0m\u001b[1;33m)\u001b[0m\u001b[1;33m:\u001b[0m\u001b[1;33m\u001b[0m\u001b[0m\n",
      "\u001b[1;31mTypeError\u001b[0m: Object of type 'int64' is not JSON serializable"
     ]
    }
   ],
   "source": [
    "data = json.dumps(json_data)\n",
    "with open(\"sheep.json\",\"w\") as f:\n",
    "    f.write(data)"
   ]
  },
  {
   "cell_type": "code",
   "execution_count": null,
   "metadata": {},
   "outputs": [],
   "source": []
  }
 ],
 "metadata": {
  "kernelspec": {
   "display_name": "Python 3",
   "language": "python",
   "name": "python3"
  },
  "language_info": {
   "codemirror_mode": {
    "name": "ipython",
    "version": 3
   },
   "file_extension": ".py",
   "mimetype": "text/x-python",
   "name": "python",
   "nbconvert_exporter": "python",
   "pygments_lexer": "ipython3",
   "version": "3.6.3"
  }
 },
 "nbformat": 4,
 "nbformat_minor": 2
}
