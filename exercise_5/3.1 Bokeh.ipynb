{
 "cells": [
  {
   "cell_type": "markdown",
   "metadata": {},
   "source": [
    "This section of the tutorial covers the [`bokeh.plotting`](http://bokeh.pydata.org/en/latest/docs/user_guide/plotting.html) \n",
    "interface. This interface is a \"mid-level\" interface, and the main idea can be described by the statement:\n",
    "\n",
    "**Starting from simple default figures (with sensible default tools, grids and axes), add markers and other shapes whose visual attributes are tied to directly data.**\n",
    "\n",
    "We will see that it is possible to customize and change all of the defaults, but having them means that it is possible to get up and running very quickly. "
   ]
  },
  {
   "cell_type": "markdown",
   "metadata": {},
   "source": [
    "# Imports and Setup\n",
    "\n",
    "When using the [`bokeh.plotting`](http://bokeh.pydata.org/en/latest/docs/user_guide/plotting.html) interface, there are a few common imports:\n",
    "* Use the [`figure`](http://bokeh.pydata.org/en/latest/docs/reference/plotting.html#bokeh.plotting.figure) function to  create new plot objects to work with. \n",
    "* Call the functions [`output_file`](http://bokeh.pydata.org/en/latest/docs/reference/resources_embedding.html#bokeh.io.output_file), [`output_notebook`](http://bokeh.pydata.org/en/latest/docs/reference/resources_embedding.html#bokeh.io.output_notebook), and [`output_server`](http://bokeh.pydata.org/en/latest/docs/reference/resources_embedding.html#bokeh.io.output_server) (possibly in combination) to tell Bokeh how to display or save output. \n",
    "* Execute [`show`](http://bokeh.pydata.org/en/latest/docs/reference/resources_embedding.html#bokeh.io.show) and  [`save`](http://bokeh.pydata.org/en/latest/docs/reference/resources_embedding.html#bokeh.io.save) to display or save plots and layouts."
   ]
  },
  {
   "cell_type": "code",
   "execution_count": 1,
   "metadata": {},
   "outputs": [],
   "source": [
    "from bokeh.io import output_notebook, show\n",
    "from bokeh.plotting import figure"
   ]
  },
  {
   "cell_type": "code",
   "execution_count": null,
   "metadata": {},
   "outputs": [],
   "source": []
  },
  {
   "cell_type": "markdown",
   "metadata": {},
   "source": [
    "In this case, we are in the Jupyter notebook, so call `output_notebook()`. We only need to call this once, and all subsequent calls to `show()` will display inline in the notebook."
   ]
  },
  {
   "cell_type": "code",
   "execution_count": 2,
   "metadata": {},
   "outputs": [
    {
     "data": {
      "text/html": [
       "\n",
       "    <div class=\"bk-root\">\n",
       "        <a href=\"https://bokeh.pydata.org\" target=\"_blank\" class=\"bk-logo bk-logo-small bk-logo-notebook\"></a>\n",
       "        <span id=\"d4d75713-5b33-46e3-b0b8-4375de170a6c\">Loading BokehJS ...</span>\n",
       "    </div>"
      ]
     },
     "metadata": {},
     "output_type": "display_data"
    },
    {
     "data": {
      "application/javascript": [
       "\n",
       "(function(root) {\n",
       "  function now() {\n",
       "    return new Date();\n",
       "  }\n",
       "\n",
       "  var force = true;\n",
       "\n",
       "  if (typeof (root._bokeh_onload_callbacks) === \"undefined\" || force === true) {\n",
       "    root._bokeh_onload_callbacks = [];\n",
       "    root._bokeh_is_loading = undefined;\n",
       "  }\n",
       "\n",
       "  var JS_MIME_TYPE = 'application/javascript';\n",
       "  var HTML_MIME_TYPE = 'text/html';\n",
       "  var EXEC_MIME_TYPE = 'application/vnd.bokehjs_exec.v0+json';\n",
       "  var CLASS_NAME = 'output_bokeh rendered_html';\n",
       "\n",
       "  /**\n",
       "   * Render data to the DOM node\n",
       "   */\n",
       "  function render(props, node) {\n",
       "    var script = document.createElement(\"script\");\n",
       "    node.appendChild(script);\n",
       "  }\n",
       "\n",
       "  /**\n",
       "   * Handle when an output is cleared or removed\n",
       "   */\n",
       "  function handleClearOutput(event, handle) {\n",
       "    var cell = handle.cell;\n",
       "\n",
       "    var id = cell.output_area._bokeh_element_id;\n",
       "    var server_id = cell.output_area._bokeh_server_id;\n",
       "    // Clean up Bokeh references\n",
       "    if (id !== undefined) {\n",
       "      Bokeh.index[id].model.document.clear();\n",
       "      delete Bokeh.index[id];\n",
       "    }\n",
       "\n",
       "    if (server_id !== undefined) {\n",
       "      // Clean up Bokeh references\n",
       "      var cmd = \"from bokeh.io.state import curstate; print(curstate().uuid_to_server['\" + server_id + \"'].get_sessions()[0].document.roots[0]._id)\";\n",
       "      cell.notebook.kernel.execute(cmd, {\n",
       "        iopub: {\n",
       "          output: function(msg) {\n",
       "            var element_id = msg.content.text.trim();\n",
       "            Bokeh.index[element_id].model.document.clear();\n",
       "            delete Bokeh.index[element_id];\n",
       "          }\n",
       "        }\n",
       "      });\n",
       "      // Destroy server and session\n",
       "      var cmd = \"import bokeh.io.notebook as ion; ion.destroy_server('\" + server_id + \"')\";\n",
       "      cell.notebook.kernel.execute(cmd);\n",
       "    }\n",
       "  }\n",
       "\n",
       "  /**\n",
       "   * Handle when a new output is added\n",
       "   */\n",
       "  function handleAddOutput(event, handle) {\n",
       "    var output_area = handle.output_area;\n",
       "    var output = handle.output;\n",
       "\n",
       "    // limit handleAddOutput to display_data with EXEC_MIME_TYPE content only\n",
       "    if ((output.output_type != \"display_data\") || (!output.data.hasOwnProperty(EXEC_MIME_TYPE))) {\n",
       "      return\n",
       "    }\n",
       "\n",
       "    var toinsert = output_area.element.find(\".\" + CLASS_NAME.split(' ')[0]);\n",
       "\n",
       "    if (output.metadata[EXEC_MIME_TYPE][\"id\"] !== undefined) {\n",
       "      toinsert[0].firstChild.textContent = output.data[JS_MIME_TYPE];\n",
       "      // store reference to embed id on output_area\n",
       "      output_area._bokeh_element_id = output.metadata[EXEC_MIME_TYPE][\"id\"];\n",
       "    }\n",
       "    if (output.metadata[EXEC_MIME_TYPE][\"server_id\"] !== undefined) {\n",
       "      var bk_div = document.createElement(\"div\");\n",
       "      bk_div.innerHTML = output.data[HTML_MIME_TYPE];\n",
       "      var script_attrs = bk_div.children[0].attributes;\n",
       "      for (var i = 0; i < script_attrs.length; i++) {\n",
       "        toinsert[0].firstChild.setAttribute(script_attrs[i].name, script_attrs[i].value);\n",
       "      }\n",
       "      // store reference to server id on output_area\n",
       "      output_area._bokeh_server_id = output.metadata[EXEC_MIME_TYPE][\"server_id\"];\n",
       "    }\n",
       "  }\n",
       "\n",
       "  function register_renderer(events, OutputArea) {\n",
       "\n",
       "    function append_mime(data, metadata, element) {\n",
       "      // create a DOM node to render to\n",
       "      var toinsert = this.create_output_subarea(\n",
       "        metadata,\n",
       "        CLASS_NAME,\n",
       "        EXEC_MIME_TYPE\n",
       "      );\n",
       "      this.keyboard_manager.register_events(toinsert);\n",
       "      // Render to node\n",
       "      var props = {data: data, metadata: metadata[EXEC_MIME_TYPE]};\n",
       "      render(props, toinsert[0]);\n",
       "      element.append(toinsert);\n",
       "      return toinsert\n",
       "    }\n",
       "\n",
       "    /* Handle when an output is cleared or removed */\n",
       "    events.on('clear_output.CodeCell', handleClearOutput);\n",
       "    events.on('delete.Cell', handleClearOutput);\n",
       "\n",
       "    /* Handle when a new output is added */\n",
       "    events.on('output_added.OutputArea', handleAddOutput);\n",
       "\n",
       "    /**\n",
       "     * Register the mime type and append_mime function with output_area\n",
       "     */\n",
       "    OutputArea.prototype.register_mime_type(EXEC_MIME_TYPE, append_mime, {\n",
       "      /* Is output safe? */\n",
       "      safe: true,\n",
       "      /* Index of renderer in `output_area.display_order` */\n",
       "      index: 0\n",
       "    });\n",
       "  }\n",
       "\n",
       "  // register the mime type if in Jupyter Notebook environment and previously unregistered\n",
       "  if (root.Jupyter !== undefined) {\n",
       "    var events = require('base/js/events');\n",
       "    var OutputArea = require('notebook/js/outputarea').OutputArea;\n",
       "\n",
       "    if (OutputArea.prototype.mime_types().indexOf(EXEC_MIME_TYPE) == -1) {\n",
       "      register_renderer(events, OutputArea);\n",
       "    }\n",
       "  }\n",
       "\n",
       "  \n",
       "  if (typeof (root._bokeh_timeout) === \"undefined\" || force === true) {\n",
       "    root._bokeh_timeout = Date.now() + 5000;\n",
       "    root._bokeh_failed_load = false;\n",
       "  }\n",
       "\n",
       "  var NB_LOAD_WARNING = {'data': {'text/html':\n",
       "     \"<div style='background-color: #fdd'>\\n\"+\n",
       "     \"<p>\\n\"+\n",
       "     \"BokehJS does not appear to have successfully loaded. If loading BokehJS from CDN, this \\n\"+\n",
       "     \"may be due to a slow or bad network connection. Possible fixes:\\n\"+\n",
       "     \"</p>\\n\"+\n",
       "     \"<ul>\\n\"+\n",
       "     \"<li>re-rerun `output_notebook()` to attempt to load from CDN again, or</li>\\n\"+\n",
       "     \"<li>use INLINE resources instead, as so:</li>\\n\"+\n",
       "     \"</ul>\\n\"+\n",
       "     \"<code>\\n\"+\n",
       "     \"from bokeh.resources import INLINE\\n\"+\n",
       "     \"output_notebook(resources=INLINE)\\n\"+\n",
       "     \"</code>\\n\"+\n",
       "     \"</div>\"}};\n",
       "\n",
       "  function display_loaded() {\n",
       "    var el = document.getElementById(\"d4d75713-5b33-46e3-b0b8-4375de170a6c\");\n",
       "    if (el != null) {\n",
       "      el.textContent = \"BokehJS is loading...\";\n",
       "    }\n",
       "    if (root.Bokeh !== undefined) {\n",
       "      if (el != null) {\n",
       "        el.textContent = \"BokehJS \" + root.Bokeh.version + \" successfully loaded.\";\n",
       "      }\n",
       "    } else if (Date.now() < root._bokeh_timeout) {\n",
       "      setTimeout(display_loaded, 100)\n",
       "    }\n",
       "  }\n",
       "\n",
       "\n",
       "  function run_callbacks() {\n",
       "    try {\n",
       "      root._bokeh_onload_callbacks.forEach(function(callback) { callback() });\n",
       "    }\n",
       "    finally {\n",
       "      delete root._bokeh_onload_callbacks\n",
       "    }\n",
       "    console.info(\"Bokeh: all callbacks have finished\");\n",
       "  }\n",
       "\n",
       "  function load_libs(js_urls, callback) {\n",
       "    root._bokeh_onload_callbacks.push(callback);\n",
       "    if (root._bokeh_is_loading > 0) {\n",
       "      console.log(\"Bokeh: BokehJS is being loaded, scheduling callback at\", now());\n",
       "      return null;\n",
       "    }\n",
       "    if (js_urls == null || js_urls.length === 0) {\n",
       "      run_callbacks();\n",
       "      return null;\n",
       "    }\n",
       "    console.log(\"Bokeh: BokehJS not loaded, scheduling load and callback at\", now());\n",
       "    root._bokeh_is_loading = js_urls.length;\n",
       "    for (var i = 0; i < js_urls.length; i++) {\n",
       "      var url = js_urls[i];\n",
       "      var s = document.createElement('script');\n",
       "      s.src = url;\n",
       "      s.async = false;\n",
       "      s.onreadystatechange = s.onload = function() {\n",
       "        root._bokeh_is_loading--;\n",
       "        if (root._bokeh_is_loading === 0) {\n",
       "          console.log(\"Bokeh: all BokehJS libraries loaded\");\n",
       "          run_callbacks()\n",
       "        }\n",
       "      };\n",
       "      s.onerror = function() {\n",
       "        console.warn(\"failed to load library \" + url);\n",
       "      };\n",
       "      console.log(\"Bokeh: injecting script tag for BokehJS library: \", url);\n",
       "      document.getElementsByTagName(\"head\")[0].appendChild(s);\n",
       "    }\n",
       "  };var element = document.getElementById(\"d4d75713-5b33-46e3-b0b8-4375de170a6c\");\n",
       "  if (element == null) {\n",
       "    console.log(\"Bokeh: ERROR: autoload.js configured with elementid 'd4d75713-5b33-46e3-b0b8-4375de170a6c' but no matching script tag was found. \")\n",
       "    return false;\n",
       "  }\n",
       "\n",
       "  var js_urls = [\"https://cdn.pydata.org/bokeh/release/bokeh-0.12.13.min.js\", \"https://cdn.pydata.org/bokeh/release/bokeh-widgets-0.12.13.min.js\", \"https://cdn.pydata.org/bokeh/release/bokeh-tables-0.12.13.min.js\", \"https://cdn.pydata.org/bokeh/release/bokeh-gl-0.12.13.min.js\"];\n",
       "\n",
       "  var inline_js = [\n",
       "    function(Bokeh) {\n",
       "      Bokeh.set_log_level(\"info\");\n",
       "    },\n",
       "    \n",
       "    function(Bokeh) {\n",
       "      \n",
       "    },\n",
       "    function(Bokeh) {\n",
       "      console.log(\"Bokeh: injecting CSS: https://cdn.pydata.org/bokeh/release/bokeh-0.12.13.min.css\");\n",
       "      Bokeh.embed.inject_css(\"https://cdn.pydata.org/bokeh/release/bokeh-0.12.13.min.css\");\n",
       "      console.log(\"Bokeh: injecting CSS: https://cdn.pydata.org/bokeh/release/bokeh-widgets-0.12.13.min.css\");\n",
       "      Bokeh.embed.inject_css(\"https://cdn.pydata.org/bokeh/release/bokeh-widgets-0.12.13.min.css\");\n",
       "      console.log(\"Bokeh: injecting CSS: https://cdn.pydata.org/bokeh/release/bokeh-tables-0.12.13.min.css\");\n",
       "      Bokeh.embed.inject_css(\"https://cdn.pydata.org/bokeh/release/bokeh-tables-0.12.13.min.css\");\n",
       "    }\n",
       "  ];\n",
       "\n",
       "  function run_inline_js() {\n",
       "    \n",
       "    if ((root.Bokeh !== undefined) || (force === true)) {\n",
       "      for (var i = 0; i < inline_js.length; i++) {\n",
       "        inline_js[i].call(root, root.Bokeh);\n",
       "      }if (force === true) {\n",
       "        display_loaded();\n",
       "      }} else if (Date.now() < root._bokeh_timeout) {\n",
       "      setTimeout(run_inline_js, 100);\n",
       "    } else if (!root._bokeh_failed_load) {\n",
       "      console.log(\"Bokeh: BokehJS failed to load within specified timeout.\");\n",
       "      root._bokeh_failed_load = true;\n",
       "    } else if (force !== true) {\n",
       "      var cell = $(document.getElementById(\"d4d75713-5b33-46e3-b0b8-4375de170a6c\")).parents('.cell').data().cell;\n",
       "      cell.output_area.append_execute_result(NB_LOAD_WARNING)\n",
       "    }\n",
       "\n",
       "  }\n",
       "\n",
       "  if (root._bokeh_is_loading === 0) {\n",
       "    console.log(\"Bokeh: BokehJS loaded, going straight to plotting\");\n",
       "    run_inline_js();\n",
       "  } else {\n",
       "    load_libs(js_urls, function() {\n",
       "      console.log(\"Bokeh: BokehJS plotting callback run at\", now());\n",
       "      run_inline_js();\n",
       "    });\n",
       "  }\n",
       "}(window));"
      ],
      "application/vnd.bokehjs_load.v0+json": "\n(function(root) {\n  function now() {\n    return new Date();\n  }\n\n  var force = true;\n\n  if (typeof (root._bokeh_onload_callbacks) === \"undefined\" || force === true) {\n    root._bokeh_onload_callbacks = [];\n    root._bokeh_is_loading = undefined;\n  }\n\n  \n\n  \n  if (typeof (root._bokeh_timeout) === \"undefined\" || force === true) {\n    root._bokeh_timeout = Date.now() + 5000;\n    root._bokeh_failed_load = false;\n  }\n\n  var NB_LOAD_WARNING = {'data': {'text/html':\n     \"<div style='background-color: #fdd'>\\n\"+\n     \"<p>\\n\"+\n     \"BokehJS does not appear to have successfully loaded. If loading BokehJS from CDN, this \\n\"+\n     \"may be due to a slow or bad network connection. Possible fixes:\\n\"+\n     \"</p>\\n\"+\n     \"<ul>\\n\"+\n     \"<li>re-rerun `output_notebook()` to attempt to load from CDN again, or</li>\\n\"+\n     \"<li>use INLINE resources instead, as so:</li>\\n\"+\n     \"</ul>\\n\"+\n     \"<code>\\n\"+\n     \"from bokeh.resources import INLINE\\n\"+\n     \"output_notebook(resources=INLINE)\\n\"+\n     \"</code>\\n\"+\n     \"</div>\"}};\n\n  function display_loaded() {\n    var el = document.getElementById(\"d4d75713-5b33-46e3-b0b8-4375de170a6c\");\n    if (el != null) {\n      el.textContent = \"BokehJS is loading...\";\n    }\n    if (root.Bokeh !== undefined) {\n      if (el != null) {\n        el.textContent = \"BokehJS \" + root.Bokeh.version + \" successfully loaded.\";\n      }\n    } else if (Date.now() < root._bokeh_timeout) {\n      setTimeout(display_loaded, 100)\n    }\n  }\n\n\n  function run_callbacks() {\n    try {\n      root._bokeh_onload_callbacks.forEach(function(callback) { callback() });\n    }\n    finally {\n      delete root._bokeh_onload_callbacks\n    }\n    console.info(\"Bokeh: all callbacks have finished\");\n  }\n\n  function load_libs(js_urls, callback) {\n    root._bokeh_onload_callbacks.push(callback);\n    if (root._bokeh_is_loading > 0) {\n      console.log(\"Bokeh: BokehJS is being loaded, scheduling callback at\", now());\n      return null;\n    }\n    if (js_urls == null || js_urls.length === 0) {\n      run_callbacks();\n      return null;\n    }\n    console.log(\"Bokeh: BokehJS not loaded, scheduling load and callback at\", now());\n    root._bokeh_is_loading = js_urls.length;\n    for (var i = 0; i < js_urls.length; i++) {\n      var url = js_urls[i];\n      var s = document.createElement('script');\n      s.src = url;\n      s.async = false;\n      s.onreadystatechange = s.onload = function() {\n        root._bokeh_is_loading--;\n        if (root._bokeh_is_loading === 0) {\n          console.log(\"Bokeh: all BokehJS libraries loaded\");\n          run_callbacks()\n        }\n      };\n      s.onerror = function() {\n        console.warn(\"failed to load library \" + url);\n      };\n      console.log(\"Bokeh: injecting script tag for BokehJS library: \", url);\n      document.getElementsByTagName(\"head\")[0].appendChild(s);\n    }\n  };var element = document.getElementById(\"d4d75713-5b33-46e3-b0b8-4375de170a6c\");\n  if (element == null) {\n    console.log(\"Bokeh: ERROR: autoload.js configured with elementid 'd4d75713-5b33-46e3-b0b8-4375de170a6c' but no matching script tag was found. \")\n    return false;\n  }\n\n  var js_urls = [\"https://cdn.pydata.org/bokeh/release/bokeh-0.12.13.min.js\", \"https://cdn.pydata.org/bokeh/release/bokeh-widgets-0.12.13.min.js\", \"https://cdn.pydata.org/bokeh/release/bokeh-tables-0.12.13.min.js\", \"https://cdn.pydata.org/bokeh/release/bokeh-gl-0.12.13.min.js\"];\n\n  var inline_js = [\n    function(Bokeh) {\n      Bokeh.set_log_level(\"info\");\n    },\n    \n    function(Bokeh) {\n      \n    },\n    function(Bokeh) {\n      console.log(\"Bokeh: injecting CSS: https://cdn.pydata.org/bokeh/release/bokeh-0.12.13.min.css\");\n      Bokeh.embed.inject_css(\"https://cdn.pydata.org/bokeh/release/bokeh-0.12.13.min.css\");\n      console.log(\"Bokeh: injecting CSS: https://cdn.pydata.org/bokeh/release/bokeh-widgets-0.12.13.min.css\");\n      Bokeh.embed.inject_css(\"https://cdn.pydata.org/bokeh/release/bokeh-widgets-0.12.13.min.css\");\n      console.log(\"Bokeh: injecting CSS: https://cdn.pydata.org/bokeh/release/bokeh-tables-0.12.13.min.css\");\n      Bokeh.embed.inject_css(\"https://cdn.pydata.org/bokeh/release/bokeh-tables-0.12.13.min.css\");\n    }\n  ];\n\n  function run_inline_js() {\n    \n    if ((root.Bokeh !== undefined) || (force === true)) {\n      for (var i = 0; i < inline_js.length; i++) {\n        inline_js[i].call(root, root.Bokeh);\n      }if (force === true) {\n        display_loaded();\n      }} else if (Date.now() < root._bokeh_timeout) {\n      setTimeout(run_inline_js, 100);\n    } else if (!root._bokeh_failed_load) {\n      console.log(\"Bokeh: BokehJS failed to load within specified timeout.\");\n      root._bokeh_failed_load = true;\n    } else if (force !== true) {\n      var cell = $(document.getElementById(\"d4d75713-5b33-46e3-b0b8-4375de170a6c\")).parents('.cell').data().cell;\n      cell.output_area.append_execute_result(NB_LOAD_WARNING)\n    }\n\n  }\n\n  if (root._bokeh_is_loading === 0) {\n    console.log(\"Bokeh: BokehJS loaded, going straight to plotting\");\n    run_inline_js();\n  } else {\n    load_libs(js_urls, function() {\n      console.log(\"Bokeh: BokehJS plotting callback run at\", now());\n      run_inline_js();\n    });\n  }\n}(window));"
     },
     "metadata": {},
     "output_type": "display_data"
    }
   ],
   "source": [
    "output_notebook()"
   ]
  },
  {
   "cell_type": "markdown",
   "metadata": {},
   "source": [
    "# Some Basic Scatter Plots\n",
    "\n",
    "In this section you will see how to use Bokeh's various marker types to create simple scatter plots. "
   ]
  },
  {
   "cell_type": "code",
   "execution_count": 3,
   "metadata": {},
   "outputs": [
    {
     "data": {
      "text/html": [
       "\n",
       "<div class=\"bk-root\">\n",
       "    <div class=\"bk-plotdiv\" id=\"6eaddf0d-b867-4833-8db5-4c40376e1890\"></div>\n",
       "</div>"
      ]
     },
     "metadata": {},
     "output_type": "display_data"
    },
    {
     "data": {
      "application/javascript": [
       "(function(root) {\n",
       "  function embed_document(root) {\n",
       "    \n",
       "  var docs_json = {\"a910cf9a-ebe4-49ef-9736-cf977672b2ce\":{\"roots\":{\"references\":[{\"attributes\":{},\"id\":\"c401389a-60ed-4145-ad8f-8b19756722d0\",\"type\":\"ResetTool\"},{\"attributes\":{},\"id\":\"79edb7d3-09e4-43d9-aadf-7450bf8f1a05\",\"type\":\"HelpTool\"},{\"attributes\":{},\"id\":\"28287e9a-6e9d-4414-8832-b320b6d1c266\",\"type\":\"BasicTicker\"},{\"attributes\":{\"plot\":{\"id\":\"c5349356-0fb3-424f-b3ba-2f9172b7d46b\",\"subtype\":\"Figure\",\"type\":\"Plot\"},\"ticker\":{\"id\":\"28287e9a-6e9d-4414-8832-b320b6d1c266\",\"type\":\"BasicTicker\"}},\"id\":\"6d048f0a-7d78-4eb9-9999-5c9a975abf8f\",\"type\":\"Grid\"},{\"attributes\":{\"fill_alpha\":{\"value\":0.5},\"fill_color\":{\"value\":\"orange\"},\"line_color\":{\"value\":\"navy\"},\"size\":{\"units\":\"screen\",\"value\":15},\"x\":{\"field\":\"x\"},\"y\":{\"field\":\"y\"}},\"id\":\"e4866cdc-053e-4017-a808-9ad0130ea9fe\",\"type\":\"Circle\"},{\"attributes\":{\"formatter\":{\"id\":\"e6e791e8-867a-406f-87a5-b7873ba2c912\",\"type\":\"BasicTickFormatter\"},\"plot\":{\"id\":\"c5349356-0fb3-424f-b3ba-2f9172b7d46b\",\"subtype\":\"Figure\",\"type\":\"Plot\"},\"ticker\":{\"id\":\"28287e9a-6e9d-4414-8832-b320b6d1c266\",\"type\":\"BasicTicker\"}},\"id\":\"66a6ade7-bd70-4d71-aa55-08ecf3558934\",\"type\":\"LinearAxis\"},{\"attributes\":{\"formatter\":{\"id\":\"406cb946-c517-4d88-b807-dcafe4b12424\",\"type\":\"BasicTickFormatter\"},\"plot\":{\"id\":\"c5349356-0fb3-424f-b3ba-2f9172b7d46b\",\"subtype\":\"Figure\",\"type\":\"Plot\"},\"ticker\":{\"id\":\"4159fc04-2725-47a9-83f7-460cce2c93b8\",\"type\":\"BasicTicker\"}},\"id\":\"9510b692-3c21-47d3-8e88-0843db351cd6\",\"type\":\"LinearAxis\"},{\"attributes\":{\"overlay\":{\"id\":\"e7cea756-7d42-4420-a2a3-c42d7046a3c1\",\"type\":\"BoxAnnotation\"}},\"id\":\"418a5bd1-1c50-4ac5-b490-78dd3e2bf921\",\"type\":\"BoxZoomTool\"},{\"attributes\":{\"below\":[{\"id\":\"66a6ade7-bd70-4d71-aa55-08ecf3558934\",\"type\":\"LinearAxis\"}],\"left\":[{\"id\":\"9510b692-3c21-47d3-8e88-0843db351cd6\",\"type\":\"LinearAxis\"}],\"plot_height\":400,\"plot_width\":400,\"renderers\":[{\"id\":\"66a6ade7-bd70-4d71-aa55-08ecf3558934\",\"type\":\"LinearAxis\"},{\"id\":\"6d048f0a-7d78-4eb9-9999-5c9a975abf8f\",\"type\":\"Grid\"},{\"id\":\"9510b692-3c21-47d3-8e88-0843db351cd6\",\"type\":\"LinearAxis\"},{\"id\":\"e903dd4c-dddd-4ff8-ba68-a9b2c02f2bd9\",\"type\":\"Grid\"},{\"id\":\"e7cea756-7d42-4420-a2a3-c42d7046a3c1\",\"type\":\"BoxAnnotation\"},{\"id\":\"2675dfa4-0708-47fb-ad16-19e31a09d0b7\",\"type\":\"GlyphRenderer\"}],\"title\":{\"id\":\"6daad827-3c6e-4804-be70-f3c77a0c15b6\",\"type\":\"Title\"},\"toolbar\":{\"id\":\"942e022e-5432-4ce9-9ba2-0590a231e51b\",\"type\":\"Toolbar\"},\"x_range\":{\"id\":\"79e76960-38a9-479f-9414-beb264b715e4\",\"type\":\"DataRange1d\"},\"x_scale\":{\"id\":\"ddfaed2b-6f24-4513-aa08-db15b6eb8978\",\"type\":\"LinearScale\"},\"y_range\":{\"id\":\"74ae51c7-595e-496d-945e-760f48e50f1a\",\"type\":\"DataRange1d\"},\"y_scale\":{\"id\":\"4f1ad855-43d0-49d9-8f72-9705f5b91af2\",\"type\":\"LinearScale\"}},\"id\":\"c5349356-0fb3-424f-b3ba-2f9172b7d46b\",\"subtype\":\"Figure\",\"type\":\"Plot\"},{\"attributes\":{},\"id\":\"4159fc04-2725-47a9-83f7-460cce2c93b8\",\"type\":\"BasicTicker\"},{\"attributes\":{\"callback\":null,\"column_names\":[\"x\",\"y\"],\"data\":{\"x\":[1,2,3,4,5],\"y\":[6,7,2,4,5]}},\"id\":\"429d0aa6-59f9-494b-87a6-6bfb8a45dc16\",\"type\":\"ColumnDataSource\"},{\"attributes\":{\"dimension\":1,\"plot\":{\"id\":\"c5349356-0fb3-424f-b3ba-2f9172b7d46b\",\"subtype\":\"Figure\",\"type\":\"Plot\"},\"ticker\":{\"id\":\"4159fc04-2725-47a9-83f7-460cce2c93b8\",\"type\":\"BasicTicker\"}},\"id\":\"e903dd4c-dddd-4ff8-ba68-a9b2c02f2bd9\",\"type\":\"Grid\"},{\"attributes\":{\"source\":{\"id\":\"429d0aa6-59f9-494b-87a6-6bfb8a45dc16\",\"type\":\"ColumnDataSource\"}},\"id\":\"7911d398-f3ff-4e8f-a59c-ea9f518840d7\",\"type\":\"CDSView\"},{\"attributes\":{\"bottom_units\":\"screen\",\"fill_alpha\":{\"value\":0.5},\"fill_color\":{\"value\":\"lightgrey\"},\"left_units\":\"screen\",\"level\":\"overlay\",\"line_alpha\":{\"value\":1.0},\"line_color\":{\"value\":\"black\"},\"line_dash\":[4,4],\"line_width\":{\"value\":2},\"plot\":null,\"render_mode\":\"css\",\"right_units\":\"screen\",\"top_units\":\"screen\"},\"id\":\"e7cea756-7d42-4420-a2a3-c42d7046a3c1\",\"type\":\"BoxAnnotation\"},{\"attributes\":{\"active_drag\":\"auto\",\"active_inspect\":\"auto\",\"active_scroll\":\"auto\",\"active_tap\":\"auto\",\"tools\":[{\"id\":\"094a09de-4495-4876-89ca-1be44917d94d\",\"type\":\"PanTool\"},{\"id\":\"b3141d8c-2568-400c-a884-8a6e6f41a4c8\",\"type\":\"WheelZoomTool\"},{\"id\":\"418a5bd1-1c50-4ac5-b490-78dd3e2bf921\",\"type\":\"BoxZoomTool\"},{\"id\":\"6787aeb2-f637-4272-a2d9-f704e1615b77\",\"type\":\"SaveTool\"},{\"id\":\"c401389a-60ed-4145-ad8f-8b19756722d0\",\"type\":\"ResetTool\"},{\"id\":\"79edb7d3-09e4-43d9-aadf-7450bf8f1a05\",\"type\":\"HelpTool\"}]},\"id\":\"942e022e-5432-4ce9-9ba2-0590a231e51b\",\"type\":\"Toolbar\"},{\"attributes\":{\"callback\":null},\"id\":\"79e76960-38a9-479f-9414-beb264b715e4\",\"type\":\"DataRange1d\"},{\"attributes\":{\"callback\":null},\"id\":\"74ae51c7-595e-496d-945e-760f48e50f1a\",\"type\":\"DataRange1d\"},{\"attributes\":{},\"id\":\"094a09de-4495-4876-89ca-1be44917d94d\",\"type\":\"PanTool\"},{\"attributes\":{\"fill_alpha\":{\"value\":0.1},\"fill_color\":{\"value\":\"#1f77b4\"},\"line_alpha\":{\"value\":0.1},\"line_color\":{\"value\":\"#1f77b4\"},\"size\":{\"units\":\"screen\",\"value\":15},\"x\":{\"field\":\"x\"},\"y\":{\"field\":\"y\"}},\"id\":\"36f7cf8f-9c9b-4ab7-95ab-4342e62fccb6\",\"type\":\"Circle\"},{\"attributes\":{},\"id\":\"ddfaed2b-6f24-4513-aa08-db15b6eb8978\",\"type\":\"LinearScale\"},{\"attributes\":{\"plot\":null,\"text\":\"\"},\"id\":\"6daad827-3c6e-4804-be70-f3c77a0c15b6\",\"type\":\"Title\"},{\"attributes\":{\"data_source\":{\"id\":\"429d0aa6-59f9-494b-87a6-6bfb8a45dc16\",\"type\":\"ColumnDataSource\"},\"glyph\":{\"id\":\"e4866cdc-053e-4017-a808-9ad0130ea9fe\",\"type\":\"Circle\"},\"hover_glyph\":null,\"muted_glyph\":null,\"nonselection_glyph\":{\"id\":\"36f7cf8f-9c9b-4ab7-95ab-4342e62fccb6\",\"type\":\"Circle\"},\"selection_glyph\":null,\"view\":{\"id\":\"7911d398-f3ff-4e8f-a59c-ea9f518840d7\",\"type\":\"CDSView\"}},\"id\":\"2675dfa4-0708-47fb-ad16-19e31a09d0b7\",\"type\":\"GlyphRenderer\"},{\"attributes\":{},\"id\":\"4f1ad855-43d0-49d9-8f72-9705f5b91af2\",\"type\":\"LinearScale\"},{\"attributes\":{},\"id\":\"b3141d8c-2568-400c-a884-8a6e6f41a4c8\",\"type\":\"WheelZoomTool\"},{\"attributes\":{},\"id\":\"406cb946-c517-4d88-b807-dcafe4b12424\",\"type\":\"BasicTickFormatter\"},{\"attributes\":{},\"id\":\"e6e791e8-867a-406f-87a5-b7873ba2c912\",\"type\":\"BasicTickFormatter\"},{\"attributes\":{},\"id\":\"6787aeb2-f637-4272-a2d9-f704e1615b77\",\"type\":\"SaveTool\"}],\"root_ids\":[\"c5349356-0fb3-424f-b3ba-2f9172b7d46b\"]},\"title\":\"Bokeh Application\",\"version\":\"0.12.13\"}};\n",
       "  var render_items = [{\"docid\":\"a910cf9a-ebe4-49ef-9736-cf977672b2ce\",\"elementid\":\"6eaddf0d-b867-4833-8db5-4c40376e1890\",\"modelid\":\"c5349356-0fb3-424f-b3ba-2f9172b7d46b\"}];\n",
       "  root.Bokeh.embed.embed_items_notebook(docs_json, render_items);\n",
       "\n",
       "  }\n",
       "  if (root.Bokeh !== undefined) {\n",
       "    embed_document(root);\n",
       "  } else {\n",
       "    var attempts = 0;\n",
       "    var timer = setInterval(function(root) {\n",
       "      if (root.Bokeh !== undefined) {\n",
       "        embed_document(root);\n",
       "        clearInterval(timer);\n",
       "      }\n",
       "      attempts++;\n",
       "      if (attempts > 100) {\n",
       "        console.log(\"Bokeh: ERROR: Unable to run BokehJS code because BokehJS library is missing\")\n",
       "        clearInterval(timer);\n",
       "      }\n",
       "    }, 10, root)\n",
       "  }\n",
       "})(window);"
      ],
      "application/vnd.bokehjs_exec.v0+json": ""
     },
     "metadata": {
      "application/vnd.bokehjs_exec.v0+json": {
       "id": "c5349356-0fb3-424f-b3ba-2f9172b7d46b"
      }
     },
     "output_type": "display_data"
    }
   ],
   "source": [
    "# create a new plot with default tools, using figure\n",
    "p = figure(plot_width=400, plot_height=400)\n",
    "\n",
    "# add a circle renderer with a size, color, and alpha\n",
    "p.circle([1, 2, 3, 4, 5], [6, 7, 2, 4, 5], size=15, line_color=\"navy\", fill_color=\"orange\", fill_alpha=0.5)\n",
    "\n",
    "show(p) # show the results"
   ]
  },
  {
   "cell_type": "markdown",
   "metadata": {},
   "source": [
    "All Bokeh markers accept `size` (measured in screen space units) as a property. Circles also have `radius` (measured in \"data\" space units). "
   ]
  },
  {
   "cell_type": "code",
   "execution_count": 4,
   "metadata": {},
   "outputs": [],
   "source": [
    "# EXERCISE: Try changing the example above to set a `radius` value instead of `size`\n",
    "\n"
   ]
  },
  {
   "cell_type": "markdown",
   "metadata": {},
   "source": [
    "To scatter square markers instead of circles, you can use the `square` method on figures. "
   ]
  },
  {
   "cell_type": "code",
   "execution_count": 5,
   "metadata": {},
   "outputs": [
    {
     "data": {
      "text/html": [
       "\n",
       "<div class=\"bk-root\">\n",
       "    <div class=\"bk-plotdiv\" id=\"784c3e8d-c3d0-47a4-ac4b-1907a6a4dd2f\"></div>\n",
       "</div>"
      ]
     },
     "metadata": {},
     "output_type": "display_data"
    },
    {
     "data": {
      "application/javascript": [
       "(function(root) {\n",
       "  function embed_document(root) {\n",
       "    \n",
       "  var docs_json = {\"3cb315cd-6945-4a12-9476-0030b1c6a6cc\":{\"roots\":{\"references\":[{\"attributes\":{\"callback\":null},\"id\":\"6d5d892e-1e2f-460f-a8e7-fe087db4d55a\",\"type\":\"DataRange1d\"},{\"attributes\":{\"formatter\":{\"id\":\"d7771c9f-43a3-497f-9820-843ab837fc1d\",\"type\":\"BasicTickFormatter\"},\"plot\":{\"id\":\"e0fb5d6c-491b-44ea-b7ca-e46fe41f38f2\",\"subtype\":\"Figure\",\"type\":\"Plot\"},\"ticker\":{\"id\":\"7985b42c-6c17-4c1d-8157-561657587b62\",\"type\":\"BasicTicker\"}},\"id\":\"72a6821b-f8f1-4d48-9043-7070fe6b9386\",\"type\":\"LinearAxis\"},{\"attributes\":{\"fill_alpha\":{\"value\":0.6},\"fill_color\":{\"value\":\"firebrick\"},\"line_alpha\":{\"value\":0.6},\"line_color\":{\"value\":\"firebrick\"},\"size\":{\"field\":\"size\",\"units\":\"screen\"},\"x\":{\"field\":\"x\"},\"y\":{\"field\":\"y\"}},\"id\":\"ae88bafb-15bb-4343-92c2-7991e783e515\",\"type\":\"Square\"},{\"attributes\":{\"dimension\":1,\"plot\":{\"id\":\"e0fb5d6c-491b-44ea-b7ca-e46fe41f38f2\",\"subtype\":\"Figure\",\"type\":\"Plot\"},\"ticker\":{\"id\":\"178f8e68-6c4b-422c-9fd1-cf3519b85d4c\",\"type\":\"BasicTicker\"}},\"id\":\"3505fd2f-5a62-4d1b-a912-5b0edfe65338\",\"type\":\"Grid\"},{\"attributes\":{},\"id\":\"343791c6-1566-4879-83dd-7ffdbc7c17ac\",\"type\":\"HelpTool\"},{\"attributes\":{},\"id\":\"d7771c9f-43a3-497f-9820-843ab837fc1d\",\"type\":\"BasicTickFormatter\"},{\"attributes\":{\"plot\":{\"id\":\"e0fb5d6c-491b-44ea-b7ca-e46fe41f38f2\",\"subtype\":\"Figure\",\"type\":\"Plot\"},\"ticker\":{\"id\":\"7985b42c-6c17-4c1d-8157-561657587b62\",\"type\":\"BasicTicker\"}},\"id\":\"4d3ee7da-19df-49d3-8436-d8c2f3ed9034\",\"type\":\"Grid\"},{\"attributes\":{\"formatter\":{\"id\":\"5d1f0fcc-2ddd-4e7a-ae81-922f70012ecc\",\"type\":\"BasicTickFormatter\"},\"plot\":{\"id\":\"e0fb5d6c-491b-44ea-b7ca-e46fe41f38f2\",\"subtype\":\"Figure\",\"type\":\"Plot\"},\"ticker\":{\"id\":\"178f8e68-6c4b-422c-9fd1-cf3519b85d4c\",\"type\":\"BasicTicker\"}},\"id\":\"5435c971-0f35-4117-86c9-833ca2253a3d\",\"type\":\"LinearAxis\"},{\"attributes\":{},\"id\":\"5d1f0fcc-2ddd-4e7a-ae81-922f70012ecc\",\"type\":\"BasicTickFormatter\"},{\"attributes\":{},\"id\":\"7985b42c-6c17-4c1d-8157-561657587b62\",\"type\":\"BasicTicker\"},{\"attributes\":{},\"id\":\"178f8e68-6c4b-422c-9fd1-cf3519b85d4c\",\"type\":\"BasicTicker\"},{\"attributes\":{\"plot\":null,\"text\":\"\"},\"id\":\"ed69f409-4f06-4559-9e70-80eabbbc97c1\",\"type\":\"Title\"},{\"attributes\":{\"overlay\":{\"id\":\"e215f1e2-8f67-41a1-8450-e8c3740936c2\",\"type\":\"BoxAnnotation\"}},\"id\":\"6f34a694-5a93-4f0f-876d-8c3050b99a2b\",\"type\":\"BoxZoomTool\"},{\"attributes\":{},\"id\":\"cae3fcef-854f-48c1-ac4b-756bf5a22012\",\"type\":\"SaveTool\"},{\"attributes\":{\"below\":[{\"id\":\"72a6821b-f8f1-4d48-9043-7070fe6b9386\",\"type\":\"LinearAxis\"}],\"left\":[{\"id\":\"5435c971-0f35-4117-86c9-833ca2253a3d\",\"type\":\"LinearAxis\"}],\"plot_height\":400,\"plot_width\":400,\"renderers\":[{\"id\":\"72a6821b-f8f1-4d48-9043-7070fe6b9386\",\"type\":\"LinearAxis\"},{\"id\":\"4d3ee7da-19df-49d3-8436-d8c2f3ed9034\",\"type\":\"Grid\"},{\"id\":\"5435c971-0f35-4117-86c9-833ca2253a3d\",\"type\":\"LinearAxis\"},{\"id\":\"3505fd2f-5a62-4d1b-a912-5b0edfe65338\",\"type\":\"Grid\"},{\"id\":\"e215f1e2-8f67-41a1-8450-e8c3740936c2\",\"type\":\"BoxAnnotation\"},{\"id\":\"e17179a9-c95b-419a-a37d-b268c59731fd\",\"type\":\"GlyphRenderer\"}],\"title\":{\"id\":\"ed69f409-4f06-4559-9e70-80eabbbc97c1\",\"type\":\"Title\"},\"toolbar\":{\"id\":\"d3f03491-783d-4aca-9945-5c1dfc59a9dc\",\"type\":\"Toolbar\"},\"x_range\":{\"id\":\"6d5d892e-1e2f-460f-a8e7-fe087db4d55a\",\"type\":\"DataRange1d\"},\"x_scale\":{\"id\":\"e7acba1d-085e-4949-b156-7442ff45b465\",\"type\":\"LinearScale\"},\"y_range\":{\"id\":\"68d0a86a-e5d5-4c03-a1c2-a8c3d86a2df1\",\"type\":\"DataRange1d\"},\"y_scale\":{\"id\":\"ac1c6644-d742-4ec0-877f-9b997c2737b2\",\"type\":\"LinearScale\"}},\"id\":\"e0fb5d6c-491b-44ea-b7ca-e46fe41f38f2\",\"subtype\":\"Figure\",\"type\":\"Plot\"},{\"attributes\":{},\"id\":\"7aaecc55-23f8-4f2b-b9ff-2cabddfc5e59\",\"type\":\"ResetTool\"},{\"attributes\":{\"data_source\":{\"id\":\"6443cfa8-66d9-4edf-ab65-08688ec5e0a6\",\"type\":\"ColumnDataSource\"},\"glyph\":{\"id\":\"ae88bafb-15bb-4343-92c2-7991e783e515\",\"type\":\"Square\"},\"hover_glyph\":null,\"muted_glyph\":null,\"nonselection_glyph\":{\"id\":\"397f6d08-fd8f-4472-b454-fbc85c73fc1f\",\"type\":\"Square\"},\"selection_glyph\":null,\"view\":{\"id\":\"80a87d78-ff3f-4b53-91de-8e0031b6a5f4\",\"type\":\"CDSView\"}},\"id\":\"e17179a9-c95b-419a-a37d-b268c59731fd\",\"type\":\"GlyphRenderer\"},{\"attributes\":{\"active_drag\":\"auto\",\"active_inspect\":\"auto\",\"active_scroll\":\"auto\",\"active_tap\":\"auto\",\"tools\":[{\"id\":\"e98b2f5d-513e-4a07-9718-c10d076bbb19\",\"type\":\"PanTool\"},{\"id\":\"02570ef3-eddd-48bb-9f83-e2cfffd3975d\",\"type\":\"WheelZoomTool\"},{\"id\":\"6f34a694-5a93-4f0f-876d-8c3050b99a2b\",\"type\":\"BoxZoomTool\"},{\"id\":\"cae3fcef-854f-48c1-ac4b-756bf5a22012\",\"type\":\"SaveTool\"},{\"id\":\"7aaecc55-23f8-4f2b-b9ff-2cabddfc5e59\",\"type\":\"ResetTool\"},{\"id\":\"343791c6-1566-4879-83dd-7ffdbc7c17ac\",\"type\":\"HelpTool\"}]},\"id\":\"d3f03491-783d-4aca-9945-5c1dfc59a9dc\",\"type\":\"Toolbar\"},{\"attributes\":{},\"id\":\"e98b2f5d-513e-4a07-9718-c10d076bbb19\",\"type\":\"PanTool\"},{\"attributes\":{\"callback\":null,\"column_names\":[\"x\",\"y\",\"size\"],\"data\":{\"size\":[10,15,20,25,30],\"x\":[1,2,3,4,5],\"y\":[6,7,2,4,5]}},\"id\":\"6443cfa8-66d9-4edf-ab65-08688ec5e0a6\",\"type\":\"ColumnDataSource\"},{\"attributes\":{},\"id\":\"02570ef3-eddd-48bb-9f83-e2cfffd3975d\",\"type\":\"WheelZoomTool\"},{\"attributes\":{},\"id\":\"ac1c6644-d742-4ec0-877f-9b997c2737b2\",\"type\":\"LinearScale\"},{\"attributes\":{\"source\":{\"id\":\"6443cfa8-66d9-4edf-ab65-08688ec5e0a6\",\"type\":\"ColumnDataSource\"}},\"id\":\"80a87d78-ff3f-4b53-91de-8e0031b6a5f4\",\"type\":\"CDSView\"},{\"attributes\":{},\"id\":\"e7acba1d-085e-4949-b156-7442ff45b465\",\"type\":\"LinearScale\"},{\"attributes\":{\"callback\":null},\"id\":\"68d0a86a-e5d5-4c03-a1c2-a8c3d86a2df1\",\"type\":\"DataRange1d\"},{\"attributes\":{\"bottom_units\":\"screen\",\"fill_alpha\":{\"value\":0.5},\"fill_color\":{\"value\":\"lightgrey\"},\"left_units\":\"screen\",\"level\":\"overlay\",\"line_alpha\":{\"value\":1.0},\"line_color\":{\"value\":\"black\"},\"line_dash\":[4,4],\"line_width\":{\"value\":2},\"plot\":null,\"render_mode\":\"css\",\"right_units\":\"screen\",\"top_units\":\"screen\"},\"id\":\"e215f1e2-8f67-41a1-8450-e8c3740936c2\",\"type\":\"BoxAnnotation\"},{\"attributes\":{\"fill_alpha\":{\"value\":0.1},\"fill_color\":{\"value\":\"#1f77b4\"},\"line_alpha\":{\"value\":0.1},\"line_color\":{\"value\":\"#1f77b4\"},\"size\":{\"field\":\"size\",\"units\":\"screen\"},\"x\":{\"field\":\"x\"},\"y\":{\"field\":\"y\"}},\"id\":\"397f6d08-fd8f-4472-b454-fbc85c73fc1f\",\"type\":\"Square\"}],\"root_ids\":[\"e0fb5d6c-491b-44ea-b7ca-e46fe41f38f2\"]},\"title\":\"Bokeh Application\",\"version\":\"0.12.13\"}};\n",
       "  var render_items = [{\"docid\":\"3cb315cd-6945-4a12-9476-0030b1c6a6cc\",\"elementid\":\"784c3e8d-c3d0-47a4-ac4b-1907a6a4dd2f\",\"modelid\":\"e0fb5d6c-491b-44ea-b7ca-e46fe41f38f2\"}];\n",
       "  root.Bokeh.embed.embed_items_notebook(docs_json, render_items);\n",
       "\n",
       "  }\n",
       "  if (root.Bokeh !== undefined) {\n",
       "    embed_document(root);\n",
       "  } else {\n",
       "    var attempts = 0;\n",
       "    var timer = setInterval(function(root) {\n",
       "      if (root.Bokeh !== undefined) {\n",
       "        embed_document(root);\n",
       "        clearInterval(timer);\n",
       "      }\n",
       "      attempts++;\n",
       "      if (attempts > 100) {\n",
       "        console.log(\"Bokeh: ERROR: Unable to run BokehJS code because BokehJS library is missing\")\n",
       "        clearInterval(timer);\n",
       "      }\n",
       "    }, 10, root)\n",
       "  }\n",
       "})(window);"
      ],
      "application/vnd.bokehjs_exec.v0+json": ""
     },
     "metadata": {
      "application/vnd.bokehjs_exec.v0+json": {
       "id": "e0fb5d6c-491b-44ea-b7ca-e46fe41f38f2"
      }
     },
     "output_type": "display_data"
    }
   ],
   "source": [
    "# create a new plot using figure\n",
    "p = figure(plot_width=400, plot_height=400)\n",
    "\n",
    "# add a square renderer with a size, color, alpha, and sizes\n",
    "p.square([1, 2, 3, 4, 5], [6, 7, 2, 4, 5], size=[10, 15, 20, 25, 30], color=\"firebrick\", alpha=0.6)\n",
    "\n",
    "show(p) # show the results"
   ]
  },
  {
   "cell_type": "markdown",
   "metadata": {},
   "source": [
    "Note that in the example above, we are also specifying different sizes for each individual marker. ***In general, all of a glyph's properties can be \"vectorized\" in this fashion. ***  Also note that we have passed ``color`` as a shorthand to set both the line and fill colors easily at the same time. This is a convenience specific to ``bokeh.plotting``.\n",
    "\n",
    "</table><p>There are many marker types available in Bokeh, you can see details and\n",
    "example plots for all of them in the reference guide by clicking on entries in the list below:</p>\n",
    "<table class=\"hlist\" style=\"float:left\"><tr><td><ul>\n",
    "<li><a href=\"http://bokeh.pydata.org/en/latest/docs/reference/plotting.html#bokeh.plotting.Figure.asterisk\" title=\"bokeh.plotting.Figure.asterisk\"><code class=\"xref py py-func docutils literal\"><span class=\"pre\">asterisk()</span></code></a></li>\n",
    "<li><a href=\"http://bokeh.pydata.org/en/latest/docs/reference/plotting.html#bokeh.plotting.Figure.circle\" title=\"bokeh.plotting.Figure.circle\"><code class=\"xref py py-func docutils literal\"><span class=\"pre\">circle()</span></code></a></li>\n",
    "<li><a href=\"http://bokeh.pydata.org/en/latest/docs/reference/plotting.html#bokeh.plotting.Figure.circle_cross\" title=\"bokeh.plotting.Figure.circle_cross\"><code class=\"xref py py-func docutils literal\"><span class=\"pre\">circle_cross()</span></code></a></li>\n",
    "<li><a href=\"http://bokeh.pydata.org/en/latest/docs/reference/plotting.html#bokeh.plotting.Figure.circle_x\" title=\"bokeh.plotting.Figure.circle_x\"><code class=\"xref py py-func docutils literal\"><span class=\"pre\">circle_x()</span></code></a></li>\n",
    "<li><a href=\"http://bokeh.pydata.org/en/latest/docs/reference/plotting.html#bokeh.plotting.Figure.cross\" title=\"bokeh.plotting.Figure.cross\"><code class=\"xref py py-func docutils literal\"><span class=\"pre\">cross()</span></code></a></li>\n",
    "</ul>\n",
    "</td><td><ul>\n",
    "<li><a href=\"http://bokeh.pydata.org/en/latest/docs/reference/plotting.html#bokeh.plotting.Figure.diamond\" title=\"bokeh.plotting.Figure.diamond\"><code class=\"xref py py-func docutils literal\"><span class=\"pre\">diamond()</span></code></a></li>\n",
    "<li><a href=\"http://bokeh.pydata.org/en/latest/docs/reference/plotting.html#bokeh.plotting.Figure.diamond_cross\" title=\"bokeh.plotting.Figure.diamond_cross\"><code class=\"xref py py-func docutils literal\"><span class=\"pre\">diamond_cross()</span></code></a></li>\n",
    "<li><a href=\"http://bokeh.pydata.org/en/latest/docs/reference/plotting.html#bokeh.plotting.Figure.inverted_triangle\" title=\"bokeh.plotting.Figure.inverted_triangle\"><code class=\"xref py py-func docutils literal\"><span class=\"pre\">inverted_triangle()</span></code></a></li>\n",
    "<li><a href=\"http://bokeh.pydata.org/en/latest/docs/reference/plotting.html#bokeh.plotting.Figure.square\" title=\"bokeh.plotting.Figure.square\"><code class=\"xref py py-func docutils literal\"><span class=\"pre\">square()</span></code></a></li>\n",
    "</ul>\n",
    "</td><td><ul>\n",
    "<li><a href=\"http://bokeh.pydata.org/en/latest/docs/reference/plotting.html#bokeh.plotting.Figure.square_cross\" title=\"bokeh.plotting.Figure.square_cross\"><code class=\"xref py py-func docutils literal\"><span class=\"pre\">square_cross()</span></code></a></li>\n",
    "<li><a href=\"http://bokeh.pydata.org/en/latest/docs/reference/plotting.html#bokeh.plotting.Figure.square_x\" title=\"bokeh.plotting.Figure.square_x\"><code class=\"xref py py-func docutils literal\"><span class=\"pre\">square_x()</span></code></a></li>\n",
    "<li><a href=\"http://bokeh.pydata.org/en/latest/docs/reference/plotting.html#bokeh.plotting.Figure.triangle\" title=\"bokeh.plotting.Figure.triangle\"><code class=\"xref py py-func docutils literal\"><span class=\"pre\">triangle()</span></code></a></li>\n",
    "<li><a href=\"http://bokeh.pydata.org/en/latest/docs/reference/plotting.html#bokeh.plotting.Figure.x\" title=\"bokeh.plotting.Figure.x\"><code class=\"xref py py-func docutils literal\"><span class=\"pre\">x()</span></code></a></li>\n",
    "</ul>\n",
    "</td></tr></table>"
   ]
  },
  {
   "cell_type": "code",
   "execution_count": 6,
   "metadata": {},
   "outputs": [],
   "source": [
    "# EXERCISE: Plot some different markers in this cell\n",
    "\n"
   ]
  },
  {
   "cell_type": "markdown",
   "metadata": {},
   "source": [
    "# Basic Line Plots"
   ]
  },
  {
   "cell_type": "code",
   "execution_count": 7,
   "metadata": {},
   "outputs": [
    {
     "data": {
      "text/html": [
       "\n",
       "<div class=\"bk-root\">\n",
       "    <div class=\"bk-plotdiv\" id=\"1b7060e3-c23c-46fd-b5f5-5bd86a26fc27\"></div>\n",
       "</div>"
      ]
     },
     "metadata": {},
     "output_type": "display_data"
    },
    {
     "data": {
      "application/javascript": [
       "(function(root) {\n",
       "  function embed_document(root) {\n",
       "    \n",
       "  var docs_json = {\"c9c67397-3652-4da1-a117-16b1d1b77678\":{\"roots\":{\"references\":[{\"attributes\":{\"data_source\":{\"id\":\"63df8abf-fdc9-4856-8cdb-8c75ebc01780\",\"type\":\"ColumnDataSource\"},\"glyph\":{\"id\":\"b69029ab-fdc0-40fc-b27e-a8f258d2e587\",\"type\":\"Line\"},\"hover_glyph\":null,\"muted_glyph\":null,\"nonselection_glyph\":{\"id\":\"8ef87462-ab74-4613-a91f-1dd74822c1f9\",\"type\":\"Line\"},\"selection_glyph\":null,\"view\":{\"id\":\"612671f7-30e3-4c30-9361-4ccb69622842\",\"type\":\"CDSView\"}},\"id\":\"3ac85e98-d52e-4ff0-b88e-b39e07ca3f65\",\"type\":\"GlyphRenderer\"},{\"attributes\":{\"dimension\":1,\"plot\":{\"id\":\"4df1326d-f406-4f1b-b658-402bd6241313\",\"subtype\":\"Figure\",\"type\":\"Plot\"},\"ticker\":{\"id\":\"90d90aa1-27d5-482e-ab5b-e0399db5dc58\",\"type\":\"BasicTicker\"}},\"id\":\"91a5955d-a385-402f-85c1-29b3e20fb9f3\",\"type\":\"Grid\"},{\"attributes\":{\"line_color\":\"#1f77b4\",\"line_width\":2,\"x\":{\"field\":\"x\"},\"y\":{\"field\":\"y\"}},\"id\":\"b69029ab-fdc0-40fc-b27e-a8f258d2e587\",\"type\":\"Line\"},{\"attributes\":{\"source\":{\"id\":\"63df8abf-fdc9-4856-8cdb-8c75ebc01780\",\"type\":\"ColumnDataSource\"}},\"id\":\"612671f7-30e3-4c30-9361-4ccb69622842\",\"type\":\"CDSView\"},{\"attributes\":{\"below\":[{\"id\":\"ceba4a4f-ddab-4ecc-adcd-8b52bb3b84f3\",\"type\":\"LinearAxis\"}],\"left\":[{\"id\":\"4a624d27-5978-434e-89bc-660647cae172\",\"type\":\"LinearAxis\"}],\"plot_height\":400,\"plot_width\":400,\"renderers\":[{\"id\":\"ceba4a4f-ddab-4ecc-adcd-8b52bb3b84f3\",\"type\":\"LinearAxis\"},{\"id\":\"f94a02a5-0a6d-4534-a957-15405d1964d9\",\"type\":\"Grid\"},{\"id\":\"4a624d27-5978-434e-89bc-660647cae172\",\"type\":\"LinearAxis\"},{\"id\":\"91a5955d-a385-402f-85c1-29b3e20fb9f3\",\"type\":\"Grid\"},{\"id\":\"8433013a-930b-42be-b53d-4786a732cc84\",\"type\":\"BoxAnnotation\"},{\"id\":\"3ac85e98-d52e-4ff0-b88e-b39e07ca3f65\",\"type\":\"GlyphRenderer\"}],\"title\":{\"id\":\"c84e25d9-56fb-4c80-89f5-a04f730e4301\",\"type\":\"Title\"},\"toolbar\":{\"id\":\"aed6e5c5-7b8b-4751-a3f0-5bf48d869ab2\",\"type\":\"Toolbar\"},\"x_range\":{\"id\":\"4f2c89ac-2e80-4f9b-bea7-ab69e1111d03\",\"type\":\"DataRange1d\"},\"x_scale\":{\"id\":\"98045865-fa11-4edd-9de6-a1dab0e70167\",\"type\":\"LinearScale\"},\"y_range\":{\"id\":\"de3d44e8-db3e-4263-8fef-6b910afd4906\",\"type\":\"DataRange1d\"},\"y_scale\":{\"id\":\"1728edd4-ee9e-4f6e-b80d-fd135f5c3773\",\"type\":\"LinearScale\"}},\"id\":\"4df1326d-f406-4f1b-b658-402bd6241313\",\"subtype\":\"Figure\",\"type\":\"Plot\"},{\"attributes\":{\"formatter\":{\"id\":\"0b13f107-8da4-46c9-ba4a-70999a6feadd\",\"type\":\"BasicTickFormatter\"},\"plot\":{\"id\":\"4df1326d-f406-4f1b-b658-402bd6241313\",\"subtype\":\"Figure\",\"type\":\"Plot\"},\"ticker\":{\"id\":\"90d90aa1-27d5-482e-ab5b-e0399db5dc58\",\"type\":\"BasicTicker\"}},\"id\":\"4a624d27-5978-434e-89bc-660647cae172\",\"type\":\"LinearAxis\"},{\"attributes\":{\"bottom_units\":\"screen\",\"fill_alpha\":{\"value\":0.5},\"fill_color\":{\"value\":\"lightgrey\"},\"left_units\":\"screen\",\"level\":\"overlay\",\"line_alpha\":{\"value\":1.0},\"line_color\":{\"value\":\"black\"},\"line_dash\":[4,4],\"line_width\":{\"value\":2},\"plot\":null,\"render_mode\":\"css\",\"right_units\":\"screen\",\"top_units\":\"screen\"},\"id\":\"8433013a-930b-42be-b53d-4786a732cc84\",\"type\":\"BoxAnnotation\"},{\"attributes\":{\"callback\":null,\"column_names\":[\"x\",\"y\"],\"data\":{\"x\":[1,2,3,4,5],\"y\":[6,7,2,4,5]}},\"id\":\"63df8abf-fdc9-4856-8cdb-8c75ebc01780\",\"type\":\"ColumnDataSource\"},{\"attributes\":{},\"id\":\"0b13f107-8da4-46c9-ba4a-70999a6feadd\",\"type\":\"BasicTickFormatter\"},{\"attributes\":{\"plot\":null,\"text\":\"My Line Plot\"},\"id\":\"c84e25d9-56fb-4c80-89f5-a04f730e4301\",\"type\":\"Title\"},{\"attributes\":{\"callback\":null},\"id\":\"4f2c89ac-2e80-4f9b-bea7-ab69e1111d03\",\"type\":\"DataRange1d\"},{\"attributes\":{},\"id\":\"4498efd3-2973-4ae1-b377-fc0f5330b283\",\"type\":\"PanTool\"},{\"attributes\":{\"active_drag\":\"auto\",\"active_inspect\":\"auto\",\"active_scroll\":\"auto\",\"active_tap\":\"auto\",\"tools\":[{\"id\":\"4498efd3-2973-4ae1-b377-fc0f5330b283\",\"type\":\"PanTool\"},{\"id\":\"60c11123-d5a8-4daa-a1bd-06a515b703a4\",\"type\":\"WheelZoomTool\"},{\"id\":\"ce2edbcf-5704-4193-ae70-6fe34d7ec913\",\"type\":\"BoxZoomTool\"},{\"id\":\"72b22816-c4a9-42a5-bf17-dd9028978db5\",\"type\":\"SaveTool\"},{\"id\":\"f724cf7c-e5a0-49e8-93d4-56419cecab0a\",\"type\":\"ResetTool\"},{\"id\":\"f7c6551d-4035-417a-81bc-f28e882fc58d\",\"type\":\"HelpTool\"}]},\"id\":\"aed6e5c5-7b8b-4751-a3f0-5bf48d869ab2\",\"type\":\"Toolbar\"},{\"attributes\":{},\"id\":\"f7c6551d-4035-417a-81bc-f28e882fc58d\",\"type\":\"HelpTool\"},{\"attributes\":{},\"id\":\"0451ad9b-ccad-431e-ad91-e7acf2b54286\",\"type\":\"BasicTicker\"},{\"attributes\":{\"callback\":null},\"id\":\"de3d44e8-db3e-4263-8fef-6b910afd4906\",\"type\":\"DataRange1d\"},{\"attributes\":{},\"id\":\"60c11123-d5a8-4daa-a1bd-06a515b703a4\",\"type\":\"WheelZoomTool\"},{\"attributes\":{\"overlay\":{\"id\":\"8433013a-930b-42be-b53d-4786a732cc84\",\"type\":\"BoxAnnotation\"}},\"id\":\"ce2edbcf-5704-4193-ae70-6fe34d7ec913\",\"type\":\"BoxZoomTool\"},{\"attributes\":{},\"id\":\"1728edd4-ee9e-4f6e-b80d-fd135f5c3773\",\"type\":\"LinearScale\"},{\"attributes\":{},\"id\":\"1fad44ce-31b2-4406-8bb6-512d7a8349b0\",\"type\":\"BasicTickFormatter\"},{\"attributes\":{},\"id\":\"98045865-fa11-4edd-9de6-a1dab0e70167\",\"type\":\"LinearScale\"},{\"attributes\":{},\"id\":\"72b22816-c4a9-42a5-bf17-dd9028978db5\",\"type\":\"SaveTool\"},{\"attributes\":{},\"id\":\"f724cf7c-e5a0-49e8-93d4-56419cecab0a\",\"type\":\"ResetTool\"},{\"attributes\":{\"plot\":{\"id\":\"4df1326d-f406-4f1b-b658-402bd6241313\",\"subtype\":\"Figure\",\"type\":\"Plot\"},\"ticker\":{\"id\":\"0451ad9b-ccad-431e-ad91-e7acf2b54286\",\"type\":\"BasicTicker\"}},\"id\":\"f94a02a5-0a6d-4534-a957-15405d1964d9\",\"type\":\"Grid\"},{\"attributes\":{\"formatter\":{\"id\":\"1fad44ce-31b2-4406-8bb6-512d7a8349b0\",\"type\":\"BasicTickFormatter\"},\"plot\":{\"id\":\"4df1326d-f406-4f1b-b658-402bd6241313\",\"subtype\":\"Figure\",\"type\":\"Plot\"},\"ticker\":{\"id\":\"0451ad9b-ccad-431e-ad91-e7acf2b54286\",\"type\":\"BasicTicker\"}},\"id\":\"ceba4a4f-ddab-4ecc-adcd-8b52bb3b84f3\",\"type\":\"LinearAxis\"},{\"attributes\":{},\"id\":\"90d90aa1-27d5-482e-ab5b-e0399db5dc58\",\"type\":\"BasicTicker\"},{\"attributes\":{\"line_alpha\":0.1,\"line_color\":\"#1f77b4\",\"line_width\":2,\"x\":{\"field\":\"x\"},\"y\":{\"field\":\"y\"}},\"id\":\"8ef87462-ab74-4613-a91f-1dd74822c1f9\",\"type\":\"Line\"}],\"root_ids\":[\"4df1326d-f406-4f1b-b658-402bd6241313\"]},\"title\":\"Bokeh Application\",\"version\":\"0.12.13\"}};\n",
       "  var render_items = [{\"docid\":\"c9c67397-3652-4da1-a117-16b1d1b77678\",\"elementid\":\"1b7060e3-c23c-46fd-b5f5-5bd86a26fc27\",\"modelid\":\"4df1326d-f406-4f1b-b658-402bd6241313\"}];\n",
       "  root.Bokeh.embed.embed_items_notebook(docs_json, render_items);\n",
       "\n",
       "  }\n",
       "  if (root.Bokeh !== undefined) {\n",
       "    embed_document(root);\n",
       "  } else {\n",
       "    var attempts = 0;\n",
       "    var timer = setInterval(function(root) {\n",
       "      if (root.Bokeh !== undefined) {\n",
       "        embed_document(root);\n",
       "        clearInterval(timer);\n",
       "      }\n",
       "      attempts++;\n",
       "      if (attempts > 100) {\n",
       "        console.log(\"Bokeh: ERROR: Unable to run BokehJS code because BokehJS library is missing\")\n",
       "        clearInterval(timer);\n",
       "      }\n",
       "    }, 10, root)\n",
       "  }\n",
       "})(window);"
      ],
      "application/vnd.bokehjs_exec.v0+json": ""
     },
     "metadata": {
      "application/vnd.bokehjs_exec.v0+json": {
       "id": "4df1326d-f406-4f1b-b658-402bd6241313"
      }
     },
     "output_type": "display_data"
    }
   ],
   "source": [
    "# create a new plot (with a title) using figure\n",
    "p = figure(plot_width=400, plot_height=400, title=\"My Line Plot\")\n",
    "\n",
    "# add a line renderer\n",
    "p.line([1, 2, 3, 4, 5], [6, 7, 2, 4, 5], line_width=2)\n",
    "\n",
    "show(p) # show the results"
   ]
  },
  {
   "cell_type": "markdown",
   "metadata": {},
   "source": [
    "# Images"
   ]
  },
  {
   "cell_type": "markdown",
   "metadata": {},
   "source": [
    "The example below shows how to use the `image_rgba` method to display raw RGBA data. \n",
    "\n",
    "**Note**: This example makes use of the NumPy library "
   ]
  },
  {
   "cell_type": "code",
   "execution_count": 8,
   "metadata": {},
   "outputs": [
    {
     "data": {
      "text/html": [
       "\n",
       "<div class=\"bk-root\">\n",
       "    <div class=\"bk-plotdiv\" id=\"0ff28446-c4ed-43fa-846c-2bf9d274f16f\"></div>\n",
       "</div>"
      ]
     },
     "metadata": {},
     "output_type": "display_data"
    },
    {
     "data": {
      "application/javascript": [
       "(function(root) {\n",
       "  function embed_document(root) {\n",
       "    \n",
       "  var docs_json = {\"d05d7d0f-61b3-445e-a1aa-df8cb896d222\":{\"roots\":{\"references\":[{\"attributes\":{\"plot\":null,\"text\":\"\"},\"id\":\"a5f8d5aa-3095-4de7-80f1-dce60c6f447c\",\"type\":\"Title\"},{\"attributes\":{\"formatter\":{\"id\":\"19dc0646-ef6e-44a7-9a39-de6092b41fe1\",\"type\":\"BasicTickFormatter\"},\"plot\":{\"id\":\"bd47d8e8-8066-48ae-9b9f-bdef3b968cb6\",\"subtype\":\"Figure\",\"type\":\"Plot\"},\"ticker\":{\"id\":\"e5629597-7257-4ebe-9652-e7aa7c9324a4\",\"type\":\"BasicTicker\"}},\"id\":\"578393a2-7a9b-4f96-833b-eb32cd1d8f8e\",\"type\":\"LinearAxis\"},{\"attributes\":{},\"id\":\"b72c014b-e50e-42cd-a6ad-d9e506738ad2\",\"type\":\"BasicTickFormatter\"},{\"attributes\":{},\"id\":\"e5629597-7257-4ebe-9652-e7aa7c9324a4\",\"type\":\"BasicTicker\"},{\"attributes\":{\"dimension\":1,\"plot\":{\"id\":\"bd47d8e8-8066-48ae-9b9f-bdef3b968cb6\",\"subtype\":\"Figure\",\"type\":\"Plot\"},\"ticker\":{\"id\":\"e5629597-7257-4ebe-9652-e7aa7c9324a4\",\"type\":\"BasicTicker\"}},\"id\":\"f5964ec2-5ecd-41f6-8ab9-fbfa5d35b9dc\",\"type\":\"Grid\"},{\"attributes\":{\"dh\":{\"field\":\"dh\",\"units\":\"data\"},\"dw\":{\"field\":\"dw\",\"units\":\"data\"},\"image\":{\"field\":\"image\"},\"x\":{\"field\":\"x\"},\"y\":{\"field\":\"y\"}},\"id\":\"dfbad5c9-80be-418f-ae55-c4f35634605a\",\"type\":\"ImageRGBA\"},{\"attributes\":{\"dh\":{\"field\":\"dh\",\"units\":\"data\"},\"dw\":{\"field\":\"dw\",\"units\":\"data\"},\"image\":{\"field\":\"image\"},\"x\":{\"field\":\"x\"},\"y\":{\"field\":\"y\"}},\"id\":\"2efca84f-0652-423e-ab65-8f04e6b8fb1a\",\"type\":\"ImageRGBA\"},{\"attributes\":{\"callback\":null,\"column_names\":[\"image\",\"x\",\"y\",\"dw\",\"dh\"],\"data\":{\"dh\":[10],\"dw\":[10],\"image\":[{\"__ndarray__\":\"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\",\"dtype\":\"uint32\",\"shape\":[20,20]}],\"x\":[0],\"y\":[0]}},\"id\":\"0cd70d8d-84f1-43ad-8b7b-5506d5407d66\",\"type\":\"ColumnDataSource\"},{\"attributes\":{\"data_source\":{\"id\":\"0cd70d8d-84f1-43ad-8b7b-5506d5407d66\",\"type\":\"ColumnDataSource\"},\"glyph\":{\"id\":\"2efca84f-0652-423e-ab65-8f04e6b8fb1a\",\"type\":\"ImageRGBA\"},\"hover_glyph\":null,\"muted_glyph\":null,\"nonselection_glyph\":{\"id\":\"dfbad5c9-80be-418f-ae55-c4f35634605a\",\"type\":\"ImageRGBA\"},\"selection_glyph\":null,\"view\":{\"id\":\"1af20d6b-25b3-403f-bd31-12a38fe07efb\",\"type\":\"CDSView\"}},\"id\":\"385e3cf2-4134-461d-95de-7232a5c98cd0\",\"type\":\"GlyphRenderer\"},{\"attributes\":{\"bottom_units\":\"screen\",\"fill_alpha\":{\"value\":0.5},\"fill_color\":{\"value\":\"lightgrey\"},\"left_units\":\"screen\",\"level\":\"overlay\",\"line_alpha\":{\"value\":1.0},\"line_color\":{\"value\":\"black\"},\"line_dash\":[4,4],\"line_width\":{\"value\":2},\"plot\":null,\"render_mode\":\"css\",\"right_units\":\"screen\",\"top_units\":\"screen\"},\"id\":\"a002ebe8-7cb9-476c-91ce-7858d4efc0a3\",\"type\":\"BoxAnnotation\"},{\"attributes\":{\"below\":[{\"id\":\"c0387b17-73e7-4279-8045-ae3e87f0152d\",\"type\":\"LinearAxis\"}],\"left\":[{\"id\":\"578393a2-7a9b-4f96-833b-eb32cd1d8f8e\",\"type\":\"LinearAxis\"}],\"renderers\":[{\"id\":\"c0387b17-73e7-4279-8045-ae3e87f0152d\",\"type\":\"LinearAxis\"},{\"id\":\"7329a790-9534-4d3d-8c8e-e8e0396b0bfd\",\"type\":\"Grid\"},{\"id\":\"578393a2-7a9b-4f96-833b-eb32cd1d8f8e\",\"type\":\"LinearAxis\"},{\"id\":\"f5964ec2-5ecd-41f6-8ab9-fbfa5d35b9dc\",\"type\":\"Grid\"},{\"id\":\"a002ebe8-7cb9-476c-91ce-7858d4efc0a3\",\"type\":\"BoxAnnotation\"},{\"id\":\"385e3cf2-4134-461d-95de-7232a5c98cd0\",\"type\":\"GlyphRenderer\"}],\"title\":{\"id\":\"a5f8d5aa-3095-4de7-80f1-dce60c6f447c\",\"type\":\"Title\"},\"toolbar\":{\"id\":\"e452f56e-b2b4-47d7-bf4f-5eb05790734a\",\"type\":\"Toolbar\"},\"x_range\":{\"id\":\"4ffe4129-0740-4d95-970d-048dc0b865a3\",\"type\":\"Range1d\"},\"x_scale\":{\"id\":\"1e68135e-c2cb-427c-8f19-983565767dd4\",\"type\":\"LinearScale\"},\"y_range\":{\"id\":\"bdcd940b-7000-4946-b1f4-647ddaa78e87\",\"type\":\"Range1d\"},\"y_scale\":{\"id\":\"603b082a-817d-49b7-be89-99b344a8cb4e\",\"type\":\"LinearScale\"}},\"id\":\"bd47d8e8-8066-48ae-9b9f-bdef3b968cb6\",\"subtype\":\"Figure\",\"type\":\"Plot\"},{\"attributes\":{},\"id\":\"4cd1d7f7-3533-4799-9a57-2c29dab269a8\",\"type\":\"PanTool\"},{\"attributes\":{\"active_drag\":\"auto\",\"active_inspect\":\"auto\",\"active_scroll\":\"auto\",\"active_tap\":\"auto\",\"tools\":[{\"id\":\"4cd1d7f7-3533-4799-9a57-2c29dab269a8\",\"type\":\"PanTool\"},{\"id\":\"3954db37-e045-4a21-9db3-e1e375057ed6\",\"type\":\"WheelZoomTool\"},{\"id\":\"40cce847-cc22-419a-9d09-700368d26b0a\",\"type\":\"BoxZoomTool\"},{\"id\":\"382d3f74-3ec0-43d1-a046-6cfc1f12f76b\",\"type\":\"SaveTool\"},{\"id\":\"94b45124-b0e5-489a-a3e8-05fc7e3ac660\",\"type\":\"ResetTool\"},{\"id\":\"f2f97486-979a-481f-bfd9-8d52f4161882\",\"type\":\"HelpTool\"}]},\"id\":\"e452f56e-b2b4-47d7-bf4f-5eb05790734a\",\"type\":\"Toolbar\"},{\"attributes\":{\"source\":{\"id\":\"0cd70d8d-84f1-43ad-8b7b-5506d5407d66\",\"type\":\"ColumnDataSource\"}},\"id\":\"1af20d6b-25b3-403f-bd31-12a38fe07efb\",\"type\":\"CDSView\"},{\"attributes\":{\"callback\":null,\"end\":10},\"id\":\"4ffe4129-0740-4d95-970d-048dc0b865a3\",\"type\":\"Range1d\"},{\"attributes\":{},\"id\":\"3954db37-e045-4a21-9db3-e1e375057ed6\",\"type\":\"WheelZoomTool\"},{\"attributes\":{},\"id\":\"19dc0646-ef6e-44a7-9a39-de6092b41fe1\",\"type\":\"BasicTickFormatter\"},{\"attributes\":{\"overlay\":{\"id\":\"a002ebe8-7cb9-476c-91ce-7858d4efc0a3\",\"type\":\"BoxAnnotation\"}},\"id\":\"40cce847-cc22-419a-9d09-700368d26b0a\",\"type\":\"BoxZoomTool\"},{\"attributes\":{\"callback\":null,\"end\":10},\"id\":\"bdcd940b-7000-4946-b1f4-647ddaa78e87\",\"type\":\"Range1d\"},{\"attributes\":{},\"id\":\"382d3f74-3ec0-43d1-a046-6cfc1f12f76b\",\"type\":\"SaveTool\"},{\"attributes\":{},\"id\":\"1e68135e-c2cb-427c-8f19-983565767dd4\",\"type\":\"LinearScale\"},{\"attributes\":{},\"id\":\"94b45124-b0e5-489a-a3e8-05fc7e3ac660\",\"type\":\"ResetTool\"},{\"attributes\":{},\"id\":\"603b082a-817d-49b7-be89-99b344a8cb4e\",\"type\":\"LinearScale\"},{\"attributes\":{},\"id\":\"f2f97486-979a-481f-bfd9-8d52f4161882\",\"type\":\"HelpTool\"},{\"attributes\":{\"plot\":{\"id\":\"bd47d8e8-8066-48ae-9b9f-bdef3b968cb6\",\"subtype\":\"Figure\",\"type\":\"Plot\"},\"ticker\":{\"id\":\"02428f6a-9386-4e23-a52c-9154ea95dba2\",\"type\":\"BasicTicker\"}},\"id\":\"7329a790-9534-4d3d-8c8e-e8e0396b0bfd\",\"type\":\"Grid\"},{\"attributes\":{\"formatter\":{\"id\":\"b72c014b-e50e-42cd-a6ad-d9e506738ad2\",\"type\":\"BasicTickFormatter\"},\"plot\":{\"id\":\"bd47d8e8-8066-48ae-9b9f-bdef3b968cb6\",\"subtype\":\"Figure\",\"type\":\"Plot\"},\"ticker\":{\"id\":\"02428f6a-9386-4e23-a52c-9154ea95dba2\",\"type\":\"BasicTicker\"}},\"id\":\"c0387b17-73e7-4279-8045-ae3e87f0152d\",\"type\":\"LinearAxis\"},{\"attributes\":{},\"id\":\"02428f6a-9386-4e23-a52c-9154ea95dba2\",\"type\":\"BasicTicker\"}],\"root_ids\":[\"bd47d8e8-8066-48ae-9b9f-bdef3b968cb6\"]},\"title\":\"Bokeh Application\",\"version\":\"0.12.13\"}};\n",
       "  var render_items = [{\"docid\":\"d05d7d0f-61b3-445e-a1aa-df8cb896d222\",\"elementid\":\"0ff28446-c4ed-43fa-846c-2bf9d274f16f\",\"modelid\":\"bd47d8e8-8066-48ae-9b9f-bdef3b968cb6\"}];\n",
       "  root.Bokeh.embed.embed_items_notebook(docs_json, render_items);\n",
       "\n",
       "  }\n",
       "  if (root.Bokeh !== undefined) {\n",
       "    embed_document(root);\n",
       "  } else {\n",
       "    var attempts = 0;\n",
       "    var timer = setInterval(function(root) {\n",
       "      if (root.Bokeh !== undefined) {\n",
       "        embed_document(root);\n",
       "        clearInterval(timer);\n",
       "      }\n",
       "      attempts++;\n",
       "      if (attempts > 100) {\n",
       "        console.log(\"Bokeh: ERROR: Unable to run BokehJS code because BokehJS library is missing\")\n",
       "        clearInterval(timer);\n",
       "      }\n",
       "    }, 10, root)\n",
       "  }\n",
       "})(window);"
      ],
      "application/vnd.bokehjs_exec.v0+json": ""
     },
     "metadata": {
      "application/vnd.bokehjs_exec.v0+json": {
       "id": "bd47d8e8-8066-48ae-9b9f-bdef3b968cb6"
      }
     },
     "output_type": "display_data"
    }
   ],
   "source": [
    "from __future__ import division\n",
    "import numpy as np\n",
    "\n",
    "# set up some data\n",
    "N = 20\n",
    "img = np.empty((N,N), dtype=np.uint32)\n",
    "view = img.view(dtype=np.uint8).reshape((N, N, 4))\n",
    "for i in range(N):\n",
    "    for j in range(N):\n",
    "        view[i, j, 0] = int(i/N*255) # red\n",
    "        view[i, j, 1] = 158          # green\n",
    "        view[i, j, 2] = int(j/N*255) # blue\n",
    "        view[i, j, 3] = 255          # alpha\n",
    "        \n",
    "# create a new plot (with a fixed range) using figure\n",
    "p = figure(x_range=[0,10], y_range=[0,10])\n",
    "\n",
    "# add an RGBA image renderer\n",
    "p.image_rgba(image=[img], x=[0], y=[0], dw=[10], dh=[10])\n",
    "\n",
    "show(p) # show the results"
   ]
  },
  {
   "cell_type": "markdown",
   "metadata": {},
   "source": [
    "# Other Kinds of Glyphs\n",
    "\n",
    "Bokeh supports many other kinds of glyphs. You can click on the User Guide links below to see how to create plots with these glyphs using the [`bokeh.plotting`](http://bokeh.pydata.org/en/latest/docs/user_guide/plotting.html) interface.\n",
    "\n",
    "* [Rectangles and Ovals](http://bokeh.pydata.org/en/latest/docs/user_guide/plotting.html#rectangles-and-ovals)\n",
    "* [Segments and Rays](http://bokeh.pydata.org/en/latest/docs/user_guide/plotting.html#segments-and-rays)\n",
    "* [Wedges and Arcs](http://bokeh.pydata.org/en/latest/docs/user_guide/plotting.html#wedges-and-arcs)\n",
    "* [Specialized Curves](http://bokeh.pydata.org/en/latest/docs/user_guide/plotting.html#specialized-curves)\n"
   ]
  },
  {
   "cell_type": "code",
   "execution_count": 9,
   "metadata": {},
   "outputs": [],
   "source": [
    "# EXERCISE: Plot some of the other glyph types, following the examples in the User Guide. \n",
    "\n"
   ]
  },
  {
   "cell_type": "markdown",
   "metadata": {},
   "source": [
    "# Plots with Multiple Glyphs \n",
    "\n",
    "It is possible to combine more than one glyph on a single figure. You just need to call multiple glyph methods on one figure object:"
   ]
  },
  {
   "cell_type": "code",
   "execution_count": 10,
   "metadata": {},
   "outputs": [
    {
     "data": {
      "text/html": [
       "\n",
       "<div class=\"bk-root\">\n",
       "    <div class=\"bk-plotdiv\" id=\"f5922cd6-c004-4aae-8405-8d6123d26e50\"></div>\n",
       "</div>"
      ]
     },
     "metadata": {},
     "output_type": "display_data"
    },
    {
     "data": {
      "application/javascript": [
       "(function(root) {\n",
       "  function embed_document(root) {\n",
       "    \n",
       "  var docs_json = {\"15513356-37df-4289-a7b8-4301e6112749\":{\"roots\":{\"references\":[{\"attributes\":{\"bottom_units\":\"screen\",\"fill_alpha\":{\"value\":0.5},\"fill_color\":{\"value\":\"lightgrey\"},\"left_units\":\"screen\",\"level\":\"overlay\",\"line_alpha\":{\"value\":1.0},\"line_color\":{\"value\":\"black\"},\"line_dash\":[4,4],\"line_width\":{\"value\":2},\"plot\":null,\"render_mode\":\"css\",\"right_units\":\"screen\",\"top_units\":\"screen\"},\"id\":\"bc2eb65e-6734-4ad8-8c2c-7e33526c2912\",\"type\":\"BoxAnnotation\"},{\"attributes\":{},\"id\":\"ca233d5f-44a6-4b96-939c-287f2ee3bd98\",\"type\":\"SaveTool\"},{\"attributes\":{},\"id\":\"019f32b8-7cef-4357-9dd1-d040261efed1\",\"type\":\"ResetTool\"},{\"attributes\":{},\"id\":\"25e1a963-3b6f-4203-a746-354b89fc3a03\",\"type\":\"HelpTool\"},{\"attributes\":{},\"id\":\"21bb043b-6e74-41da-9add-4f90156c2f6c\",\"type\":\"BasicTickFormatter\"},{\"attributes\":{\"data_source\":{\"id\":\"d664f98c-4b03-45a7-bec8-535cd310b2c4\",\"type\":\"ColumnDataSource\"},\"glyph\":{\"id\":\"7243a3ef-c8d5-41b3-a811-057b58133659\",\"type\":\"Circle\"},\"hover_glyph\":null,\"muted_glyph\":null,\"nonselection_glyph\":{\"id\":\"3b1db871-d201-46ce-9398-6da24a5cde3b\",\"type\":\"Circle\"},\"selection_glyph\":null,\"view\":{\"id\":\"ce5b5ed9-7d7f-445c-a46f-cb14f3bbd0b0\",\"type\":\"CDSView\"}},\"id\":\"ee2060b9-af15-44eb-99c2-5ee11fe96d2b\",\"type\":\"GlyphRenderer\"},{\"attributes\":{\"source\":{\"id\":\"d664f98c-4b03-45a7-bec8-535cd310b2c4\",\"type\":\"ColumnDataSource\"}},\"id\":\"ce5b5ed9-7d7f-445c-a46f-cb14f3bbd0b0\",\"type\":\"CDSView\"},{\"attributes\":{},\"id\":\"b2fca7d4-3c78-467b-b241-84296f2c8072\",\"type\":\"PanTool\"},{\"attributes\":{},\"id\":\"13d9e9f5-5012-4c28-b4a8-e6d7d8742ee0\",\"type\":\"LinearScale\"},{\"attributes\":{\"data_source\":{\"id\":\"4f391d73-0ad9-4d1e-ac51-6eb1fa7934a4\",\"type\":\"ColumnDataSource\"},\"glyph\":{\"id\":\"c782f674-f4e5-4048-8561-4c35d8cbe605\",\"type\":\"Line\"},\"hover_glyph\":null,\"muted_glyph\":null,\"nonselection_glyph\":{\"id\":\"f706402f-0746-4f63-9e8f-ccfc950cad1f\",\"type\":\"Line\"},\"selection_glyph\":null,\"view\":{\"id\":\"a8f7475b-6e41-40e8-8044-707accded9b1\",\"type\":\"CDSView\"}},\"id\":\"3fd77a7b-187a-41cc-9076-d1ae4b5480ae\",\"type\":\"GlyphRenderer\"},{\"attributes\":{\"fill_alpha\":{\"value\":0.1},\"fill_color\":{\"value\":\"#1f77b4\"},\"line_alpha\":{\"value\":0.1},\"line_color\":{\"value\":\"#1f77b4\"},\"size\":{\"units\":\"screen\",\"value\":8},\"x\":{\"field\":\"x\"},\"y\":{\"field\":\"y\"}},\"id\":\"3b1db871-d201-46ce-9398-6da24a5cde3b\",\"type\":\"Circle\"},{\"attributes\":{\"plot\":{\"id\":\"ff09a235-b920-4594-8fc7-761b6451e7b0\",\"subtype\":\"Figure\",\"type\":\"Plot\"},\"ticker\":{\"id\":\"32ee48d7-9205-4e77-88bc-e88c4cc608fe\",\"type\":\"BasicTicker\"}},\"id\":\"2a5573e3-a8ec-4b51-9db0-cdc313ef7964\",\"type\":\"Grid\"},{\"attributes\":{\"source\":{\"id\":\"4f391d73-0ad9-4d1e-ac51-6eb1fa7934a4\",\"type\":\"ColumnDataSource\"}},\"id\":\"a8f7475b-6e41-40e8-8044-707accded9b1\",\"type\":\"CDSView\"},{\"attributes\":{\"callback\":null},\"id\":\"bc18883f-4684-45fc-86c0-fff2145f8487\",\"type\":\"DataRange1d\"},{\"attributes\":{},\"id\":\"32ee48d7-9205-4e77-88bc-e88c4cc608fe\",\"type\":\"BasicTicker\"},{\"attributes\":{\"callback\":null,\"column_names\":[\"x\",\"y\"],\"data\":{\"x\":[1,2,3,4,5],\"y\":[6,7,8,7,3]}},\"id\":\"4f391d73-0ad9-4d1e-ac51-6eb1fa7934a4\",\"type\":\"ColumnDataSource\"},{\"attributes\":{\"line_alpha\":0.1,\"line_color\":\"#1f77b4\",\"line_width\":2,\"x\":{\"field\":\"x\"},\"y\":{\"field\":\"y\"}},\"id\":\"f706402f-0746-4f63-9e8f-ccfc950cad1f\",\"type\":\"Line\"},{\"attributes\":{\"fill_color\":{\"value\":\"white\"},\"line_color\":{\"value\":\"#1f77b4\"},\"size\":{\"units\":\"screen\",\"value\":8},\"x\":{\"field\":\"x\"},\"y\":{\"field\":\"y\"}},\"id\":\"7243a3ef-c8d5-41b3-a811-057b58133659\",\"type\":\"Circle\"},{\"attributes\":{\"dimension\":1,\"plot\":{\"id\":\"ff09a235-b920-4594-8fc7-761b6451e7b0\",\"subtype\":\"Figure\",\"type\":\"Plot\"},\"ticker\":{\"id\":\"ace30c65-3b95-4c0d-bd64-1d274b2add77\",\"type\":\"BasicTicker\"}},\"id\":\"74564191-57c7-4695-817a-359280893000\",\"type\":\"Grid\"},{\"attributes\":{\"overlay\":{\"id\":\"bc2eb65e-6734-4ad8-8c2c-7e33526c2912\",\"type\":\"BoxAnnotation\"}},\"id\":\"95ab62bc-db7f-4a9e-be43-55de63462708\",\"type\":\"BoxZoomTool\"},{\"attributes\":{\"plot\":null,\"text\":\"\"},\"id\":\"5109fbe2-b111-40e5-8de7-3efae4a667f4\",\"type\":\"Title\"},{\"attributes\":{\"line_color\":\"#1f77b4\",\"line_width\":2,\"x\":{\"field\":\"x\"},\"y\":{\"field\":\"y\"}},\"id\":\"c782f674-f4e5-4048-8561-4c35d8cbe605\",\"type\":\"Line\"},{\"attributes\":{\"below\":[{\"id\":\"cbb3d155-1db7-40ca-b097-11a892718f22\",\"type\":\"LinearAxis\"}],\"left\":[{\"id\":\"ace2df8d-9135-445d-a52e-6dcd71baf568\",\"type\":\"LinearAxis\"}],\"plot_height\":400,\"plot_width\":400,\"renderers\":[{\"id\":\"cbb3d155-1db7-40ca-b097-11a892718f22\",\"type\":\"LinearAxis\"},{\"id\":\"2a5573e3-a8ec-4b51-9db0-cdc313ef7964\",\"type\":\"Grid\"},{\"id\":\"ace2df8d-9135-445d-a52e-6dcd71baf568\",\"type\":\"LinearAxis\"},{\"id\":\"74564191-57c7-4695-817a-359280893000\",\"type\":\"Grid\"},{\"id\":\"bc2eb65e-6734-4ad8-8c2c-7e33526c2912\",\"type\":\"BoxAnnotation\"},{\"id\":\"3fd77a7b-187a-41cc-9076-d1ae4b5480ae\",\"type\":\"GlyphRenderer\"},{\"id\":\"ee2060b9-af15-44eb-99c2-5ee11fe96d2b\",\"type\":\"GlyphRenderer\"}],\"title\":{\"id\":\"5109fbe2-b111-40e5-8de7-3efae4a667f4\",\"type\":\"Title\"},\"toolbar\":{\"id\":\"50976f01-7654-4ebf-824d-ce68809a8b30\",\"type\":\"Toolbar\"},\"x_range\":{\"id\":\"2884d523-0b14-4ab7-a4e4-f09673164e21\",\"type\":\"DataRange1d\"},\"x_scale\":{\"id\":\"8cb3c79c-42d0-46d4-8031-3f618b0cac64\",\"type\":\"LinearScale\"},\"y_range\":{\"id\":\"bc18883f-4684-45fc-86c0-fff2145f8487\",\"type\":\"DataRange1d\"},\"y_scale\":{\"id\":\"13d9e9f5-5012-4c28-b4a8-e6d7d8742ee0\",\"type\":\"LinearScale\"}},\"id\":\"ff09a235-b920-4594-8fc7-761b6451e7b0\",\"subtype\":\"Figure\",\"type\":\"Plot\"},{\"attributes\":{\"callback\":null,\"column_names\":[\"x\",\"y\"],\"data\":{\"x\":[1,2,3,4,5],\"y\":[6,7,8,7,3]}},\"id\":\"d664f98c-4b03-45a7-bec8-535cd310b2c4\",\"type\":\"ColumnDataSource\"},{\"attributes\":{},\"id\":\"8cb3c79c-42d0-46d4-8031-3f618b0cac64\",\"type\":\"LinearScale\"},{\"attributes\":{},\"id\":\"ace30c65-3b95-4c0d-bd64-1d274b2add77\",\"type\":\"BasicTicker\"},{\"attributes\":{\"active_drag\":\"auto\",\"active_inspect\":\"auto\",\"active_scroll\":\"auto\",\"active_tap\":\"auto\",\"tools\":[{\"id\":\"b2fca7d4-3c78-467b-b241-84296f2c8072\",\"type\":\"PanTool\"},{\"id\":\"c9c3c429-db19-4cc6-bf28-bdc3fc847ffe\",\"type\":\"WheelZoomTool\"},{\"id\":\"95ab62bc-db7f-4a9e-be43-55de63462708\",\"type\":\"BoxZoomTool\"},{\"id\":\"ca233d5f-44a6-4b96-939c-287f2ee3bd98\",\"type\":\"SaveTool\"},{\"id\":\"019f32b8-7cef-4357-9dd1-d040261efed1\",\"type\":\"ResetTool\"},{\"id\":\"25e1a963-3b6f-4203-a746-354b89fc3a03\",\"type\":\"HelpTool\"}]},\"id\":\"50976f01-7654-4ebf-824d-ce68809a8b30\",\"type\":\"Toolbar\"},{\"attributes\":{},\"id\":\"c9c3c429-db19-4cc6-bf28-bdc3fc847ffe\",\"type\":\"WheelZoomTool\"},{\"attributes\":{\"formatter\":{\"id\":\"21bb043b-6e74-41da-9add-4f90156c2f6c\",\"type\":\"BasicTickFormatter\"},\"plot\":{\"id\":\"ff09a235-b920-4594-8fc7-761b6451e7b0\",\"subtype\":\"Figure\",\"type\":\"Plot\"},\"ticker\":{\"id\":\"ace30c65-3b95-4c0d-bd64-1d274b2add77\",\"type\":\"BasicTicker\"}},\"id\":\"ace2df8d-9135-445d-a52e-6dcd71baf568\",\"type\":\"LinearAxis\"},{\"attributes\":{\"callback\":null},\"id\":\"2884d523-0b14-4ab7-a4e4-f09673164e21\",\"type\":\"DataRange1d\"},{\"attributes\":{},\"id\":\"cc1cd8e2-10aa-4d03-86c4-962eceebb53c\",\"type\":\"BasicTickFormatter\"},{\"attributes\":{\"formatter\":{\"id\":\"cc1cd8e2-10aa-4d03-86c4-962eceebb53c\",\"type\":\"BasicTickFormatter\"},\"plot\":{\"id\":\"ff09a235-b920-4594-8fc7-761b6451e7b0\",\"subtype\":\"Figure\",\"type\":\"Plot\"},\"ticker\":{\"id\":\"32ee48d7-9205-4e77-88bc-e88c4cc608fe\",\"type\":\"BasicTicker\"}},\"id\":\"cbb3d155-1db7-40ca-b097-11a892718f22\",\"type\":\"LinearAxis\"}],\"root_ids\":[\"ff09a235-b920-4594-8fc7-761b6451e7b0\"]},\"title\":\"Bokeh Application\",\"version\":\"0.12.13\"}};\n",
       "  var render_items = [{\"docid\":\"15513356-37df-4289-a7b8-4301e6112749\",\"elementid\":\"f5922cd6-c004-4aae-8405-8d6123d26e50\",\"modelid\":\"ff09a235-b920-4594-8fc7-761b6451e7b0\"}];\n",
       "  root.Bokeh.embed.embed_items_notebook(docs_json, render_items);\n",
       "\n",
       "  }\n",
       "  if (root.Bokeh !== undefined) {\n",
       "    embed_document(root);\n",
       "  } else {\n",
       "    var attempts = 0;\n",
       "    var timer = setInterval(function(root) {\n",
       "      if (root.Bokeh !== undefined) {\n",
       "        embed_document(root);\n",
       "        clearInterval(timer);\n",
       "      }\n",
       "      attempts++;\n",
       "      if (attempts > 100) {\n",
       "        console.log(\"Bokeh: ERROR: Unable to run BokehJS code because BokehJS library is missing\")\n",
       "        clearInterval(timer);\n",
       "      }\n",
       "    }, 10, root)\n",
       "  }\n",
       "})(window);"
      ],
      "application/vnd.bokehjs_exec.v0+json": ""
     },
     "metadata": {
      "application/vnd.bokehjs_exec.v0+json": {
       "id": "ff09a235-b920-4594-8fc7-761b6451e7b0"
      }
     },
     "output_type": "display_data"
    }
   ],
   "source": [
    "# set up some data\n",
    "x = [1, 2, 3, 4, 5]\n",
    "y = [6, 7, 8, 7, 3]\n",
    "\n",
    "# create a new plot with figure\n",
    "p = figure(plot_width=400, plot_height=400)\n",
    "\n",
    "# add both a line and circles on the same plot\n",
    "p.line(x, y, line_width=2)\n",
    "p.circle(x, y, fill_color=\"white\", size=8)\n",
    "\n",
    "show(p) # show the results"
   ]
  },
  {
   "cell_type": "code",
   "execution_count": 11,
   "metadata": {
    "collapsed": true
   },
   "outputs": [],
   "source": [
    "# EXERCISE: create your own plot combining multiple glyphs together\n",
    "\n"
   ]
  }
 ],
 "metadata": {
  "anaconda-cloud": {},
  "kernelspec": {
   "display_name": "Python 3",
   "language": "python",
   "name": "python3"
  },
  "language_info": {
   "codemirror_mode": {
    "name": "ipython",
    "version": 3
   },
   "file_extension": ".py",
   "mimetype": "text/x-python",
   "name": "python",
   "nbconvert_exporter": "python",
   "pygments_lexer": "ipython3",
   "version": "3.6.3"
  }
 },
 "nbformat": 4,
 "nbformat_minor": 1
}
