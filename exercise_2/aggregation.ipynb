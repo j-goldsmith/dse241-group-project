{
 "cells": [
  {
   "cell_type": "code",
   "execution_count": 1,
   "metadata": {
    "collapsed": true
   },
   "outputs": [],
   "source": [
    "import pandas as pd"
   ]
  },
  {
   "cell_type": "code",
   "execution_count": 2,
   "metadata": {
    "collapsed": true
   },
   "outputs": [],
   "source": [
    "df = pd.read_csv('exercise2-olympics.csv')"
   ]
  },
  {
   "cell_type": "code",
   "execution_count": 12,
   "metadata": {
    "collapsed": false,
    "scrolled": true
   },
   "outputs": [],
   "source": [
    "grp_df=df.groupby(['Country','Year','Gender','Medal']).count()['City'].reset_index()"
   ]
  },
  {
   "cell_type": "code",
   "execution_count": 13,
   "metadata": {
    "collapsed": false
   },
   "outputs": [
    {
     "data": {
      "text/html": [
       "<div>\n",
       "<style scoped>\n",
       "    .dataframe tbody tr th:only-of-type {\n",
       "        vertical-align: middle;\n",
       "    }\n",
       "\n",
       "    .dataframe tbody tr th {\n",
       "        vertical-align: top;\n",
       "    }\n",
       "\n",
       "    .dataframe thead th {\n",
       "        text-align: right;\n",
       "    }\n",
       "</style>\n",
       "<table border=\"1\" class=\"dataframe\">\n",
       "  <thead>\n",
       "    <tr style=\"text-align: right;\">\n",
       "      <th></th>\n",
       "      <th>Country</th>\n",
       "      <th>Year</th>\n",
       "      <th>Gender</th>\n",
       "      <th>Medal</th>\n",
       "      <th>City</th>\n",
       "    </tr>\n",
       "  </thead>\n",
       "  <tbody>\n",
       "    <tr>\n",
       "      <th>0</th>\n",
       "      <td>Australia</td>\n",
       "      <td>1994</td>\n",
       "      <td>M</td>\n",
       "      <td>Bronze</td>\n",
       "      <td>1</td>\n",
       "    </tr>\n",
       "    <tr>\n",
       "      <th>1</th>\n",
       "      <td>Australia</td>\n",
       "      <td>1998</td>\n",
       "      <td>W</td>\n",
       "      <td>Bronze</td>\n",
       "      <td>1</td>\n",
       "    </tr>\n",
       "    <tr>\n",
       "      <th>2</th>\n",
       "      <td>Australia</td>\n",
       "      <td>2002</td>\n",
       "      <td>M</td>\n",
       "      <td>Gold</td>\n",
       "      <td>1</td>\n",
       "    </tr>\n",
       "    <tr>\n",
       "      <th>3</th>\n",
       "      <td>Australia</td>\n",
       "      <td>2002</td>\n",
       "      <td>W</td>\n",
       "      <td>Gold</td>\n",
       "      <td>1</td>\n",
       "    </tr>\n",
       "    <tr>\n",
       "      <th>4</th>\n",
       "      <td>Australia</td>\n",
       "      <td>2006</td>\n",
       "      <td>M</td>\n",
       "      <td>Gold</td>\n",
       "      <td>1</td>\n",
       "    </tr>\n",
       "  </tbody>\n",
       "</table>\n",
       "</div>"
      ],
      "text/plain": [
       "     Country  Year Gender   Medal  City\n",
       "0  Australia  1994      M  Bronze     1\n",
       "1  Australia  1998      W  Bronze     1\n",
       "2  Australia  2002      M    Gold     1\n",
       "3  Australia  2002      W    Gold     1\n",
       "4  Australia  2006      M    Gold     1"
      ]
     },
     "execution_count": 13,
     "metadata": {},
     "output_type": "execute_result"
    }
   ],
   "source": [
    "grp_df.head()"
   ]
  },
  {
   "cell_type": "code",
   "execution_count": 17,
   "metadata": {
    "collapsed": false
   },
   "outputs": [
    {
     "data": {
      "text/plain": [
       "array(['Australia', 'Austria', 'Belarus', 'Belgium', 'Bulgaria', 'Canada',\n",
       "       'China', 'Croatia', 'Czech Republic', 'Czechoslovakia', 'Denmark',\n",
       "       'East Germany', 'Estonia', 'Finland', 'France', 'Germany',\n",
       "       'Hungary', 'Italy', 'Japan', 'Kazakhstan', 'Korea, North',\n",
       "       'Korea, South', 'Latvia', 'Liechtenstein', 'Luxembourg',\n",
       "       'Netherlands', 'New Zealand', 'Norway', 'Poland', 'Romania',\n",
       "       'Russia', 'Slovakia', 'Slovenia', 'Soviet Union', 'Spain',\n",
       "       'Sweden', 'Switzerland', 'Ukraine', 'Unified Team',\n",
       "       'Unified Team of Germany', 'United Kingdom', 'United States',\n",
       "       'Uzbekistan', 'West Germany', 'Yugoslavia'], dtype=object)"
      ]
     },
     "execution_count": 17,
     "metadata": {},
     "output_type": "execute_result"
    }
   ],
   "source": [
    "grp_df.Country.unique()"
   ]
  },
  {
   "cell_type": "code",
   "execution_count": 34,
   "metadata": {
    "collapsed": false
   },
   "outputs": [],
   "source": [
    "def get_medList(df):\n",
    "    medLis=[]\n",
    "    l=df.Medal.unique()\n",
    "    if 'Gold' in l:\n",
    "        medLis.append(df[df['Medal']=='Gold']['City'].values[0])\n",
    "    else:\n",
    "        medLis.append(0)\n",
    "    if 'Silver' in l:\n",
    "        medLis.append(df[df['Medal']=='Silver']['City'].values[0])\n",
    "    else:\n",
    "        medLis.append(0)\n",
    "    if 'Bronze' in l:\n",
    "        medLis.append(df[df['Medal']=='Bronze']['City'].values[0])\n",
    "    else:\n",
    "        medLis.append(0)\n",
    "    return medLis"
   ]
  },
  {
   "cell_type": "code",
   "execution_count": 35,
   "metadata": {
    "collapsed": true
   },
   "outputs": [],
   "source": [
    "def get_medalCounts(df):\n",
    "    medCountLis=[]\n",
    "    for y in df.Year.unique():\n",
    "        d={}\n",
    "        d['Year']=y\n",
    "        d['men']=get_medList(df[(df['Year']==y) & (df['Gender']=='M')])\n",
    "        d['women']=get_medList(df[(df['Year']==y) & (df['Gender']=='F')])\n",
    "        d['x']=get_medList(df[(df['Year']==y) & (df['Gender']=='X')])\n",
    "        medCountLis.append(d)\n",
    "    return medCountLis"
   ]
  },
  {
   "cell_type": "code",
   "execution_count": 45,
   "metadata": {
    "collapsed": false
   },
   "outputs": [],
   "source": [
    "def create_json(df):\n",
    "    lis=[]\n",
    "    for c in df.Country.unique():\n",
    "        #print (c)\n",
    "        d={}\n",
    "        d['country']=c\n",
    "        d['medalCounts']=get_medalCounts(df[df['Country']==c])\n",
    "        if c in ['']\n",
    "        lis.append(d)\n",
    "    return lis"
   ]
  },
  {
   "cell_type": "code",
   "execution_count": 47,
   "metadata": {
    "collapsed": false
   },
   "outputs": [],
   "source": [
    "data_json=create_json(grp_df)"
   ]
  },
  {
   "cell_type": "code",
   "execution_count": 50,
   "metadata": {
    "collapsed": false
   },
   "outputs": [
    {
     "data": {
      "text/plain": [
       "{'country': 'Australia',\n",
       " 'medalCounts': [{'Year': 1994,\n",
       "   'men': [0, 0, 1],\n",
       "   'women': [0, 0, 0],\n",
       "   'x': [0, 0, 0]},\n",
       "  {'Year': 1998, 'men': [0, 0, 0], 'women': [0, 0, 0], 'x': [0, 0, 0]},\n",
       "  {'Year': 2002, 'men': [1, 0, 0], 'women': [0, 0, 0], 'x': [0, 0, 0]},\n",
       "  {'Year': 2006, 'men': [1, 0, 0], 'women': [0, 0, 0], 'x': [0, 0, 0]}]}"
      ]
     },
     "execution_count": 50,
     "metadata": {},
     "output_type": "execute_result"
    }
   ],
   "source": [
    "for i in range(len(data_json)):\n",
    "    if i['country'] == 'Russia':"
   ]
  },
  {
   "cell_type": "code",
   "execution_count": null,
   "metadata": {
    "collapsed": true
   },
   "outputs": [],
   "source": [
    ""
   ]
  }
 ],
 "metadata": {
  "anaconda-cloud": {},
  "kernelspec": {
   "display_name": "Python [py36]",
   "language": "python",
   "name": "Python [py36]"
  },
  "language_info": {
   "codemirror_mode": {
    "name": "ipython",
    "version": 3.0
   },
   "file_extension": ".py",
   "mimetype": "text/x-python",
   "name": "python",
   "nbconvert_exporter": "python",
   "pygments_lexer": "ipython3",
   "version": "3.6.3"
  }
 },
 "nbformat": 4,
 "nbformat_minor": 0
}