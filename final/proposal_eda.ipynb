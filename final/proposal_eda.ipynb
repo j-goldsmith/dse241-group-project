{
 "cells": [
  {
   "cell_type": "code",
   "execution_count": 12,
   "metadata": {
    "collapsed": true
   },
   "outputs": [],
   "source": [
    "import pandas as pd\n",
    "import urllib.request, shutil\n",
    "import matplotlib.pyplot as plt\n",
    "\n",
    "file_name = 'h1b_kaggle.csv.zip'"
   ]
  },
  {
   "cell_type": "code",
   "execution_count": 15,
   "metadata": {
    "collapsed": true
   },
   "outputs": [],
   "source": [
    "#download linwill work until 2/1 8:30pm\n",
    "data_url = 'https://www.dropbox.com/s/vskdu9hai16yj4m/h1b_kaggle.csv.zip'\n",
    "\n",
    "with urllib.request.urlopen(data_url) as response, open(file_name, 'wb') as out_file:\n",
    "    shutil.copyfileobj(response, out_file)"
   ]
  },
  {
   "cell_type": "code",
   "execution_count": 7,
   "metadata": {
    "collapsed": true
   },
   "outputs": [],
   "source": [
    "df = pd.read_csv(file_name)\n",
    "df.head()"
   ]
  },
  {
   "cell_type": "code",
   "execution_count": 8,
   "metadata": {},
   "outputs": [
    {
     "data": {
      "text/plain": [
       "Unnamed: 0            3002458\nCASE_STATUS           3002445\nEMPLOYER_NAME         3002399\nSOC_NAME              2984724\nJOB_TITLE             3002415\nFULL_TIME_POSITION    3002443\nPREVAILING_WAGE       3002373\nYEAR                  3002445\nWORKSITE              3002458\nlon                   2895216\nlat                   2895216\ndtype: int64"
      ]
     },
     "execution_count": 8,
     "metadata": {},
     "output_type": "execute_result"
    }
   ],
   "source": [
    "df.count()"
   ]
  },
  {
   "cell_type": "code",
   "execution_count": 9,
   "metadata": {},
   "outputs": [
    {
     "data": {
      "text/plain": [
       "Unnamed: 0            2877765\nCASE_STATUS           2877765\nEMPLOYER_NAME         2877765\nSOC_NAME              2877765\nJOB_TITLE             2877765\nFULL_TIME_POSITION    2877765\nPREVAILING_WAGE       2877765\nYEAR                  2877765\nWORKSITE              2877765\nlon                   2877765\nlat                   2877765\ndtype: int64"
      ]
     },
     "execution_count": 9,
     "metadata": {},
     "output_type": "execute_result"
    }
   ],
   "source": [
    "df_not_null = df.dropna()\n",
    "df_not_null.count()"
   ]
  },
  {
   "cell_type": "code",
   "execution_count": 10,
   "metadata": {},
   "outputs": [
    {
     "data": {
      "text/html": [
       "<div>\n",
       "<style scoped>\n",
       "    .dataframe tbody tr th:only-of-type {\n",
       "        vertical-align: middle;\n",
       "    }\n",
       "\n",
       "    .dataframe tbody tr th {\n",
       "        vertical-align: top;\n",
       "    }\n",
       "\n",
       "    .dataframe thead th {\n",
       "        text-align: right;\n",
       "    }\n",
       "</style>\n",
       "<table border=\"1\" class=\"dataframe\">\n",
       "  <thead>\n",
       "    <tr style=\"text-align: right;\">\n",
       "      <th></th>\n",
       "      <th>Unnamed: 0</th>\n",
       "      <th>CASE_STATUS</th>\n",
       "      <th>EMPLOYER_NAME</th>\n",
       "      <th>SOC_NAME</th>\n",
       "      <th>JOB_TITLE</th>\n",
       "      <th>FULL_TIME_POSITION</th>\n",
       "      <th>PREVAILING_WAGE</th>\n",
       "      <th>WORKSITE</th>\n",
       "      <th>lon</th>\n",
       "      <th>lat</th>\n",
       "    </tr>\n",
       "    <tr>\n",
       "      <th>YEAR</th>\n",
       "      <th></th>\n",
       "      <th></th>\n",
       "      <th></th>\n",
       "      <th></th>\n",
       "      <th></th>\n",
       "      <th></th>\n",
       "      <th></th>\n",
       "      <th></th>\n",
       "      <th></th>\n",
       "      <th></th>\n",
       "    </tr>\n",
       "  </thead>\n",
       "  <tbody>\n",
       "    <tr>\n",
       "      <th>2011.0</th>\n",
       "      <td>333625</td>\n",
       "      <td>333625</td>\n",
       "      <td>333625</td>\n",
       "      <td>333625</td>\n",
       "      <td>333625</td>\n",
       "      <td>333625</td>\n",
       "      <td>333625</td>\n",
       "      <td>333625</td>\n",
       "      <td>333625</td>\n",
       "      <td>333625</td>\n",
       "    </tr>\n",
       "    <tr>\n",
       "      <th>2012.0</th>\n",
       "      <td>394267</td>\n",
       "      <td>394267</td>\n",
       "      <td>394267</td>\n",
       "      <td>394267</td>\n",
       "      <td>394267</td>\n",
       "      <td>394267</td>\n",
       "      <td>394267</td>\n",
       "      <td>394267</td>\n",
       "      <td>394267</td>\n",
       "      <td>394267</td>\n",
       "    </tr>\n",
       "    <tr>\n",
       "      <th>2013.0</th>\n",
       "      <td>422427</td>\n",
       "      <td>422427</td>\n",
       "      <td>422427</td>\n",
       "      <td>422427</td>\n",
       "      <td>422427</td>\n",
       "      <td>422427</td>\n",
       "      <td>422427</td>\n",
       "      <td>422427</td>\n",
       "      <td>422427</td>\n",
       "      <td>422427</td>\n",
       "    </tr>\n",
       "    <tr>\n",
       "      <th>2014.0</th>\n",
       "      <td>498027</td>\n",
       "      <td>498027</td>\n",
       "      <td>498027</td>\n",
       "      <td>498027</td>\n",
       "      <td>498027</td>\n",
       "      <td>498027</td>\n",
       "      <td>498027</td>\n",
       "      <td>498027</td>\n",
       "      <td>498027</td>\n",
       "      <td>498027</td>\n",
       "    </tr>\n",
       "    <tr>\n",
       "      <th>2015.0</th>\n",
       "      <td>600120</td>\n",
       "      <td>600120</td>\n",
       "      <td>600120</td>\n",
       "      <td>600120</td>\n",
       "      <td>600120</td>\n",
       "      <td>600120</td>\n",
       "      <td>600120</td>\n",
       "      <td>600120</td>\n",
       "      <td>600120</td>\n",
       "      <td>600120</td>\n",
       "    </tr>\n",
       "    <tr>\n",
       "      <th>2016.0</th>\n",
       "      <td>629299</td>\n",
       "      <td>629299</td>\n",
       "      <td>629299</td>\n",
       "      <td>629299</td>\n",
       "      <td>629299</td>\n",
       "      <td>629299</td>\n",
       "      <td>629299</td>\n",
       "      <td>629299</td>\n",
       "      <td>629299</td>\n",
       "      <td>629299</td>\n",
       "    </tr>\n",
       "  </tbody>\n",
       "</table>\n",
       "</div>"
      ],
      "text/plain": [
       "<div>\n",
       "<style scoped>\n",
       "    .dataframe tbody tr th:only-of-type {\n",
       "        vertical-align: middle;\n",
       "    }\n",
       "\n",
       "    .dataframe tbody tr th {\n",
       "        vertical-align: top;\n",
       "    }\n",
       "\n",
       "    .dataframe thead th {\n",
       "        text-align: right;\n",
       "    }\n",
       "</style>\n",
       "<table border=\"1\" class=\"dataframe\">\n",
       "  <thead>\n",
       "    <tr style=\"text-align: right;\">\n",
       "      <th></th>\n",
       "      <th>Unnamed: 0</th>\n",
       "      <th>CASE_STATUS</th>\n",
       "      <th>EMPLOYER_NAME</th>\n",
       "      <th>SOC_NAME</th>\n",
       "      <th>JOB_TITLE</th>\n",
       "      <th>FULL_TIME_POSITION</th>\n",
       "      <th>PREVAILING_WAGE</th>\n",
       "      <th>WORKSITE</th>\n",
       "      <th>lon</th>\n",
       "      <th>lat</th>\n",
       "    </tr>\n",
       "    <tr>\n",
       "      <th>YEAR</th>\n",
       "      <th></th>\n",
       "      <th></th>\n",
       "      <th></th>\n",
       "      <th></th>\n",
       "      <th></th>\n",
       "      <th></th>\n",
       "      <th></th>\n",
       "      <th></th>\n",
       "      <th></th>\n",
       "      <th></th>\n",
       "    </tr>\n",
       "  </thead>\n",
       "  <tbody>\n",
       "    <tr>\n",
       "      <th>2011.0</th>\n",
       "      <td>333625</td>\n",
       "      <td>333625</td>\n",
       "      <td>333625</td>\n",
       "      <td>333625</td>\n",
       "      <td>333625</td>\n",
       "      <td>333625</td>\n",
       "      <td>333625</td>\n",
       "      <td>333625</td>\n",
       "      <td>333625</td>\n",
       "      <td>333625</td>\n",
       "    </tr>\n",
       "    <tr>\n",
       "      <th>2012.0</th>\n",
       "      <td>394267</td>\n",
       "      <td>394267</td>\n",
       "      <td>394267</td>\n",
       "      <td>394267</td>\n",
       "      <td>394267</td>\n",
       "      <td>394267</td>\n",
       "      <td>394267</td>\n",
       "      <td>394267</td>\n",
       "      <td>394267</td>\n",
       "      <td>394267</td>\n",
       "    </tr>\n",
       "    <tr>\n",
       "      <th>2013.0</th>\n",
       "      <td>422427</td>\n",
       "      <td>422427</td>\n",
       "      <td>422427</td>\n",
       "      <td>422427</td>\n",
       "      <td>422427</td>\n",
       "      <td>422427</td>\n",
       "      <td>422427</td>\n",
       "      <td>422427</td>\n",
       "      <td>422427</td>\n",
       "      <td>422427</td>\n",
       "    </tr>\n",
       "    <tr>\n",
       "      <th>2014.0</th>\n",
       "      <td>498027</td>\n",
       "      <td>498027</td>\n",
       "      <td>498027</td>\n",
       "      <td>498027</td>\n",
       "      <td>498027</td>\n",
       "      <td>498027</td>\n",
       "      <td>498027</td>\n",
       "      <td>498027</td>\n",
       "      <td>498027</td>\n",
       "      <td>498027</td>\n",
       "    </tr>\n",
       "    <tr>\n",
       "      <th>2015.0</th>\n",
       "      <td>600120</td>\n",
       "      <td>600120</td>\n",
       "      <td>600120</td>\n",
       "      <td>600120</td>\n",
       "      <td>600120</td>\n",
       "      <td>600120</td>\n",
       "      <td>600120</td>\n",
       "      <td>600120</td>\n",
       "      <td>600120</td>\n",
       "      <td>600120</td>\n",
       "    </tr>\n",
       "    <tr>\n",
       "      <th>2016.0</th>\n",
       "      <td>629299</td>\n",
       "      <td>629299</td>\n",
       "      <td>629299</td>\n",
       "      <td>629299</td>\n",
       "      <td>629299</td>\n",
       "      <td>629299</td>\n",
       "      <td>629299</td>\n",
       "      <td>629299</td>\n",
       "      <td>629299</td>\n",
       "      <td>629299</td>\n",
       "    </tr>\n",
       "  </tbody>\n",
       "</table>\n",
       "</div>"
      ]
     },
     "execution_count": 10,
     "metadata": {},
     "output_type": "execute_result"
    }
   ],
   "source": [
    "df_not_null.groupby('YEAR').count()"
   ]
  },
  {
   "cell_type": "code",
   "execution_count": 14,
   "metadata": {},
   "outputs": [
    {
     "data": {
      "image/png": "[encoded data removed]",
      "text/plain": [
       "<matplotlib.figure.Figure at 0x22d8d802780>"
      ]
     },
     "metadata": {},
     "output_type": "display_data"
    }
   ],
   "source": [
    "df_not_null.hist()\n",
    "plt.show()"
   ]
  },
  {
   "cell_type": "code",
   "execution_count": null,
   "metadata": {},
   "outputs": [],
   "source": [
    ""
   ]
  }
 ],
 "metadata": {
  "kernelspec": {
   "display_name": "Python 2",
   "language": "python",
   "name": "python2"
  },
  "language_info": {
   "codemirror_mode": {
    "name": "ipython",
    "version": 2.0
   },
   "file_extension": ".py",
   "mimetype": "text/x-python",
   "name": "python",
   "nbconvert_exporter": "python",
   "pygments_lexer": "ipython2",
   "version": "2.7.6"
  }
 },
 "nbformat": 4,
 "nbformat_minor": 0
}